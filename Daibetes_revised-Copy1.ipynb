{
 "cells": [
  {
   "cell_type": "code",
   "execution_count": 2,
   "id": "2f0dbab3",
   "metadata": {},
   "outputs": [],
   "source": [
    "# import libraries\n",
    "import pandas as pd\n",
    "import numpy as np\n",
    "\n",
    "from sklearn.model_selection import train_test_split\n",
    "from sklearn.preprocessing import StandardScaler\n",
    "\n",
    "from sklearn.ensemble import RandomForestClassifier\n",
    "from sklearn.naive_bayes import GaussianNB\n",
    "\n",
    "from sklearn.metrics import accuracy_score, confusion_matrix, classification_report\n",
    "\n",
    "# to get rid of the warnings\n",
    "import warnings\n",
    "warnings.filterwarnings(\"ignore\")\n"
   ]
  },
  {
   "cell_type": "code",
   "execution_count": 3,
   "id": "70a1ef9e",
   "metadata": {},
   "outputs": [],
   "source": [
    "# load dataset\n",
    "diabetes = pd.read_csv('diabetes.csv')\n",
    "\n"
   ]
  },
  {
   "cell_type": "code",
   "execution_count": 4,
   "id": "ac82ee3d",
   "metadata": {},
   "outputs": [
    {
     "data": {
      "text/html": [
       "<div>\n",
       "<style scoped>\n",
       "    .dataframe tbody tr th:only-of-type {\n",
       "        vertical-align: middle;\n",
       "    }\n",
       "\n",
       "    .dataframe tbody tr th {\n",
       "        vertical-align: top;\n",
       "    }\n",
       "\n",
       "    .dataframe thead th {\n",
       "        text-align: right;\n",
       "    }\n",
       "</style>\n",
       "<table border=\"1\" class=\"dataframe\">\n",
       "  <thead>\n",
       "    <tr style=\"text-align: right;\">\n",
       "      <th></th>\n",
       "      <th>Pregnancies</th>\n",
       "      <th>Glucose</th>\n",
       "      <th>BloodPressure</th>\n",
       "      <th>SkinThickness</th>\n",
       "      <th>Insulin</th>\n",
       "      <th>BMI</th>\n",
       "      <th>DiabetesPedigreeFunction</th>\n",
       "      <th>Age</th>\n",
       "      <th>Outcome</th>\n",
       "    </tr>\n",
       "  </thead>\n",
       "  <tbody>\n",
       "    <tr>\n",
       "      <th>0</th>\n",
       "      <td>6</td>\n",
       "      <td>148</td>\n",
       "      <td>72</td>\n",
       "      <td>35</td>\n",
       "      <td>0</td>\n",
       "      <td>33.6</td>\n",
       "      <td>0.627</td>\n",
       "      <td>50</td>\n",
       "      <td>1</td>\n",
       "    </tr>\n",
       "    <tr>\n",
       "      <th>1</th>\n",
       "      <td>1</td>\n",
       "      <td>85</td>\n",
       "      <td>66</td>\n",
       "      <td>29</td>\n",
       "      <td>0</td>\n",
       "      <td>26.6</td>\n",
       "      <td>0.351</td>\n",
       "      <td>31</td>\n",
       "      <td>0</td>\n",
       "    </tr>\n",
       "    <tr>\n",
       "      <th>2</th>\n",
       "      <td>8</td>\n",
       "      <td>183</td>\n",
       "      <td>64</td>\n",
       "      <td>0</td>\n",
       "      <td>0</td>\n",
       "      <td>23.3</td>\n",
       "      <td>0.672</td>\n",
       "      <td>32</td>\n",
       "      <td>1</td>\n",
       "    </tr>\n",
       "    <tr>\n",
       "      <th>3</th>\n",
       "      <td>1</td>\n",
       "      <td>89</td>\n",
       "      <td>66</td>\n",
       "      <td>23</td>\n",
       "      <td>94</td>\n",
       "      <td>28.1</td>\n",
       "      <td>0.167</td>\n",
       "      <td>21</td>\n",
       "      <td>0</td>\n",
       "    </tr>\n",
       "    <tr>\n",
       "      <th>4</th>\n",
       "      <td>0</td>\n",
       "      <td>137</td>\n",
       "      <td>40</td>\n",
       "      <td>35</td>\n",
       "      <td>168</td>\n",
       "      <td>43.1</td>\n",
       "      <td>2.288</td>\n",
       "      <td>33</td>\n",
       "      <td>1</td>\n",
       "    </tr>\n",
       "  </tbody>\n",
       "</table>\n",
       "</div>"
      ],
      "text/plain": [
       "   Pregnancies  Glucose  BloodPressure  SkinThickness  Insulin   BMI  \\\n",
       "0            6      148             72             35        0  33.6   \n",
       "1            1       85             66             29        0  26.6   \n",
       "2            8      183             64              0        0  23.3   \n",
       "3            1       89             66             23       94  28.1   \n",
       "4            0      137             40             35      168  43.1   \n",
       "\n",
       "   DiabetesPedigreeFunction  Age  Outcome  \n",
       "0                     0.627   50        1  \n",
       "1                     0.351   31        0  \n",
       "2                     0.672   32        1  \n",
       "3                     0.167   21        0  \n",
       "4                     2.288   33        1  "
      ]
     },
     "execution_count": 4,
     "metadata": {},
     "output_type": "execute_result"
    }
   ],
   "source": [
    "diabetes.head()"
   ]
  },
  {
   "cell_type": "code",
   "execution_count": 5,
   "id": "72670c9b",
   "metadata": {},
   "outputs": [
    {
     "data": {
      "text/plain": [
       "(768, 9)"
      ]
     },
     "execution_count": 5,
     "metadata": {},
     "output_type": "execute_result"
    }
   ],
   "source": [
    "diabetes.shape"
   ]
  },
  {
   "cell_type": "code",
   "execution_count": 6,
   "id": "c2dd4712",
   "metadata": {},
   "outputs": [
    {
     "name": "stdout",
     "output_type": "stream",
     "text": [
      "<class 'pandas.core.frame.DataFrame'>\n",
      "RangeIndex: 768 entries, 0 to 767\n",
      "Data columns (total 9 columns):\n",
      " #   Column                    Non-Null Count  Dtype  \n",
      "---  ------                    --------------  -----  \n",
      " 0   Pregnancies               768 non-null    int64  \n",
      " 1   Glucose                   768 non-null    int64  \n",
      " 2   BloodPressure             768 non-null    int64  \n",
      " 3   SkinThickness             768 non-null    int64  \n",
      " 4   Insulin                   768 non-null    int64  \n",
      " 5   BMI                       768 non-null    float64\n",
      " 6   DiabetesPedigreeFunction  768 non-null    float64\n",
      " 7   Age                       768 non-null    int64  \n",
      " 8   Outcome                   768 non-null    int64  \n",
      "dtypes: float64(2), int64(7)\n",
      "memory usage: 54.1 KB\n"
     ]
    }
   ],
   "source": [
    "diabetes.info()"
   ]
  },
  {
   "cell_type": "code",
   "execution_count": 7,
   "id": "319396db",
   "metadata": {},
   "outputs": [
    {
     "name": "stdout",
     "output_type": "stream",
     "text": [
      "Index(['Pregnancies', 'Glucose', 'BloodPressure', 'SkinThickness', 'Insulin',\n",
      "       'BMI', 'DiabetesPedigreeFunction', 'Age', 'Outcome'],\n",
      "      dtype='object')\n",
      "9\n"
     ]
    }
   ],
   "source": [
    "print(diabetes.select_dtypes(include=['float64','int64']).columns) #Printing the Names on all the Numerical Columns\n",
    "print(len(diabetes.select_dtypes(include=['float64','int64']).columns)) #Printing the total number of Numerical Columns"
   ]
  },
  {
   "cell_type": "code",
   "execution_count": 8,
   "id": "28f1fb7e",
   "metadata": {},
   "outputs": [
    {
     "data": {
      "text/html": [
       "<div>\n",
       "<style scoped>\n",
       "    .dataframe tbody tr th:only-of-type {\n",
       "        vertical-align: middle;\n",
       "    }\n",
       "\n",
       "    .dataframe tbody tr th {\n",
       "        vertical-align: top;\n",
       "    }\n",
       "\n",
       "    .dataframe thead th {\n",
       "        text-align: right;\n",
       "    }\n",
       "</style>\n",
       "<table border=\"1\" class=\"dataframe\">\n",
       "  <thead>\n",
       "    <tr style=\"text-align: right;\">\n",
       "      <th></th>\n",
       "      <th>Pregnancies</th>\n",
       "      <th>Glucose</th>\n",
       "      <th>BloodPressure</th>\n",
       "      <th>SkinThickness</th>\n",
       "      <th>Insulin</th>\n",
       "      <th>BMI</th>\n",
       "      <th>DiabetesPedigreeFunction</th>\n",
       "      <th>Age</th>\n",
       "      <th>Outcome</th>\n",
       "    </tr>\n",
       "  </thead>\n",
       "  <tbody>\n",
       "    <tr>\n",
       "      <th>count</th>\n",
       "      <td>768.000000</td>\n",
       "      <td>768.000000</td>\n",
       "      <td>768.000000</td>\n",
       "      <td>768.000000</td>\n",
       "      <td>768.000000</td>\n",
       "      <td>768.000000</td>\n",
       "      <td>768.000000</td>\n",
       "      <td>768.000000</td>\n",
       "      <td>768.000000</td>\n",
       "    </tr>\n",
       "    <tr>\n",
       "      <th>mean</th>\n",
       "      <td>3.845052</td>\n",
       "      <td>120.894531</td>\n",
       "      <td>69.105469</td>\n",
       "      <td>20.536458</td>\n",
       "      <td>79.799479</td>\n",
       "      <td>31.992578</td>\n",
       "      <td>0.471876</td>\n",
       "      <td>33.240885</td>\n",
       "      <td>0.348958</td>\n",
       "    </tr>\n",
       "    <tr>\n",
       "      <th>std</th>\n",
       "      <td>3.369578</td>\n",
       "      <td>31.972618</td>\n",
       "      <td>19.355807</td>\n",
       "      <td>15.952218</td>\n",
       "      <td>115.244002</td>\n",
       "      <td>7.884160</td>\n",
       "      <td>0.331329</td>\n",
       "      <td>11.760232</td>\n",
       "      <td>0.476951</td>\n",
       "    </tr>\n",
       "    <tr>\n",
       "      <th>min</th>\n",
       "      <td>0.000000</td>\n",
       "      <td>0.000000</td>\n",
       "      <td>0.000000</td>\n",
       "      <td>0.000000</td>\n",
       "      <td>0.000000</td>\n",
       "      <td>0.000000</td>\n",
       "      <td>0.078000</td>\n",
       "      <td>21.000000</td>\n",
       "      <td>0.000000</td>\n",
       "    </tr>\n",
       "    <tr>\n",
       "      <th>25%</th>\n",
       "      <td>1.000000</td>\n",
       "      <td>99.000000</td>\n",
       "      <td>62.000000</td>\n",
       "      <td>0.000000</td>\n",
       "      <td>0.000000</td>\n",
       "      <td>27.300000</td>\n",
       "      <td>0.243750</td>\n",
       "      <td>24.000000</td>\n",
       "      <td>0.000000</td>\n",
       "    </tr>\n",
       "    <tr>\n",
       "      <th>50%</th>\n",
       "      <td>3.000000</td>\n",
       "      <td>117.000000</td>\n",
       "      <td>72.000000</td>\n",
       "      <td>23.000000</td>\n",
       "      <td>30.500000</td>\n",
       "      <td>32.000000</td>\n",
       "      <td>0.372500</td>\n",
       "      <td>29.000000</td>\n",
       "      <td>0.000000</td>\n",
       "    </tr>\n",
       "    <tr>\n",
       "      <th>75%</th>\n",
       "      <td>6.000000</td>\n",
       "      <td>140.250000</td>\n",
       "      <td>80.000000</td>\n",
       "      <td>32.000000</td>\n",
       "      <td>127.250000</td>\n",
       "      <td>36.600000</td>\n",
       "      <td>0.626250</td>\n",
       "      <td>41.000000</td>\n",
       "      <td>1.000000</td>\n",
       "    </tr>\n",
       "    <tr>\n",
       "      <th>max</th>\n",
       "      <td>17.000000</td>\n",
       "      <td>199.000000</td>\n",
       "      <td>122.000000</td>\n",
       "      <td>99.000000</td>\n",
       "      <td>846.000000</td>\n",
       "      <td>67.100000</td>\n",
       "      <td>2.420000</td>\n",
       "      <td>81.000000</td>\n",
       "      <td>1.000000</td>\n",
       "    </tr>\n",
       "  </tbody>\n",
       "</table>\n",
       "</div>"
      ],
      "text/plain": [
       "       Pregnancies     Glucose  BloodPressure  SkinThickness     Insulin  \\\n",
       "count   768.000000  768.000000     768.000000     768.000000  768.000000   \n",
       "mean      3.845052  120.894531      69.105469      20.536458   79.799479   \n",
       "std       3.369578   31.972618      19.355807      15.952218  115.244002   \n",
       "min       0.000000    0.000000       0.000000       0.000000    0.000000   \n",
       "25%       1.000000   99.000000      62.000000       0.000000    0.000000   \n",
       "50%       3.000000  117.000000      72.000000      23.000000   30.500000   \n",
       "75%       6.000000  140.250000      80.000000      32.000000  127.250000   \n",
       "max      17.000000  199.000000     122.000000      99.000000  846.000000   \n",
       "\n",
       "              BMI  DiabetesPedigreeFunction         Age     Outcome  \n",
       "count  768.000000                768.000000  768.000000  768.000000  \n",
       "mean    31.992578                  0.471876   33.240885    0.348958  \n",
       "std      7.884160                  0.331329   11.760232    0.476951  \n",
       "min      0.000000                  0.078000   21.000000    0.000000  \n",
       "25%     27.300000                  0.243750   24.000000    0.000000  \n",
       "50%     32.000000                  0.372500   29.000000    0.000000  \n",
       "75%     36.600000                  0.626250   41.000000    1.000000  \n",
       "max     67.100000                  2.420000   81.000000    1.000000  "
      ]
     },
     "execution_count": 8,
     "metadata": {},
     "output_type": "execute_result"
    }
   ],
   "source": [
    "diabetes.describe()"
   ]
  },
  {
   "cell_type": "code",
   "execution_count": 9,
   "id": "59237032",
   "metadata": {},
   "outputs": [
    {
     "name": "stdout",
     "output_type": "stream",
     "text": [
      "Total Missing Values from the whole data set are:  0\n",
      "Number of Columns with Missing Values are:  0\n",
      "Names of the Columns with Missing Values are:  Index([], dtype='object')\n"
     ]
    }
   ],
   "source": [
    "print(f'Total Missing Values from the whole data set are: ', diabetes.isnull().values.sum())  # Checking the total Null Values of the whole data set \n",
    "print(f'Number of Columns with Missing Values are: ', len(diabetes.columns[diabetes.isnull().any()])) #No of Columns with Missing Valeus\n",
    "print(f'Names of the Columns with Missing Values are: ', diabetes.columns[diabetes.isnull().any()]) #Checking the Name of the columns with null values"
   ]
  },
  {
   "cell_type": "code",
   "execution_count": 10,
   "id": "38fa8e43",
   "metadata": {},
   "outputs": [
    {
     "name": "stdout",
     "output_type": "stream",
     "text": [
      "There are  0  Null Values is the Dataset\n"
     ]
    }
   ],
   "source": [
    "print(f'There are ',diabetes.isnull().values.sum(), ' Null Values is the Dataset')"
   ]
  },
  {
   "cell_type": "code",
   "execution_count": 6,
   "id": "41fb5f2e",
   "metadata": {},
   "outputs": [
    {
     "data": {
      "image/png": "[encoded data removed]",
      "text/plain": [
       "<Figure size 640x480 with 1 Axes>"
      ]
     },
     "metadata": {},
     "output_type": "display_data"
    }
   ],
   "source": [
    "import matplotlib.pyplot as plt\n",
    "\n",
    "plt.hist(diabetes[\"Outcome\"]);\n",
    "plt.title(\"Outcome Distribution\");\n",
    "plt.xlabel(\"Outcome\")\n",
    "plt.ylabel(\"Frequency\");"
   ]
  },
  {
   "cell_type": "code",
   "execution_count": 12,
   "id": "6b71a20c",
   "metadata": {},
   "outputs": [
    {
     "data": {
      "text/plain": [
       "Outcome\n",
       "0    500\n",
       "1    268\n",
       "Name: count, dtype: int64"
      ]
     },
     "execution_count": 12,
     "metadata": {},
     "output_type": "execute_result"
    }
   ],
   "source": [
    "outcome = diabetes[\"Outcome\"]\n",
    "outcome.value_counts()"
   ]
  },
  {
   "cell_type": "code",
   "execution_count": 13,
   "id": "4df4ab32",
   "metadata": {},
   "outputs": [
    {
     "data": {
      "image/png": "[encoded data removed]",
      "text/plain": [
       "<Figure size 1000x800 with 1 Axes>"
      ]
     },
     "metadata": {},
     "output_type": "display_data"
    }
   ],
   "source": [
    "diabetes[\"Outcome\"].value_counts(normalize=True).plot(kind=\"pie\", legend=True, table=True, figsize=(10,8));"
   ]
  },
  {
   "cell_type": "code",
   "execution_count": 4,
   "id": "1221bf43",
   "metadata": {},
   "outputs": [
    {
     "data": {
      "text/html": [
       "<div>\n",
       "<style scoped>\n",
       "    .dataframe tbody tr th:only-of-type {\n",
       "        vertical-align: middle;\n",
       "    }\n",
       "\n",
       "    .dataframe tbody tr th {\n",
       "        vertical-align: top;\n",
       "    }\n",
       "\n",
       "    .dataframe thead th {\n",
       "        text-align: right;\n",
       "    }\n",
       "</style>\n",
       "<table border=\"1\" class=\"dataframe\">\n",
       "  <thead>\n",
       "    <tr style=\"text-align: right;\">\n",
       "      <th></th>\n",
       "      <th>Pregnancies</th>\n",
       "      <th>Glucose</th>\n",
       "      <th>BloodPressure</th>\n",
       "      <th>SkinThickness</th>\n",
       "      <th>Insulin</th>\n",
       "      <th>BMI</th>\n",
       "      <th>DiabetesPedigreeFunction</th>\n",
       "      <th>Age</th>\n",
       "    </tr>\n",
       "  </thead>\n",
       "  <tbody>\n",
       "    <tr>\n",
       "      <th>0</th>\n",
       "      <td>6</td>\n",
       "      <td>148</td>\n",
       "      <td>72</td>\n",
       "      <td>35</td>\n",
       "      <td>0</td>\n",
       "      <td>33.6</td>\n",
       "      <td>0.627</td>\n",
       "      <td>50</td>\n",
       "    </tr>\n",
       "    <tr>\n",
       "      <th>1</th>\n",
       "      <td>1</td>\n",
       "      <td>85</td>\n",
       "      <td>66</td>\n",
       "      <td>29</td>\n",
       "      <td>0</td>\n",
       "      <td>26.6</td>\n",
       "      <td>0.351</td>\n",
       "      <td>31</td>\n",
       "    </tr>\n",
       "    <tr>\n",
       "      <th>2</th>\n",
       "      <td>8</td>\n",
       "      <td>183</td>\n",
       "      <td>64</td>\n",
       "      <td>0</td>\n",
       "      <td>0</td>\n",
       "      <td>23.3</td>\n",
       "      <td>0.672</td>\n",
       "      <td>32</td>\n",
       "    </tr>\n",
       "    <tr>\n",
       "      <th>3</th>\n",
       "      <td>1</td>\n",
       "      <td>89</td>\n",
       "      <td>66</td>\n",
       "      <td>23</td>\n",
       "      <td>94</td>\n",
       "      <td>28.1</td>\n",
       "      <td>0.167</td>\n",
       "      <td>21</td>\n",
       "    </tr>\n",
       "    <tr>\n",
       "      <th>4</th>\n",
       "      <td>0</td>\n",
       "      <td>137</td>\n",
       "      <td>40</td>\n",
       "      <td>35</td>\n",
       "      <td>168</td>\n",
       "      <td>43.1</td>\n",
       "      <td>2.288</td>\n",
       "      <td>33</td>\n",
       "    </tr>\n",
       "  </tbody>\n",
       "</table>\n",
       "</div>"
      ],
      "text/plain": [
       "   Pregnancies  Glucose  BloodPressure  SkinThickness  Insulin   BMI  \\\n",
       "0            6      148             72             35        0  33.6   \n",
       "1            1       85             66             29        0  26.6   \n",
       "2            8      183             64              0        0  23.3   \n",
       "3            1       89             66             23       94  28.1   \n",
       "4            0      137             40             35      168  43.1   \n",
       "\n",
       "   DiabetesPedigreeFunction  Age  \n",
       "0                     0.627   50  \n",
       "1                     0.351   31  \n",
       "2                     0.672   32  \n",
       "3                     0.167   21  \n",
       "4                     2.288   33  "
      ]
     },
     "execution_count": 4,
     "metadata": {},
     "output_type": "execute_result"
    }
   ],
   "source": [
    "#Creating a new variable witout the label column 'diagnosis_M'\n",
    "df2 = diabetes.drop(columns='Outcome') \n",
    "df2.head()  #Checking the dataset if the label columns is droped in the new varibale"
   ]
  },
  {
   "cell_type": "code",
   "execution_count": 7,
   "id": "997bf9f9",
   "metadata": {},
   "outputs": [
    {
     "data": {
      "image/png": "[encoded data removed]",
      "text/plain": [
       "<Figure size 2000x800 with 1 Axes>"
      ]
     },
     "metadata": {},
     "output_type": "display_data"
    }
   ],
   "source": [
    "# Computing the correlation between the features and the label column\n",
    "corrw = df2.corrwith(diabetes['Outcome'])\n",
    "\n",
    "# Plotting the bar chart using matplotlib\n",
    "plt.figure(figsize=(20, 8))\n",
    "plt.bar(corrw.index, corrw.values, color='blue', edgecolor='black')\n",
    "\n",
    "# Adding title, labels, and grid to the plot\n",
    "plt.title('Features Correlation with the Label Column \"diagnosis_M\"', fontsize=16)\n",
    "plt.xlabel('Features', fontsize=12)\n",
    "plt.ylabel('Correlation', fontsize=12)\n",
    "plt.xticks(rotation=45)\n",
    "plt.grid(True)\n",
    "\n",
    "# Adding annotations to the bars\n",
    "for i, value in enumerate(corrw.values):\n",
    "    label = f\"{value:.2f}\"\n",
    "    plt.annotate(label, (i, value), ha='center', va='bottom', fontsize=12)\n",
    "\n",
    "# Displaying the plot\n",
    "plt.show()"
   ]
  },
  {
   "cell_type": "code",
   "execution_count": 16,
   "id": "3bd22c43",
   "metadata": {},
   "outputs": [
    {
     "data": {
      "text/plain": [
       "Text(844.7222222222224, 0.5, 'Features')"
      ]
     },
     "execution_count": 16,
     "metadata": {},
     "output_type": "execute_result"
    },
    {
     "data": {
      "image/png": "[encoded data removed]",
      "text/plain": [
       "<Figure size 2000x800 with 2 Axes>"
      ]
     },
     "metadata": {},
     "output_type": "display_data"
    }
   ],
   "source": [
    "# Plotting a Heatmap to see in depth corrolation \n",
    "import seaborn as sns\n",
    "\n",
    "corr = diabetes.corr()  #Defining a corrolation variavle (Corrolation Matrix)\n",
    "plt.figure(figsize=(20,8))   \n",
    "sns.heatmap(corr, annot=True, cmap='coolwarm', cbar=True, fmt='.2f', square=True)\n",
    "\n",
    "# Adding title and labels to the plot\n",
    "plt.title('Features Correlation Matrix', fontsize=16)\n",
    "plt.xlabel('Features', fontsize=12)\n",
    "plt.ylabel('Features', fontsize=12)"
   ]
  },
  {
   "cell_type": "code",
   "execution_count": 8,
   "id": "dd60a9b2",
   "metadata": {},
   "outputs": [],
   "source": [
    "# split dataset into features and target variable\n",
    "X = diabetes.iloc[:, :-1]\n",
    "y = diabetes.iloc[:, -1]\n",
    "\n"
   ]
  },
  {
   "cell_type": "code",
   "execution_count": 9,
   "id": "b600731e",
   "metadata": {},
   "outputs": [],
   "source": [
    "\n",
    "# split dataset into training and testing sets\n",
    "X_train, X_test, y_train, y_test = train_test_split(X, y, test_size=0.2, random_state=42)\n"
   ]
  },
  {
   "cell_type": "code",
   "execution_count": 10,
   "id": "cf606f23",
   "metadata": {},
   "outputs": [
    {
     "name": "stdout",
     "output_type": "stream",
     "text": [
      "<class 'pandas.core.frame.DataFrame'>\n",
      "<class 'pandas.core.frame.DataFrame'>\n",
      "<class 'pandas.core.series.Series'>\n",
      "<class 'pandas.core.series.Series'>\n",
      "(614, 8)\n",
      "(154, 8)\n",
      "(614,)\n",
      "(154,)\n"
     ]
    }
   ],
   "source": [
    "print(type(X_train))\n",
    "print(type(X_test))\n",
    "print(type(y_train))\n",
    "print(type(y_test))\n",
    "print(X_train.shape)\n",
    "print(X_test.shape)\n",
    "print(y_train.shape)\n",
    "print(y_test.shape)"
   ]
  },
  {
   "cell_type": "code",
   "execution_count": 11,
   "id": "c1507f2c",
   "metadata": {},
   "outputs": [
    {
     "name": "stdout",
     "output_type": "stream",
     "text": [
      "[668 324 624 690 473 204  97 336 568 148 667 212 199 265 760 356 501 457\n",
      " 604 213 636 544  86 208 281 209 581 639 328 431 120 363 425 300  67 338\n",
      " 579  66 582  78 482 456  30 635  33  31  39  77 299 487 629 516 375 451\n",
      " 511 234 361 494 692 404 754 764 519 254 483 211 210  84 239 409  54 720\n",
      " 512 109 587 362 734 396 528  10 192 448 174 428 181 748 155 309  65 331\n",
      " 137 350  81 468 405 470 250 490 220  76 548 290  72 244 394 620  63 716\n",
      " 659 314 118 728  49 662 411 605 227 168 513   7 196 275  23 383 101 763\n",
      " 706 259 193 549   2 215 382 648 606 714 731 691 603 617  79 694 433 486\n",
      " 677 133 218  55 725 355 534 344 296 462]\n"
     ]
    }
   ],
   "source": [
    "print(X_test.index.values)"
   ]
  },
  {
   "cell_type": "code",
   "execution_count": 12,
   "id": "2b2d0c78",
   "metadata": {},
   "outputs": [],
   "source": [
    "# scale the features\n",
    "scaler = StandardScaler()\n",
    "X_train = scaler.fit_transform(X_train)\n",
    "X_test = scaler.fit_transform(X_test)\n"
   ]
  },
  {
   "cell_type": "code",
   "execution_count": 13,
   "id": "f165b762",
   "metadata": {},
   "outputs": [],
   "source": [
    "from imblearn.over_sampling import SMOTE\n",
    "smt = SMOTE()\n",
    "X_train, y_train = smt.fit_resample(X_train, y_train)\n",
    "X_test, y_test = smt.fit_resample(X_test, y_test)"
   ]
  },
  {
   "cell_type": "code",
   "execution_count": 14,
   "id": "ae76ef19",
   "metadata": {},
   "outputs": [
    {
     "name": "stdout",
     "output_type": "stream",
     "text": [
      "(802, 8)\n",
      "(198, 8)\n",
      "(802,)\n",
      "(198,)\n"
     ]
    }
   ],
   "source": [
    "print(X_train.shape)\n",
    "print(X_test.shape)\n",
    "print(y_train.shape)\n",
    "print(y_test.shape)"
   ]
  },
  {
   "cell_type": "code",
   "execution_count": 25,
   "id": "58d73196",
   "metadata": {},
   "outputs": [
    {
     "name": "stdout",
     "output_type": "stream",
     "text": [
      "None\n"
     ]
    }
   ],
   "source": [
    "print(X_train.dtype.names)"
   ]
  },
  {
   "cell_type": "code",
   "execution_count": 26,
   "id": "b85034c5",
   "metadata": {},
   "outputs": [
    {
     "data": {
      "text/html": [
       "<style>#sk-container-id-1 {color: black;background-color: white;}#sk-container-id-1 pre{padding: 0;}#sk-container-id-1 div.sk-toggleable {background-color: white;}#sk-container-id-1 label.sk-toggleable__label {cursor: pointer;display: block;width: 100%;margin-bottom: 0;padding: 0.3em;box-sizing: border-box;text-align: center;}#sk-container-id-1 label.sk-toggleable__label-arrow:before {content: \"▸\";float: left;margin-right: 0.25em;color: #696969;}#sk-container-id-1 label.sk-toggleable__label-arrow:hover:before {color: black;}#sk-container-id-1 div.sk-estimator:hover label.sk-toggleable__label-arrow:before {color: black;}#sk-container-id-1 div.sk-toggleable__content {max-height: 0;max-width: 0;overflow: hidden;text-align: left;background-color: #f0f8ff;}#sk-container-id-1 div.sk-toggleable__content pre {margin: 0.2em;color: black;border-radius: 0.25em;background-color: #f0f8ff;}#sk-container-id-1 input.sk-toggleable__control:checked~div.sk-toggleable__content {max-height: 200px;max-width: 100%;overflow: auto;}#sk-container-id-1 input.sk-toggleable__control:checked~label.sk-toggleable__label-arrow:before {content: \"▾\";}#sk-container-id-1 div.sk-estimator input.sk-toggleable__control:checked~label.sk-toggleable__label {background-color: #d4ebff;}#sk-container-id-1 div.sk-label input.sk-toggleable__control:checked~label.sk-toggleable__label {background-color: #d4ebff;}#sk-container-id-1 input.sk-hidden--visually {border: 0;clip: rect(1px 1px 1px 1px);clip: rect(1px, 1px, 1px, 1px);height: 1px;margin: -1px;overflow: hidden;padding: 0;position: absolute;width: 1px;}#sk-container-id-1 div.sk-estimator {font-family: monospace;background-color: #f0f8ff;border: 1px dotted black;border-radius: 0.25em;box-sizing: border-box;margin-bottom: 0.5em;}#sk-container-id-1 div.sk-estimator:hover {background-color: #d4ebff;}#sk-container-id-1 div.sk-parallel-item::after {content: \"\";width: 100%;border-bottom: 1px solid gray;flex-grow: 1;}#sk-container-id-1 div.sk-label:hover label.sk-toggleable__label {background-color: #d4ebff;}#sk-container-id-1 div.sk-serial::before {content: \"\";position: absolute;border-left: 1px solid gray;box-sizing: border-box;top: 0;bottom: 0;left: 50%;z-index: 0;}#sk-container-id-1 div.sk-serial {display: flex;flex-direction: column;align-items: center;background-color: white;padding-right: 0.2em;padding-left: 0.2em;position: relative;}#sk-container-id-1 div.sk-item {position: relative;z-index: 1;}#sk-container-id-1 div.sk-parallel {display: flex;align-items: stretch;justify-content: center;background-color: white;position: relative;}#sk-container-id-1 div.sk-item::before, #sk-container-id-1 div.sk-parallel-item::before {content: \"\";position: absolute;border-left: 1px solid gray;box-sizing: border-box;top: 0;bottom: 0;left: 50%;z-index: -1;}#sk-container-id-1 div.sk-parallel-item {display: flex;flex-direction: column;z-index: 1;position: relative;background-color: white;}#sk-container-id-1 div.sk-parallel-item:first-child::after {align-self: flex-end;width: 50%;}#sk-container-id-1 div.sk-parallel-item:last-child::after {align-self: flex-start;width: 50%;}#sk-container-id-1 div.sk-parallel-item:only-child::after {width: 0;}#sk-container-id-1 div.sk-dashed-wrapped {border: 1px dashed gray;margin: 0 0.4em 0.5em 0.4em;box-sizing: border-box;padding-bottom: 0.4em;background-color: white;}#sk-container-id-1 div.sk-label label {font-family: monospace;font-weight: bold;display: inline-block;line-height: 1.2em;}#sk-container-id-1 div.sk-label-container {text-align: center;}#sk-container-id-1 div.sk-container {/* jupyter's `normalize.less` sets `[hidden] { display: none; }` but bootstrap.min.css set `[hidden] { display: none !important; }` so we also need the `!important` here to be able to override the default hidden behavior on the sphinx rendered scikit-learn.org. See: https://github.com/scikit-learn/scikit-learn/issues/21755 */display: inline-block !important;position: relative;}#sk-container-id-1 div.sk-text-repr-fallback {display: none;}</style><div id=\"sk-container-id-1\" class=\"sk-top-container\"><div class=\"sk-text-repr-fallback\"><pre>RandomForestClassifier(max_depth=5, random_state=42)</pre><b>In a Jupyter environment, please rerun this cell to show the HTML representation or trust the notebook. <br />On GitHub, the HTML representation is unable to render, please try loading this page with nbviewer.org.</b></div><div class=\"sk-container\" hidden><div class=\"sk-item\"><div class=\"sk-estimator sk-toggleable\"><input class=\"sk-toggleable__control sk-hidden--visually\" id=\"sk-estimator-id-1\" type=\"checkbox\" checked><label for=\"sk-estimator-id-1\" class=\"sk-toggleable__label sk-toggleable__label-arrow\">RandomForestClassifier</label><div class=\"sk-toggleable__content\"><pre>RandomForestClassifier(max_depth=5, random_state=42)</pre></div></div></div></div></div>"
      ],
      "text/plain": [
       "RandomForestClassifier(max_depth=5, random_state=42)"
      ]
     },
     "execution_count": 26,
     "metadata": {},
     "output_type": "execute_result"
    }
   ],
   "source": [
    "\n",
    "# Random Forest\n",
    "model = RandomForestClassifier(max_depth=5,random_state=42)\n",
    "model.fit(X_train, y_train)\n"
   ]
  },
  {
   "cell_type": "code",
   "execution_count": 27,
   "id": "a5ef19a3",
   "metadata": {},
   "outputs": [
    {
     "name": "stdout",
     "output_type": "stream",
     "text": [
      "ACCURACY FROM TRAINING DATASET :\n",
      "Accuracy score:  87.53\n",
      "Confusion matrix: \n",
      " [[325  76]\n",
      " [ 24 377]]\n",
      "Classification report: \n",
      "               precision    recall  f1-score   support\n",
      "\n",
      "           0     0.9312    0.8105    0.8667       401\n",
      "           1     0.8322    0.9401    0.8829       401\n",
      "\n",
      "    accuracy                         0.8753       802\n",
      "   macro avg     0.8817    0.8753    0.8748       802\n",
      "weighted avg     0.8817    0.8753    0.8748       802\n",
      "\n",
      "Accuracy Score: 77.27\n",
      "Confusion Matrix: [[73 26]\n",
      " [19 80]]\n",
      "Classification Report:               precision    recall  f1-score   support\n",
      "\n",
      "           0       0.79      0.74      0.76        99\n",
      "           1       0.75      0.81      0.78        99\n",
      "\n",
      "    accuracy                           0.77       198\n",
      "   macro avg       0.77      0.77      0.77       198\n",
      "weighted avg       0.77      0.77      0.77       198\n",
      "\n"
     ]
    },
    {
     "data": {
      "image/png": "[encoded data removed]",
      "text/plain": [
       "<Figure size 640x480 with 1 Axes>"
      ]
     },
     "metadata": {},
     "output_type": "display_data"
    }
   ],
   "source": [
    "import matplotlib.pyplot as plt\n",
    "\n",
    "# evaluate the model\n",
    "\n",
    "\n",
    "y_train_pred = model.predict(X_train)\n",
    "y_pred_rf = model.predict(X_test)\n",
    "\n",
    "print(\"ACCURACY FROM TRAINING DATASET :\")\n",
    "print(\"Accuracy score: \",round(accuracy_score(y_train,y_train_pred)*100,2))\n",
    "print(\"Confusion matrix: \\n\",confusion_matrix(y_train,y_train_pred))\n",
    "print(\"Classification report: \\n\",classification_report(y_train,y_train_pred,digits=4))\n",
    "\n",
    "\n",
    "print('Accuracy Score:', round(accuracy_score(y_test, y_pred_rf)*100,2))\n",
    "print('Confusion Matrix:', confusion_matrix(y_test, y_pred_rf))\n",
    "print('Classification Report:', classification_report(y_test, y_pred_rf))\n",
    "\n",
    "#plotting graph\n",
    "train_acc = accuracy_score(y_train, y_train_pred)\n",
    "test_acc = accuracy_score(y_test, y_pred_rf)\n",
    "\n",
    "# create a bar chart to display accuracy scores\n",
    "fig, ax = plt.subplots()\n",
    "ax.bar([0.2, 0.6], [train_acc, test_acc], color=['green', 'orange'], width=0.2)\n",
    "ax.set_title('Accuracy Score')\n",
    "ax.set_xlabel('Dataset')\n",
    "ax.set_ylabel('Accuracy')\n",
    "ax.set_xticks([0.2, 0.6])\n",
    "ax.set_xticklabels(['Train', 'Test'])\n",
    "ax.set_ylim([0, 1])\n",
    "ax.set_yticks([i*0.1 for i in range(11)])\n",
    "plt.show()"
   ]
  },
  {
   "cell_type": "code",
   "execution_count": 28,
   "id": "e7bf43bd",
   "metadata": {},
   "outputs": [
    {
     "data": {
      "text/html": [
       "<style>#sk-container-id-2 {color: black;background-color: white;}#sk-container-id-2 pre{padding: 0;}#sk-container-id-2 div.sk-toggleable {background-color: white;}#sk-container-id-2 label.sk-toggleable__label {cursor: pointer;display: block;width: 100%;margin-bottom: 0;padding: 0.3em;box-sizing: border-box;text-align: center;}#sk-container-id-2 label.sk-toggleable__label-arrow:before {content: \"▸\";float: left;margin-right: 0.25em;color: #696969;}#sk-container-id-2 label.sk-toggleable__label-arrow:hover:before {color: black;}#sk-container-id-2 div.sk-estimator:hover label.sk-toggleable__label-arrow:before {color: black;}#sk-container-id-2 div.sk-toggleable__content {max-height: 0;max-width: 0;overflow: hidden;text-align: left;background-color: #f0f8ff;}#sk-container-id-2 div.sk-toggleable__content pre {margin: 0.2em;color: black;border-radius: 0.25em;background-color: #f0f8ff;}#sk-container-id-2 input.sk-toggleable__control:checked~div.sk-toggleable__content {max-height: 200px;max-width: 100%;overflow: auto;}#sk-container-id-2 input.sk-toggleable__control:checked~label.sk-toggleable__label-arrow:before {content: \"▾\";}#sk-container-id-2 div.sk-estimator input.sk-toggleable__control:checked~label.sk-toggleable__label {background-color: #d4ebff;}#sk-container-id-2 div.sk-label input.sk-toggleable__control:checked~label.sk-toggleable__label {background-color: #d4ebff;}#sk-container-id-2 input.sk-hidden--visually {border: 0;clip: rect(1px 1px 1px 1px);clip: rect(1px, 1px, 1px, 1px);height: 1px;margin: -1px;overflow: hidden;padding: 0;position: absolute;width: 1px;}#sk-container-id-2 div.sk-estimator {font-family: monospace;background-color: #f0f8ff;border: 1px dotted black;border-radius: 0.25em;box-sizing: border-box;margin-bottom: 0.5em;}#sk-container-id-2 div.sk-estimator:hover {background-color: #d4ebff;}#sk-container-id-2 div.sk-parallel-item::after {content: \"\";width: 100%;border-bottom: 1px solid gray;flex-grow: 1;}#sk-container-id-2 div.sk-label:hover label.sk-toggleable__label {background-color: #d4ebff;}#sk-container-id-2 div.sk-serial::before {content: \"\";position: absolute;border-left: 1px solid gray;box-sizing: border-box;top: 0;bottom: 0;left: 50%;z-index: 0;}#sk-container-id-2 div.sk-serial {display: flex;flex-direction: column;align-items: center;background-color: white;padding-right: 0.2em;padding-left: 0.2em;position: relative;}#sk-container-id-2 div.sk-item {position: relative;z-index: 1;}#sk-container-id-2 div.sk-parallel {display: flex;align-items: stretch;justify-content: center;background-color: white;position: relative;}#sk-container-id-2 div.sk-item::before, #sk-container-id-2 div.sk-parallel-item::before {content: \"\";position: absolute;border-left: 1px solid gray;box-sizing: border-box;top: 0;bottom: 0;left: 50%;z-index: -1;}#sk-container-id-2 div.sk-parallel-item {display: flex;flex-direction: column;z-index: 1;position: relative;background-color: white;}#sk-container-id-2 div.sk-parallel-item:first-child::after {align-self: flex-end;width: 50%;}#sk-container-id-2 div.sk-parallel-item:last-child::after {align-self: flex-start;width: 50%;}#sk-container-id-2 div.sk-parallel-item:only-child::after {width: 0;}#sk-container-id-2 div.sk-dashed-wrapped {border: 1px dashed gray;margin: 0 0.4em 0.5em 0.4em;box-sizing: border-box;padding-bottom: 0.4em;background-color: white;}#sk-container-id-2 div.sk-label label {font-family: monospace;font-weight: bold;display: inline-block;line-height: 1.2em;}#sk-container-id-2 div.sk-label-container {text-align: center;}#sk-container-id-2 div.sk-container {/* jupyter's `normalize.less` sets `[hidden] { display: none; }` but bootstrap.min.css set `[hidden] { display: none !important; }` so we also need the `!important` here to be able to override the default hidden behavior on the sphinx rendered scikit-learn.org. See: https://github.com/scikit-learn/scikit-learn/issues/21755 */display: inline-block !important;position: relative;}#sk-container-id-2 div.sk-text-repr-fallback {display: none;}</style><div id=\"sk-container-id-2\" class=\"sk-top-container\"><div class=\"sk-text-repr-fallback\"><pre>GaussianNB()</pre><b>In a Jupyter environment, please rerun this cell to show the HTML representation or trust the notebook. <br />On GitHub, the HTML representation is unable to render, please try loading this page with nbviewer.org.</b></div><div class=\"sk-container\" hidden><div class=\"sk-item\"><div class=\"sk-estimator sk-toggleable\"><input class=\"sk-toggleable__control sk-hidden--visually\" id=\"sk-estimator-id-2\" type=\"checkbox\" checked><label for=\"sk-estimator-id-2\" class=\"sk-toggleable__label sk-toggleable__label-arrow\">GaussianNB</label><div class=\"sk-toggleable__content\"><pre>GaussianNB()</pre></div></div></div></div></div>"
      ],
      "text/plain": [
       "GaussianNB()"
      ]
     },
     "execution_count": 28,
     "metadata": {},
     "output_type": "execute_result"
    }
   ],
   "source": [
    "\n",
    "#Naive bayes\n",
    "\n",
    "clf = GaussianNB()\n",
    "clf.fit(X_train, y_train)"
   ]
  },
  {
   "cell_type": "code",
   "execution_count": 29,
   "id": "791dc753",
   "metadata": {},
   "outputs": [
    {
     "name": "stdout",
     "output_type": "stream",
     "text": [
      "ACCURACY FROM TRAINING DATASET :\n",
      "Accuracy score:  71.32\n",
      "Confusion matrix: \n",
      " [[311  90]\n",
      " [140 261]]\n",
      "Classification report: \n",
      "               precision    recall  f1-score   support\n",
      "\n",
      "           0     0.6896    0.7756    0.7300       401\n",
      "           1     0.7436    0.6509    0.6941       401\n",
      "\n",
      "    accuracy                         0.7132       802\n",
      "   macro avg     0.7166    0.7132    0.7121       802\n",
      "weighted avg     0.7166    0.7132    0.7121       802\n",
      "\n",
      "ACCURACY FROM TESTING DATASET :\n",
      "Accuracy Score: 0.7121212121212122\n",
      "Confusion Matrix: [[74 25]\n",
      " [32 67]]\n",
      "Classification Report:               precision    recall  f1-score   support\n",
      "\n",
      "           0       0.70      0.75      0.72        99\n",
      "           1       0.73      0.68      0.70        99\n",
      "\n",
      "    accuracy                           0.71       198\n",
      "   macro avg       0.71      0.71      0.71       198\n",
      "weighted avg       0.71      0.71      0.71       198\n",
      "\n"
     ]
    },
    {
     "data": {
      "image/png": "[encoded data removed]",
      "text/plain": [
       "<Figure size 640x480 with 1 Axes>"
      ]
     },
     "metadata": {},
     "output_type": "display_data"
    }
   ],
   "source": [
    "y_nb_train_pred = clf.predict(X_train)\n",
    "y_pred_nb = clf.predict(X_test)\n",
    "\n",
    "print(\"ACCURACY FROM TRAINING DATASET :\")\n",
    "print(\"Accuracy score: \",round(accuracy_score(y_train,y_nb_train_pred)*100,2))\n",
    "print(\"Confusion matrix: \\n\",confusion_matrix(y_train,y_nb_train_pred))\n",
    "print(\"Classification report: \\n\",classification_report(y_train,y_nb_train_pred,digits=4))\n",
    "\n",
    "print(\"ACCURACY FROM TESTING DATASET :\")\n",
    "print('Accuracy Score:', accuracy_score(y_test, y_pred_nb))\n",
    "print('Confusion Matrix:', confusion_matrix(y_test, y_pred_nb))\n",
    "print('Classification Report:', classification_report(y_test, y_pred_nb))\n",
    "\n",
    "train_acc = accuracy_score(y_train, y_nb_train_pred)\n",
    "test_acc = accuracy_score(y_test, y_pred_nb)\n",
    "\n",
    "# create a bar chart to display accuracy scores\n",
    "fig, ax = plt.subplots()\n",
    "ax.bar([0.2, 0.6], [train_acc, test_acc], color=['green', 'orange'], width=0.2)\n",
    "ax.set_title('Accuracy Score')\n",
    "ax.set_xlabel('Dataset')\n",
    "ax.set_ylabel('Accuracy')\n",
    "ax.set_xticks([0.2, 0.6])\n",
    "ax.set_xticklabels(['Train', 'Test'])\n",
    "ax.set_ylim([0, 1])\n",
    "ax.set_yticks([i*0.1 for i in range(11)])\n",
    "plt.show()\n"
   ]
  },
  {
   "cell_type": "code",
   "execution_count": 30,
   "id": "2c21e985",
   "metadata": {},
   "outputs": [],
   "source": [
    "# # predict on new values\n",
    "# new_values = pd.DataFrame({\n",
    "#     'Pregnancies': [0],\n",
    "#     'Glucose': [180],\n",
    "#     'BloodPressure': [66],\n",
    "#     'SkinThickness': [39],\n",
    "#     'Insulin': [155],\n",
    "#     'BMI': [42],\n",
    "#     'DiabetesPedigreeFunction': [1.893],\n",
    "#     'Age': [25]\n",
    "# })\n",
    "# new_values_scaled = scaler.transform(new_values)\n",
    "# new_prediction = clf.predict(new_values_scaled)\n",
    "# print('New Prediction:', new_prediction)\n"
   ]
  },
  {
   "cell_type": "code",
   "execution_count": 31,
   "id": "143e43ac",
   "metadata": {},
   "outputs": [],
   "source": [
    "# def input(Pregnancies,Glucose,BloodPressure,SkinThickness,Insulin,BMI,DiabetesPedigreeFunction,Age):\n",
    "\n",
    "#     new_values = pd.DataFrame({\n",
    "#     'Pregnancies': [Pregnancies] ,\n",
    "#     'Glucose': [Glucose],\n",
    "#     'BloodPressure': [BloodPressure],\n",
    "#     'SkinThickness': [SkinThickness],\n",
    "#     'Insulin': [Insulin],\n",
    "#     'BMI': [BMI],\n",
    "#     'DiabetesPedigreeFunction': [DiabetesPedigreeFunction],\n",
    "#     'Age': [Age]\n",
    "#     })\n",
    "#     new_values_scaled = scaler.transform(new_values)\n",
    "#     new_prediction = model.predict(new_values_scaled)\n",
    "#     return new_prediction\n"
   ]
  },
  {
   "cell_type": "code",
   "execution_count": 32,
   "id": "935e9b7f",
   "metadata": {},
   "outputs": [],
   "source": [
    "# answer = input(3,100,70,30,0,30,0.2,32)\n",
    "# print(answer)"
   ]
  },
  {
   "cell_type": "code",
   "execution_count": 33,
   "id": "ee23236f",
   "metadata": {},
   "outputs": [],
   "source": [
    "# !pip install tensorflow "
   ]
  },
  {
   "cell_type": "code",
   "execution_count": 35,
   "id": "9b6a8973",
   "metadata": {},
   "outputs": [],
   "source": [
    "#NN\n",
    "\n",
    "# import libraries\n",
    "import tensorflow as tf\n",
    "from tensorflow import keras\n",
    "from sklearn.model_selection import train_test_split\n",
    "from sklearn.preprocessing import StandardScaler\n",
    "from sklearn.metrics import accuracy_score, confusion_matrix, classification_report\n"
   ]
  },
  {
   "cell_type": "code",
   "execution_count": 36,
   "id": "b045b711",
   "metadata": {},
   "outputs": [],
   "source": [
    "# from keras.utils import to_categorical\n",
    "\n",
    "# # Convert target labels to one-hot encoded vectors\n",
    "# y_train_onehot = to_categorical(y_train)\n",
    "# y_test_onehot = to_categorical(y_test)"
   ]
  },
  {
   "cell_type": "code",
   "execution_count": 37,
   "id": "18d25ed9",
   "metadata": {},
   "outputs": [],
   "source": [
    "\n",
    "# define the model\n",
    "nn = keras.Sequential([\n",
    "    keras.layers.Dense(16, input_shape=(X_train.shape[1],), activation='relu'),\n",
    "    keras.layers.Dense(8, activation='relu'),\n",
    "    keras.layers.Dense(1, activation='sigmoid')\n",
    "])\n"
   ]
  },
  {
   "cell_type": "code",
   "execution_count": 38,
   "id": "20c85ade",
   "metadata": {},
   "outputs": [],
   "source": [
    "\n",
    "# compile the model\n",
    "nn.compile(optimizer='adam', loss='binary_crossentropy', metrics=['accuracy'])\n",
    "\n"
   ]
  },
  {
   "cell_type": "code",
   "execution_count": 15,
   "id": "327c45a4",
   "metadata": {},
   "outputs": [
    {
     "ename": "NameError",
     "evalue": "name 'nn' is not defined",
     "output_type": "error",
     "traceback": [
      "\u001b[1;31m---------------------------------------------------------------------------\u001b[0m",
      "\u001b[1;31mNameError\u001b[0m                                 Traceback (most recent call last)",
      "Cell \u001b[1;32mIn[15], line 2\u001b[0m\n\u001b[0;32m      1\u001b[0m \u001b[39m# train the model\u001b[39;00m\n\u001b[1;32m----> 2\u001b[0m nn\u001b[39m.\u001b[39mfit(X_train, y_train, epochs\u001b[39m=\u001b[39m\u001b[39m150\u001b[39m, batch_size\u001b[39m=\u001b[39m\u001b[39m10\u001b[39m, verbose\u001b[39m=\u001b[39m\u001b[39m2\u001b[39m)\n",
      "\u001b[1;31mNameError\u001b[0m: name 'nn' is not defined"
     ]
    }
   ],
   "source": [
    "\n",
    "# train the model\n",
    "nn.fit(X_train, y_train, epochs=150, batch_size=10, verbose=2)\n"
   ]
  },
  {
   "cell_type": "code",
   "execution_count": 41,
   "id": "be0dcaaa",
   "metadata": {},
   "outputs": [
    {
     "name": "stdout",
     "output_type": "stream",
     "text": [
      "1/7 [===>..........................] - ETA: 0s"
     ]
    },
    {
     "name": "stdout",
     "output_type": "stream",
     "text": [
      "7/7 [==============================] - 0s 3ms/step\n",
      "26/26 [==============================] - 0s 3ms/step\n",
      "TRAINING\n",
      "Accuracy Score: 0.8778054862842892\n",
      "Confusion Matrix: [[338  63]\n",
      " [ 35 366]]\n",
      "Classification Report:               precision    recall  f1-score   support\n",
      "\n",
      "           0       0.91      0.84      0.87       401\n",
      "           1       0.85      0.91      0.88       401\n",
      "\n",
      "    accuracy                           0.88       802\n",
      "   macro avg       0.88      0.88      0.88       802\n",
      "weighted avg       0.88      0.88      0.88       802\n",
      "\n",
      "TESTING\n",
      "Accuracy Score: 0.6414141414141414\n",
      "Confusion Matrix: [[69 30]\n",
      " [41 58]]\n",
      "Classification Report:               precision    recall  f1-score   support\n",
      "\n",
      "           0       0.63      0.70      0.66        99\n",
      "           1       0.66      0.59      0.62        99\n",
      "\n",
      "    accuracy                           0.64       198\n",
      "   macro avg       0.64      0.64      0.64       198\n",
      "weighted avg       0.64      0.64      0.64       198\n",
      "\n"
     ]
    },
    {
     "data": {
      "image/png": "[encoded data removed]",
      "text/plain": [
       "<Figure size 640x480 with 1 Axes>"
      ]
     },
     "metadata": {},
     "output_type": "display_data"
    }
   ],
   "source": [
    "# evaluate the model\n",
    "y_pred_nn = np.round(nn.predict(X_test))\n",
    "y_nn_train_pred = np.round(nn.predict(X_train))\n",
    "print(\"TRAINING\")\n",
    "print('Accuracy Score:', accuracy_score(y_train, y_nn_train_pred))\n",
    "print('Confusion Matrix:', confusion_matrix(y_train, y_nn_train_pred))\n",
    "print('Classification Report:', classification_report(y_train, y_nn_train_pred))\n",
    "print(\"TESTING\")\n",
    "print('Accuracy Score:', accuracy_score(y_test, y_pred_nn))\n",
    "print('Confusion Matrix:', confusion_matrix(y_test, y_pred_nn))\n",
    "print('Classification Report:', classification_report(y_test, y_pred_nn))\n",
    "\n",
    "#plotting graph\n",
    "train_acc = accuracy_score(y_train, y_nn_train_pred)\n",
    "test_acc = accuracy_score(y_test, y_pred_nn)\n",
    "\n",
    "# create a bar chart to display accuracy scores\n",
    "fig, ax = plt.subplots()\n",
    "ax.bar([0.2, 0.6], [train_acc, test_acc], color=['green', 'orange'], width=0.2)\n",
    "ax.set_title('Accuracy Score')\n",
    "ax.set_xlabel('Dataset')\n",
    "ax.set_ylabel('Accuracy')\n",
    "ax.set_xticks([0.2, 0.6])\n",
    "ax.set_xticklabels(['Train', 'Test'])\n",
    "ax.set_ylim([0, 1])\n",
    "ax.set_yticks([i*0.1 for i in range(11)])\n",
    "plt.show()\n",
    "\n"
   ]
  },
  {
   "cell_type": "code",
   "execution_count": 42,
   "id": "06e8e825",
   "metadata": {},
   "outputs": [
    {
     "name": "stdout",
     "output_type": "stream",
     "text": [
      "7/7 [==============================] - 0s 3ms/step\n"
     ]
    },
    {
     "data": {
      "image/png": "[encoded data removed]",
      "text/plain": [
       "<Figure size 640x480 with 1 Axes>"
      ]
     },
     "metadata": {},
     "output_type": "display_data"
    }
   ],
   "source": [
    "#ROC AUC\n",
    "\n",
    "from sklearn.metrics import roc_curve, auc\n",
    "\n",
    "# Predict probabilities for test set for all three models\n",
    "y_pred_proba_rf = model.predict_proba(X_test)[:, 1]\n",
    "y_pred_proba_nb = clf.predict_proba(X_test)[:, 1]\n",
    "y_pred_proba_nn = nn.predict(X_test)[:, 0]\n",
    "\n",
    "# Compute ROC curve and ROC area for each model\n",
    "fpr_rf, tpr_rf, _ = roc_curve(y_test, y_pred_proba_rf)\n",
    "roc_auc_logreg = auc(fpr_rf, tpr_rf)\n",
    "\n",
    "fpr_nb, tpr_nb, _ = roc_curve(y_test, y_pred_proba_nb)\n",
    "roc_auc_nb = auc(fpr_nb, tpr_nb)\n",
    "\n",
    "fpr_nn, tpr_nn, _ = roc_curve(y_test, y_pred_proba_nn)\n",
    "roc_auc_nn = auc(fpr_nn, tpr_nn)\n",
    "\n",
    "# Plot ROC curve\n",
    "plt.plot(fpr_rf, tpr_rf, color='blue', lw=1, label='Random Forest Classifier(AUC = %0.2f)' % roc_auc_logreg)\n",
    "plt.plot(fpr_nb, tpr_nb, color='green', lw=1, label='Naive Bayes (AUC = %0.2f)' % roc_auc_nb)\n",
    "plt.plot(fpr_nn, tpr_nn, color='orange', lw=1, label='Neural Network (AUC = %0.2f)' % roc_auc_nn)\n",
    "\n",
    "plt.plot([0, 1], [0, 1], color='gray', lw=1, linestyle='--')\n",
    "plt.xlim([0.0, 1.0])\n",
    "plt.ylim([0.0, 1.05])\n",
    "plt.xlabel('False Positive Rate')\n",
    "plt.ylabel('True Positive Rate')\n",
    "plt.title('Receiver Operating Characteristic')\n",
    "plt.legend(loc=\"lower right\")\n",
    "plt.show()\n"
   ]
  },
  {
   "attachments": {},
   "cell_type": "markdown",
   "id": "a0c9f059",
   "metadata": {},
   "source": [
    "# GUI"
   ]
  },
  {
   "cell_type": "code",
   "execution_count": 43,
   "id": "be1f92b6",
   "metadata": {},
   "outputs": [],
   "source": [
    "import gradio as gr"
   ]
  },
  {
   "cell_type": "code",
   "execution_count": 44,
   "id": "93b4b109",
   "metadata": {},
   "outputs": [],
   "source": [
    "#gradio with 8 fetaures\n",
    "\n",
    "def input(Pregnancies,Glucose,BloodPressure,SkinThickness,Insulin,BMI,DiabetesPedigreeFunction,Age):\n",
    "\n",
    "    new_values = pd.DataFrame({\n",
    "    'Pregnancies': [Pregnancies] ,\n",
    "    'Glucose': [Glucose],\n",
    "    'BloodPressure': [BloodPressure],\n",
    "    'SkinThickness': [SkinThickness],\n",
    "    'Insulin': [Insulin],\n",
    "    'BMI': [BMI],\n",
    "    'DiabetesPedigreeFunction': [DiabetesPedigreeFunction],\n",
    "    'Age': [Age]\n",
    "    })\n",
    "    new_values_scaled = scaler.transform(new_values)\n",
    "    new_prediction = model.predict(new_values_scaled)\n",
    "    return new_prediction\n",
    "\n"
   ]
  },
  {
   "cell_type": "code",
   "execution_count": 45,
   "id": "7c27d030",
   "metadata": {},
   "outputs": [],
   "source": [
    "import pickle\n",
    "\n",
    "# save the scaler object to a file\n",
    "with open('scaler.pkl', 'wb') as f:\n",
    "    pickle.dump(scaler, f)\n"
   ]
  },
  {
   "cell_type": "code",
   "execution_count": 46,
   "id": "21fb6a58",
   "metadata": {},
   "outputs": [
    {
     "name": "stdout",
     "output_type": "stream",
     "text": [
      "Running on local URL:  http://127.0.0.1:7860\n",
      "\n",
      "To create a public link, set `share=True` in `launch()`.\n"
     ]
    },
    {
     "data": {
      "text/html": [
       "<div><iframe src=\"http://127.0.0.1:7860/\" width=\"100%\" height=\"500\" allow=\"autoplay; camera; microphone; clipboard-read; clipboard-write;\" frameborder=\"0\" allowfullscreen></iframe></div>"
      ],
      "text/plain": [
       "<IPython.core.display.HTML object>"
      ]
     },
     "metadata": {},
     "output_type": "display_data"
    },
    {
     "data": {
      "text/plain": []
     },
     "execution_count": 46,
     "metadata": {},
     "output_type": "execute_result"
    }
   ],
   "source": [
    "#gradio with 8 fetaures\n",
    "\n",
    "demo = gr.Interface(fn=input,\n",
    "                    inputs=[\"number\",\"number\",\"number\",\"number\",\"number\",\"number\",\"number\",\"number\"],\n",
    "                    outputs=['text'],\n",
    "                     title=\"Diabetes Prediction Using Pima Indian Diabetes Dataset\"\n",
    "                    # theme='huggingface',\n",
    "                    # css = \"\"\" ,\n",
    "                    # body {background-color : grey}\n",
    "                    # \"\"\"\n",
    "                    )\n",
    "\n",
    "\n",
    "demo.launch() "
   ]
  },
  {
   "cell_type": "code",
   "execution_count": 47,
   "id": "2a904482",
   "metadata": {},
   "outputs": [],
   "source": [
    "# from test set (After smote)\n",
    "\n",
    "# 1\n",
    "\n",
    "# 355          1     flask too\n",
    "# 296          1     flask too\n",
    "# 199          1 (predicting wrong)\n",
    "# 356          1 \n",
    "# 604          1\n",
    "# 213          1\n",
    "\n",
    "# from test set \n",
    "\n",
    "# 0\n",
    "\n",
    "# 457          0   flask too\n",
    "# 636          0   flask too\n",
    "# 544          0\n",
    "# 534          0\n",
    "# 344          0\n",
    "# 462          0 (predicting wrong)\n",
    "# 668          0 (predicting wrong)\n"
   ]
  },
  {
   "cell_type": "code",
   "execution_count": 48,
   "id": "01c46929",
   "metadata": {},
   "outputs": [],
   "source": [
    "# from test set (Without smote)\n",
    "\n",
    "# 1\n",
    "\n",
    "# 355          1\n",
    "# 296          1 (predicting wrong)\n",
    "# 199          1 (predicting wrong)\n",
    "# 356          1 (predicting wrong)\n",
    "# 604          1\n",
    "# 213          1 (predicting wrong)\n",
    "\n",
    "# from test set \n",
    "\n",
    "# 0\n",
    "\n",
    "# 457          0\n",
    "# 636          0\n",
    "# 544          0\n",
    "# 534          0\n",
    "# 344          0\n",
    "# 462          0\n"
   ]
  },
  {
   "attachments": {},
   "cell_type": "markdown",
   "id": "43344ba1",
   "metadata": {},
   "source": [
    "# FEATURE SELECTION"
   ]
  },
  {
   "cell_type": "code",
   "execution_count": 49,
   "id": "67541be2",
   "metadata": {},
   "outputs": [],
   "source": [
    "from boruta import BorutaPy\n",
    "from sklearn.ensemble import RandomForestClassifier\n",
    "\n",
    "# Initialize a random forest classifier\n",
    "rf = RandomForestClassifier(n_jobs=-1, class_weight='balanced', max_depth=5)\n"
   ]
  },
  {
   "cell_type": "code",
   "execution_count": 50,
   "id": "c9dd75e3",
   "metadata": {},
   "outputs": [
    {
     "data": {
      "text/plain": [
       "numpy.ndarray"
      ]
     },
     "execution_count": 50,
     "metadata": {},
     "output_type": "execute_result"
    }
   ],
   "source": [
    "type(X_train)"
   ]
  },
  {
   "cell_type": "code",
   "execution_count": 51,
   "id": "c8d93865",
   "metadata": {},
   "outputs": [
    {
     "name": "stdout",
     "output_type": "stream",
     "text": [
      "<class 'pandas.core.series.Series'>\n",
      "<class 'numpy.ndarray'>\n"
     ]
    }
   ],
   "source": [
    "print(type(y_train))\n",
    "y_train = y_train.values\n",
    "print(type(y_train))"
   ]
  },
  {
   "cell_type": "code",
   "execution_count": 52,
   "id": "0c194471",
   "metadata": {},
   "outputs": [
    {
     "name": "stdout",
     "output_type": "stream",
     "text": [
      "Iteration: \t1 / 100\n",
      "Confirmed: \t0\n",
      "Tentative: \t8\n",
      "Rejected: \t0\n",
      "Iteration: \t2 / 100\n",
      "Confirmed: \t0\n",
      "Tentative: \t8\n",
      "Rejected: \t0\n",
      "Iteration: \t3 / 100\n",
      "Confirmed: \t0\n",
      "Tentative: \t8\n",
      "Rejected: \t0\n",
      "Iteration: \t4 / 100\n",
      "Confirmed: \t0\n",
      "Tentative: \t8\n",
      "Rejected: \t0\n",
      "Iteration: \t5 / 100\n",
      "Confirmed: \t0\n",
      "Tentative: \t8\n",
      "Rejected: \t0\n",
      "Iteration: \t6 / 100\n",
      "Confirmed: \t0\n",
      "Tentative: \t8\n",
      "Rejected: \t0\n",
      "Iteration: \t7 / 100\n",
      "Confirmed: \t0\n",
      "Tentative: \t8\n",
      "Rejected: \t0\n",
      "Iteration: \t8 / 100\n",
      "Confirmed: \t6\n",
      "Tentative: \t2\n",
      "Rejected: \t0\n",
      "Iteration: \t9 / 100\n",
      "Confirmed: \t6\n",
      "Tentative: \t2\n",
      "Rejected: \t0\n",
      "Iteration: \t10 / 100\n",
      "Confirmed: \t6\n",
      "Tentative: \t2\n",
      "Rejected: \t0\n",
      "Iteration: \t11 / 100\n",
      "Confirmed: \t6\n",
      "Tentative: \t2\n",
      "Rejected: \t0\n",
      "Iteration: \t12 / 100\n",
      "Confirmed: \t7\n",
      "Tentative: \t1\n",
      "Rejected: \t0\n",
      "Iteration: \t13 / 100\n",
      "Confirmed: \t7\n",
      "Tentative: \t1\n",
      "Rejected: \t0\n",
      "Iteration: \t14 / 100\n",
      "Confirmed: \t7\n",
      "Tentative: \t1\n",
      "Rejected: \t0\n",
      "Iteration: \t15 / 100\n",
      "Confirmed: \t7\n",
      "Tentative: \t1\n",
      "Rejected: \t0\n",
      "Iteration: \t16 / 100\n",
      "Confirmed: \t7\n",
      "Tentative: \t1\n",
      "Rejected: \t0\n",
      "Iteration: \t17 / 100\n",
      "Confirmed: \t7\n",
      "Tentative: \t1\n",
      "Rejected: \t0\n",
      "Iteration: \t18 / 100\n",
      "Confirmed: \t7\n",
      "Tentative: \t1\n",
      "Rejected: \t0\n",
      "Iteration: \t19 / 100\n",
      "Confirmed: \t7\n",
      "Tentative: \t1\n",
      "Rejected: \t0\n",
      "Iteration: \t20 / 100\n",
      "Confirmed: \t7\n",
      "Tentative: \t1\n",
      "Rejected: \t0\n",
      "Iteration: \t21 / 100\n",
      "Confirmed: \t7\n",
      "Tentative: \t1\n",
      "Rejected: \t0\n",
      "Iteration: \t22 / 100\n",
      "Confirmed: \t7\n",
      "Tentative: \t1\n",
      "Rejected: \t0\n",
      "Iteration: \t23 / 100\n",
      "Confirmed: \t7\n",
      "Tentative: \t1\n",
      "Rejected: \t0\n",
      "Iteration: \t24 / 100\n",
      "Confirmed: \t7\n",
      "Tentative: \t1\n",
      "Rejected: \t0\n",
      "Iteration: \t25 / 100\n",
      "Confirmed: \t7\n",
      "Tentative: \t1\n",
      "Rejected: \t0\n",
      "Iteration: \t26 / 100\n",
      "Confirmed: \t7\n",
      "Tentative: \t1\n",
      "Rejected: \t0\n",
      "Iteration: \t27 / 100\n",
      "Confirmed: \t7\n",
      "Tentative: \t1\n",
      "Rejected: \t0\n",
      "Iteration: \t28 / 100\n",
      "Confirmed: \t7\n",
      "Tentative: \t1\n",
      "Rejected: \t0\n",
      "Iteration: \t29 / 100\n",
      "Confirmed: \t7\n",
      "Tentative: \t1\n",
      "Rejected: \t0\n",
      "Iteration: \t30 / 100\n",
      "Confirmed: \t7\n",
      "Tentative: \t1\n",
      "Rejected: \t0\n",
      "Iteration: \t31 / 100\n",
      "Confirmed: \t7\n",
      "Tentative: \t1\n",
      "Rejected: \t0\n",
      "Iteration: \t32 / 100\n",
      "Confirmed: \t7\n",
      "Tentative: \t1\n",
      "Rejected: \t0\n",
      "Iteration: \t33 / 100\n",
      "Confirmed: \t7\n",
      "Tentative: \t1\n",
      "Rejected: \t0\n",
      "Iteration: \t34 / 100\n",
      "Confirmed: \t7\n",
      "Tentative: \t1\n",
      "Rejected: \t0\n",
      "Iteration: \t35 / 100\n",
      "Confirmed: \t7\n",
      "Tentative: \t1\n",
      "Rejected: \t0\n",
      "Iteration: \t36 / 100\n",
      "Confirmed: \t7\n",
      "Tentative: \t1\n",
      "Rejected: \t0\n",
      "Iteration: \t37 / 100\n",
      "Confirmed: \t7\n",
      "Tentative: \t1\n",
      "Rejected: \t0\n",
      "Iteration: \t38 / 100\n",
      "Confirmed: \t7\n",
      "Tentative: \t1\n",
      "Rejected: \t0\n",
      "Iteration: \t39 / 100\n",
      "Confirmed: \t7\n",
      "Tentative: \t1\n",
      "Rejected: \t0\n",
      "Iteration: \t40 / 100\n",
      "Confirmed: \t7\n",
      "Tentative: \t1\n",
      "Rejected: \t0\n",
      "Iteration: \t41 / 100\n",
      "Confirmed: \t7\n",
      "Tentative: \t1\n",
      "Rejected: \t0\n",
      "Iteration: \t42 / 100\n",
      "Confirmed: \t7\n",
      "Tentative: \t1\n",
      "Rejected: \t0\n",
      "Iteration: \t43 / 100\n",
      "Confirmed: \t7\n",
      "Tentative: \t1\n",
      "Rejected: \t0\n",
      "Iteration: \t44 / 100\n",
      "Confirmed: \t7\n",
      "Tentative: \t1\n",
      "Rejected: \t0\n",
      "Iteration: \t45 / 100\n",
      "Confirmed: \t7\n",
      "Tentative: \t1\n",
      "Rejected: \t0\n",
      "Iteration: \t46 / 100\n",
      "Confirmed: \t7\n",
      "Tentative: \t1\n",
      "Rejected: \t0\n",
      "Iteration: \t47 / 100\n",
      "Confirmed: \t7\n",
      "Tentative: \t1\n",
      "Rejected: \t0\n",
      "Iteration: \t48 / 100\n",
      "Confirmed: \t7\n",
      "Tentative: \t1\n",
      "Rejected: \t0\n",
      "Iteration: \t49 / 100\n",
      "Confirmed: \t7\n",
      "Tentative: \t1\n",
      "Rejected: \t0\n",
      "Iteration: \t50 / 100\n",
      "Confirmed: \t7\n",
      "Tentative: \t1\n",
      "Rejected: \t0\n",
      "Iteration: \t51 / 100\n",
      "Confirmed: \t7\n",
      "Tentative: \t1\n",
      "Rejected: \t0\n",
      "Iteration: \t52 / 100\n",
      "Confirmed: \t7\n",
      "Tentative: \t1\n",
      "Rejected: \t0\n",
      "Iteration: \t53 / 100\n",
      "Confirmed: \t7\n",
      "Tentative: \t1\n",
      "Rejected: \t0\n",
      "Iteration: \t54 / 100\n",
      "Confirmed: \t7\n",
      "Tentative: \t1\n",
      "Rejected: \t0\n",
      "Iteration: \t55 / 100\n",
      "Confirmed: \t7\n",
      "Tentative: \t1\n",
      "Rejected: \t0\n",
      "Iteration: \t56 / 100\n",
      "Confirmed: \t7\n",
      "Tentative: \t1\n",
      "Rejected: \t0\n",
      "Iteration: \t57 / 100\n",
      "Confirmed: \t7\n",
      "Tentative: \t1\n",
      "Rejected: \t0\n",
      "Iteration: \t58 / 100\n",
      "Confirmed: \t7\n",
      "Tentative: \t1\n",
      "Rejected: \t0\n",
      "Iteration: \t59 / 100\n",
      "Confirmed: \t7\n",
      "Tentative: \t1\n",
      "Rejected: \t0\n",
      "Iteration: \t60 / 100\n",
      "Confirmed: \t7\n",
      "Tentative: \t1\n",
      "Rejected: \t0\n",
      "Iteration: \t61 / 100\n",
      "Confirmed: \t7\n",
      "Tentative: \t1\n",
      "Rejected: \t0\n",
      "Iteration: \t62 / 100\n",
      "Confirmed: \t7\n",
      "Tentative: \t1\n",
      "Rejected: \t0\n",
      "Iteration: \t63 / 100\n",
      "Confirmed: \t7\n",
      "Tentative: \t1\n",
      "Rejected: \t0\n",
      "Iteration: \t64 / 100\n",
      "Confirmed: \t7\n",
      "Tentative: \t1\n",
      "Rejected: \t0\n",
      "Iteration: \t65 / 100\n",
      "Confirmed: \t7\n",
      "Tentative: \t1\n",
      "Rejected: \t0\n",
      "Iteration: \t66 / 100\n",
      "Confirmed: \t7\n",
      "Tentative: \t1\n",
      "Rejected: \t0\n",
      "Iteration: \t67 / 100\n",
      "Confirmed: \t7\n",
      "Tentative: \t1\n",
      "Rejected: \t0\n",
      "Iteration: \t68 / 100\n",
      "Confirmed: \t7\n",
      "Tentative: \t1\n",
      "Rejected: \t0\n",
      "Iteration: \t69 / 100\n",
      "Confirmed: \t7\n",
      "Tentative: \t1\n",
      "Rejected: \t0\n",
      "Iteration: \t70 / 100\n",
      "Confirmed: \t7\n",
      "Tentative: \t1\n",
      "Rejected: \t0\n",
      "Iteration: \t71 / 100\n",
      "Confirmed: \t7\n",
      "Tentative: \t1\n",
      "Rejected: \t0\n",
      "Iteration: \t72 / 100\n",
      "Confirmed: \t7\n",
      "Tentative: \t1\n",
      "Rejected: \t0\n",
      "Iteration: \t73 / 100\n",
      "Confirmed: \t7\n",
      "Tentative: \t1\n",
      "Rejected: \t0\n",
      "Iteration: \t74 / 100\n",
      "Confirmed: \t7\n",
      "Tentative: \t1\n",
      "Rejected: \t0\n",
      "Iteration: \t75 / 100\n",
      "Confirmed: \t7\n",
      "Tentative: \t1\n",
      "Rejected: \t0\n",
      "Iteration: \t76 / 100\n",
      "Confirmed: \t7\n",
      "Tentative: \t1\n",
      "Rejected: \t0\n",
      "Iteration: \t77 / 100\n",
      "Confirmed: \t7\n",
      "Tentative: \t1\n",
      "Rejected: \t0\n",
      "Iteration: \t78 / 100\n",
      "Confirmed: \t7\n",
      "Tentative: \t1\n",
      "Rejected: \t0\n",
      "Iteration: \t79 / 100\n",
      "Confirmed: \t7\n",
      "Tentative: \t1\n",
      "Rejected: \t0\n",
      "Iteration: \t80 / 100\n",
      "Confirmed: \t7\n",
      "Tentative: \t1\n",
      "Rejected: \t0\n",
      "Iteration: \t81 / 100\n",
      "Confirmed: \t7\n",
      "Tentative: \t1\n",
      "Rejected: \t0\n",
      "Iteration: \t82 / 100\n",
      "Confirmed: \t7\n",
      "Tentative: \t1\n",
      "Rejected: \t0\n",
      "Iteration: \t83 / 100\n",
      "Confirmed: \t7\n",
      "Tentative: \t1\n",
      "Rejected: \t0\n",
      "Iteration: \t84 / 100\n",
      "Confirmed: \t7\n",
      "Tentative: \t1\n",
      "Rejected: \t0\n",
      "Iteration: \t85 / 100\n",
      "Confirmed: \t7\n",
      "Tentative: \t1\n",
      "Rejected: \t0\n",
      "Iteration: \t86 / 100\n",
      "Confirmed: \t7\n",
      "Tentative: \t1\n",
      "Rejected: \t0\n",
      "Iteration: \t87 / 100\n",
      "Confirmed: \t7\n",
      "Tentative: \t1\n",
      "Rejected: \t0\n",
      "Iteration: \t88 / 100\n",
      "Confirmed: \t7\n",
      "Tentative: \t1\n",
      "Rejected: \t0\n",
      "Iteration: \t89 / 100\n",
      "Confirmed: \t7\n",
      "Tentative: \t1\n",
      "Rejected: \t0\n",
      "Iteration: \t90 / 100\n",
      "Confirmed: \t7\n",
      "Tentative: \t1\n",
      "Rejected: \t0\n",
      "Iteration: \t91 / 100\n",
      "Confirmed: \t7\n",
      "Tentative: \t1\n",
      "Rejected: \t0\n",
      "Iteration: \t92 / 100\n",
      "Confirmed: \t7\n",
      "Tentative: \t1\n",
      "Rejected: \t0\n",
      "Iteration: \t93 / 100\n",
      "Confirmed: \t7\n",
      "Tentative: \t1\n",
      "Rejected: \t0\n",
      "Iteration: \t94 / 100\n",
      "Confirmed: \t7\n",
      "Tentative: \t1\n",
      "Rejected: \t0\n",
      "Iteration: \t95 / 100\n",
      "Confirmed: \t7\n",
      "Tentative: \t1\n",
      "Rejected: \t0\n",
      "Iteration: \t96 / 100\n",
      "Confirmed: \t7\n",
      "Tentative: \t1\n",
      "Rejected: \t0\n",
      "Iteration: \t97 / 100\n",
      "Confirmed: \t7\n",
      "Tentative: \t1\n",
      "Rejected: \t0\n",
      "Iteration: \t98 / 100\n",
      "Confirmed: \t7\n",
      "Tentative: \t1\n",
      "Rejected: \t0\n",
      "Iteration: \t99 / 100\n",
      "Confirmed: \t7\n",
      "Tentative: \t1\n",
      "Rejected: \t0\n",
      "\n",
      "\n",
      "BorutaPy finished running.\n",
      "\n",
      "Iteration: \t100 / 100\n",
      "Confirmed: \t7\n",
      "Tentative: \t1\n",
      "Rejected: \t0\n"
     ]
    },
    {
     "data": {
      "text/html": [
       "<style>#sk-container-id-3 {color: black;background-color: white;}#sk-container-id-3 pre{padding: 0;}#sk-container-id-3 div.sk-toggleable {background-color: white;}#sk-container-id-3 label.sk-toggleable__label {cursor: pointer;display: block;width: 100%;margin-bottom: 0;padding: 0.3em;box-sizing: border-box;text-align: center;}#sk-container-id-3 label.sk-toggleable__label-arrow:before {content: \"▸\";float: left;margin-right: 0.25em;color: #696969;}#sk-container-id-3 label.sk-toggleable__label-arrow:hover:before {color: black;}#sk-container-id-3 div.sk-estimator:hover label.sk-toggleable__label-arrow:before {color: black;}#sk-container-id-3 div.sk-toggleable__content {max-height: 0;max-width: 0;overflow: hidden;text-align: left;background-color: #f0f8ff;}#sk-container-id-3 div.sk-toggleable__content pre {margin: 0.2em;color: black;border-radius: 0.25em;background-color: #f0f8ff;}#sk-container-id-3 input.sk-toggleable__control:checked~div.sk-toggleable__content {max-height: 200px;max-width: 100%;overflow: auto;}#sk-container-id-3 input.sk-toggleable__control:checked~label.sk-toggleable__label-arrow:before {content: \"▾\";}#sk-container-id-3 div.sk-estimator input.sk-toggleable__control:checked~label.sk-toggleable__label {background-color: #d4ebff;}#sk-container-id-3 div.sk-label input.sk-toggleable__control:checked~label.sk-toggleable__label {background-color: #d4ebff;}#sk-container-id-3 input.sk-hidden--visually {border: 0;clip: rect(1px 1px 1px 1px);clip: rect(1px, 1px, 1px, 1px);height: 1px;margin: -1px;overflow: hidden;padding: 0;position: absolute;width: 1px;}#sk-container-id-3 div.sk-estimator {font-family: monospace;background-color: #f0f8ff;border: 1px dotted black;border-radius: 0.25em;box-sizing: border-box;margin-bottom: 0.5em;}#sk-container-id-3 div.sk-estimator:hover {background-color: #d4ebff;}#sk-container-id-3 div.sk-parallel-item::after {content: \"\";width: 100%;border-bottom: 1px solid gray;flex-grow: 1;}#sk-container-id-3 div.sk-label:hover label.sk-toggleable__label {background-color: #d4ebff;}#sk-container-id-3 div.sk-serial::before {content: \"\";position: absolute;border-left: 1px solid gray;box-sizing: border-box;top: 0;bottom: 0;left: 50%;z-index: 0;}#sk-container-id-3 div.sk-serial {display: flex;flex-direction: column;align-items: center;background-color: white;padding-right: 0.2em;padding-left: 0.2em;position: relative;}#sk-container-id-3 div.sk-item {position: relative;z-index: 1;}#sk-container-id-3 div.sk-parallel {display: flex;align-items: stretch;justify-content: center;background-color: white;position: relative;}#sk-container-id-3 div.sk-item::before, #sk-container-id-3 div.sk-parallel-item::before {content: \"\";position: absolute;border-left: 1px solid gray;box-sizing: border-box;top: 0;bottom: 0;left: 50%;z-index: -1;}#sk-container-id-3 div.sk-parallel-item {display: flex;flex-direction: column;z-index: 1;position: relative;background-color: white;}#sk-container-id-3 div.sk-parallel-item:first-child::after {align-self: flex-end;width: 50%;}#sk-container-id-3 div.sk-parallel-item:last-child::after {align-self: flex-start;width: 50%;}#sk-container-id-3 div.sk-parallel-item:only-child::after {width: 0;}#sk-container-id-3 div.sk-dashed-wrapped {border: 1px dashed gray;margin: 0 0.4em 0.5em 0.4em;box-sizing: border-box;padding-bottom: 0.4em;background-color: white;}#sk-container-id-3 div.sk-label label {font-family: monospace;font-weight: bold;display: inline-block;line-height: 1.2em;}#sk-container-id-3 div.sk-label-container {text-align: center;}#sk-container-id-3 div.sk-container {/* jupyter's `normalize.less` sets `[hidden] { display: none; }` but bootstrap.min.css set `[hidden] { display: none !important; }` so we also need the `!important` here to be able to override the default hidden behavior on the sphinx rendered scikit-learn.org. See: https://github.com/scikit-learn/scikit-learn/issues/21755 */display: inline-block !important;position: relative;}#sk-container-id-3 div.sk-text-repr-fallback {display: none;}</style><div id=\"sk-container-id-3\" class=\"sk-top-container\"><div class=\"sk-text-repr-fallback\"><pre>BorutaPy(estimator=RandomForestClassifier(class_weight=&#x27;balanced&#x27;, max_depth=5,\n",
       "                                          n_estimators=80, n_jobs=-1,\n",
       "                                          random_state=RandomState(MT19937) at 0x2289F55F940),\n",
       "         n_estimators=&#x27;auto&#x27;,\n",
       "         random_state=RandomState(MT19937) at 0x2289F55F940, verbose=2)</pre><b>In a Jupyter environment, please rerun this cell to show the HTML representation or trust the notebook. <br />On GitHub, the HTML representation is unable to render, please try loading this page with nbviewer.org.</b></div><div class=\"sk-container\" hidden><div class=\"sk-item sk-dashed-wrapped\"><div class=\"sk-label-container\"><div class=\"sk-label sk-toggleable\"><input class=\"sk-toggleable__control sk-hidden--visually\" id=\"sk-estimator-id-3\" type=\"checkbox\" ><label for=\"sk-estimator-id-3\" class=\"sk-toggleable__label sk-toggleable__label-arrow\">BorutaPy</label><div class=\"sk-toggleable__content\"><pre>BorutaPy(estimator=RandomForestClassifier(class_weight=&#x27;balanced&#x27;, max_depth=5,\n",
       "                                          n_estimators=80, n_jobs=-1,\n",
       "                                          random_state=RandomState(MT19937) at 0x2289F55F940),\n",
       "         n_estimators=&#x27;auto&#x27;,\n",
       "         random_state=RandomState(MT19937) at 0x2289F55F940, verbose=2)</pre></div></div></div><div class=\"sk-parallel\"><div class=\"sk-parallel-item\"><div class=\"sk-item\"><div class=\"sk-label-container\"><div class=\"sk-label sk-toggleable\"><input class=\"sk-toggleable__control sk-hidden--visually\" id=\"sk-estimator-id-4\" type=\"checkbox\" ><label for=\"sk-estimator-id-4\" class=\"sk-toggleable__label sk-toggleable__label-arrow\">estimator: RandomForestClassifier</label><div class=\"sk-toggleable__content\"><pre>RandomForestClassifier(class_weight=&#x27;balanced&#x27;, max_depth=5, n_estimators=80,\n",
       "                       n_jobs=-1,\n",
       "                       random_state=RandomState(MT19937) at 0x2289F55F940)</pre></div></div></div><div class=\"sk-serial\"><div class=\"sk-item\"><div class=\"sk-estimator sk-toggleable\"><input class=\"sk-toggleable__control sk-hidden--visually\" id=\"sk-estimator-id-5\" type=\"checkbox\" ><label for=\"sk-estimator-id-5\" class=\"sk-toggleable__label sk-toggleable__label-arrow\">RandomForestClassifier</label><div class=\"sk-toggleable__content\"><pre>RandomForestClassifier(class_weight=&#x27;balanced&#x27;, max_depth=5, n_estimators=80,\n",
       "                       n_jobs=-1,\n",
       "                       random_state=RandomState(MT19937) at 0x2289F55F940)</pre></div></div></div></div></div></div></div></div></div></div>"
      ],
      "text/plain": [
       "BorutaPy(estimator=RandomForestClassifier(class_weight='balanced', max_depth=5,\n",
       "                                          n_estimators=80, n_jobs=-1,\n",
       "                                          random_state=RandomState(MT19937) at 0x2289F55F940),\n",
       "         n_estimators='auto',\n",
       "         random_state=RandomState(MT19937) at 0x2289F55F940, verbose=2)"
      ]
     },
     "execution_count": 52,
     "metadata": {},
     "output_type": "execute_result"
    }
   ],
   "source": [
    "boruta_feature_selector = BorutaPy(estimator=rf, n_estimators='auto', max_iter=100,  verbose=2, random_state=1)\n",
    "\n",
    "\n",
    "# Fit the Boruta feature selector to the data\n",
    "boruta_feature_selector.fit(X_train, y_train)"
   ]
  },
  {
   "cell_type": "code",
   "execution_count": 55,
   "id": "6af6c454",
   "metadata": {},
   "outputs": [
    {
     "data": {
      "text/plain": [
       "array([ True,  True,  True,  True,  True,  True,  True,  True])"
      ]
     },
     "execution_count": 55,
     "metadata": {},
     "output_type": "execute_result"
    }
   ],
   "source": [
    "boruta_feature_selector.support_"
   ]
  },
  {
   "cell_type": "code",
   "execution_count": 56,
   "id": "c7c93c71",
   "metadata": {},
   "outputs": [
    {
     "name": "stdout",
     "output_type": "stream",
     "text": [
      "No. of significant features:  7\n"
     ]
    }
   ],
   "source": [
    "print(\"No. of significant features: \", boruta_feature_selector.n_features_)"
   ]
  },
  {
   "cell_type": "code",
   "execution_count": 57,
   "id": "c6339d28",
   "metadata": {},
   "outputs": [
    {
     "data": {
      "text/plain": [
       "numpy.ndarray"
      ]
     },
     "execution_count": 57,
     "metadata": {},
     "output_type": "execute_result"
    }
   ],
   "source": [
    "type(X_test)"
   ]
  },
  {
   "cell_type": "code",
   "execution_count": 58,
   "id": "49b2916f",
   "metadata": {},
   "outputs": [],
   "source": [
    "# Transform the data to include only the selected features\n",
    "X_train_selected = boruta_feature_selector.transform(X_train)\n",
    "X_test_selected = boruta_feature_selector.transform(X_test)\n",
    "\n"
   ]
  },
  {
   "cell_type": "code",
   "execution_count": 59,
   "id": "74c26400",
   "metadata": {},
   "outputs": [
    {
     "name": "stdout",
     "output_type": "stream",
     "text": [
      "(802, 8)\n",
      "(198, 8)\n",
      "(802,)\n",
      "(198,)\n"
     ]
    }
   ],
   "source": [
    "print(X_train_selected.shape)\n",
    "print(X_test_selected.shape)\n",
    "print(y_train.shape)\n",
    "print(y_test.shape)"
   ]
  },
  {
   "cell_type": "code",
   "execution_count": 60,
   "id": "2122f84f",
   "metadata": {},
   "outputs": [],
   "source": [
    "#Fitting standard scaler with 6 fetaures previously fitted with 8 features hence it cant be used be used \n",
    "# while scaling new values which has only 6 variables \n",
    "\n",
    "scaler_fs = StandardScaler()\n",
    "X_train_selected = scaler_fs.fit_transform(X_train_selected)\n",
    "X_test_selected = scaler_fs.fit_transform(X_test_selected)"
   ]
  },
  {
   "cell_type": "code",
   "execution_count": 61,
   "id": "a07287a1",
   "metadata": {},
   "outputs": [
    {
     "name": "stdout",
     "output_type": "stream",
     "text": [
      "<class 'numpy.ndarray'>\n",
      "None\n"
     ]
    }
   ],
   "source": [
    "print(type(X_train_selected))\n",
    "print(X_train_selected.dtype.names)"
   ]
  },
  {
   "cell_type": "code",
   "execution_count": 460,
   "id": "47205944",
   "metadata": {},
   "outputs": [],
   "source": [
    "# To display the values pf the X_train_selected variable, convert X_train_selected into dataframe and use the .head() function\n",
    "\n",
    "# X_train_selected = pd.DataFrame(X_train_selected)\n",
    "# X_train_selected = X_train_selected.values"
   ]
  },
  {
   "cell_type": "code",
   "execution_count": 461,
   "id": "e3a8edb2",
   "metadata": {},
   "outputs": [],
   "source": [
    "# X_train_selected"
   ]
  },
  {
   "cell_type": "code",
   "execution_count": 462,
   "id": "77927c6d",
   "metadata": {},
   "outputs": [],
   "source": [
    "# X_train_selected[:, 0]"
   ]
  },
  {
   "cell_type": "code",
   "execution_count": 463,
   "id": "aca9d5d8",
   "metadata": {},
   "outputs": [],
   "source": [
    "# X_train_selected1 = np.empty(shape=(614,), dtype=[('Pregnancies', float), ('Glucose', float),('Insulin', float), ('BMI', float), ('DiabetesPedigreeFunction', float),  ('Age', float)])\n",
    "# X_train_selected1['Pregnancies'] = X_train_selected[:, 0]\n",
    "# X_train_selected1['Glucose'] =  X_train_selected[:, 1]\n",
    "# X_train_selected1['Insulin'] =  X_train_selected[:, 2]\n",
    "# X_train_selected1['BMI'] =  X_train_selected[:, 3]\n",
    "# X_train_selected1['DiabetesPedigreeFunction'] =  X_train_selected[:, 4]\n",
    "# X_train_selected1['Age'] =  X_train_selected[:, 5]\n",
    "\n"
   ]
  },
  {
   "cell_type": "code",
   "execution_count": 464,
   "id": "3a729863",
   "metadata": {},
   "outputs": [],
   "source": [
    "# print(X_train_selected1.dtype.names)\n",
    "# print(X_test_selected.dtype.names)"
   ]
  },
  {
   "cell_type": "code",
   "execution_count": 465,
   "id": "d69d7c38",
   "metadata": {},
   "outputs": [],
   "source": [
    "# print(X_train_selected1.shape)\n",
    "# print(X_test_selected.shape)\n",
    "# print(y_train.shape)\n",
    "# print(y_test.shape)"
   ]
  },
  {
   "cell_type": "code",
   "execution_count": 466,
   "id": "acef1b7a",
   "metadata": {
    "scrolled": false
   },
   "outputs": [],
   "source": [
    "# X_train_selected1['Pregnancies']"
   ]
  },
  {
   "cell_type": "code",
   "execution_count": 467,
   "id": "c56c5944",
   "metadata": {},
   "outputs": [],
   "source": [
    "\n",
    "# # Convert the input array to a uniform data type\n",
    "# X_train_selected1 = X_train_selected1.astype(np.float32)"
   ]
  },
  {
   "cell_type": "code",
   "execution_count": 62,
   "id": "61e39711",
   "metadata": {},
   "outputs": [
    {
     "name": "stdout",
     "output_type": "stream",
     "text": [
      "Total execution time:  0:00:00\n",
      "ACCURACY FROM TRAINING DATASET :\n",
      "Accuracy score:  89.15\n",
      "Confusion matrix: \n",
      " [[333  68]\n",
      " [ 19 382]]\n",
      "Classification report: \n",
      "               precision    recall  f1-score   support\n",
      "\n",
      "           0     0.9460    0.8304    0.8845       401\n",
      "           1     0.8489    0.9526    0.8978       401\n",
      "\n",
      "    accuracy                         0.8915       802\n",
      "   macro avg     0.8975    0.8915    0.8911       802\n",
      "weighted avg     0.8975    0.8915    0.8911       802\n",
      "\n",
      " ACCURACY FROM TESTING DATASET :\n",
      "Accuracy score:  78.28282828282829\n",
      "Confusion matrix: \n",
      " [[74 25]\n",
      " [18 81]]\n",
      "Classification report: \n",
      "               precision    recall  f1-score   support\n",
      "\n",
      "           0     0.8043    0.7475    0.7749        99\n",
      "           1     0.7642    0.8182    0.7902        99\n",
      "\n",
      "    accuracy                         0.7828       198\n",
      "   macro avg     0.7842    0.7828    0.7826       198\n",
      "weighted avg     0.7842    0.7828    0.7826       198\n",
      "\n"
     ]
    }
   ],
   "source": [
    "#Random forest\n",
    "\n",
    "\n",
    "from sklearn.ensemble import RandomForestClassifier\n",
    "import datetime\n",
    "\n",
    "RFC1 = RandomForestClassifier(max_depth=6)\n",
    "\n",
    "# feature_names = ['Pregnancies', 'Glucose', 'Insulin', 'BMI', 'DiabetesPedigreeFunction', 'Age']\n",
    "# X_train_selected = X_train[:, [0, 1, 4, 5, 6, 7]]  # select the appropriate columns from X_train\n",
    "RFC1.fit(X_train_selected, y_train)\n",
    "\n",
    "start = datetime.datetime.now()\n",
    "end = datetime.datetime.now()\n",
    "print(\"Total execution time: \", end-start)\n",
    "\n",
    "y_rfc_train_pred = RFC1.predict(X_train_selected)\n",
    "y_rfc_test_pred = RFC1.predict(X_test_selected)\n",
    "\n",
    "\n",
    "\n",
    "print(\"ACCURACY FROM TRAINING DATASET :\")\n",
    "print(\"Accuracy score: \",round(accuracy_score(y_train,y_rfc_train_pred)*100,2))\n",
    "print(\"Confusion matrix: \\n\",confusion_matrix(y_train,y_rfc_train_pred))\n",
    "print(\"Classification report: \\n\",classification_report(y_train,y_rfc_train_pred,digits=4))\n",
    "\n",
    "print(\" ACCURACY FROM TESTING DATASET :\")\n",
    "print(\"Accuracy score: \",accuracy_score(y_test,y_rfc_test_pred)*100)\n",
    "print(\"Confusion matrix: \\n\",confusion_matrix(y_test,y_rfc_test_pred))\n",
    "print(\"Classification report: \\n\",classification_report(y_test,y_rfc_test_pred,digits=4))"
   ]
  },
  {
   "cell_type": "code",
   "execution_count": 469,
   "id": "ca5de978",
   "metadata": {},
   "outputs": [
    {
     "name": "stdout",
     "output_type": "stream",
     "text": [
      "ACCURACY FROM TRAINING DATASET :\n",
      "Accuracy score:  74.92\n",
      "Confusion matrix: \n",
      " [[342  59]\n",
      " [ 95 118]]\n",
      "Classification report: \n",
      "               precision    recall  f1-score   support\n",
      "\n",
      "           0     0.7826    0.8529    0.8162       401\n",
      "           1     0.6667    0.5540    0.6051       213\n",
      "\n",
      "    accuracy                         0.7492       614\n",
      "   macro avg     0.7246    0.7034    0.7107       614\n",
      "weighted avg     0.7424    0.7492    0.7430       614\n",
      "\n",
      "ACCURACY FROM Test DATASET :\n",
      "Accuracy score:  79.87\n",
      "Confusion matrix: \n",
      " [[85 14]\n",
      " [17 38]]\n",
      "Classification report: \n",
      "               precision    recall  f1-score   support\n",
      "\n",
      "           0     0.8333    0.8586    0.8458        99\n",
      "           1     0.7308    0.6909    0.7103        55\n",
      "\n",
      "    accuracy                         0.7987       154\n",
      "   macro avg     0.7821    0.7747    0.7780       154\n",
      "weighted avg     0.7967    0.7987    0.7974       154\n",
      "\n"
     ]
    }
   ],
   "source": [
    "#NAIVE BAYES\n",
    "\n",
    "from sklearn.naive_bayes import GaussianNB\n",
    "from sklearn.ensemble import RandomForestClassifier\n",
    "from sklearn.metrics import accuracy_score, classification_report, confusion_matrix\n",
    "\n",
    "# Create Naive Bayes classifier object and train on the training data\n",
    "nb_clf = GaussianNB()\n",
    "nb_clf.fit(X_train_selected, y_train)\n",
    "\n",
    "# Use the trained models to predict on the testing data\n",
    "nb_train_pred_fs = nb_clf.predict(X_train_selected)\n",
    "nb_y_pred_fs = nb_clf.predict(X_test_selected)\n",
    "\n",
    "print(\"ACCURACY FROM TRAINING DATASET :\")\n",
    "print(\"Accuracy score: \",round(accuracy_score(y_train,nb_train_pred_fs)*100,2))\n",
    "print(\"Confusion matrix: \\n\",confusion_matrix(y_train,nb_train_pred_fs))\n",
    "print(\"Classification report: \\n\",classification_report(y_train,nb_train_pred_fs,digits=4))\n",
    "\n",
    "\n",
    "print(\"ACCURACY FROM Test DATASET :\")\n",
    "print(\"Accuracy score: \",round(accuracy_score(y_test,nb_y_pred_fs)*100,2))\n",
    "print(\"Confusion matrix: \\n\",confusion_matrix(y_test,nb_y_pred_fs))\n",
    "print(\"Classification report: \\n\",classification_report(y_test,nb_y_pred_fs,digits=4))\n",
    "\n",
    "\n"
   ]
  },
  {
   "cell_type": "code",
   "execution_count": 63,
   "id": "49cf4da9",
   "metadata": {},
   "outputs": [
    {
     "name": "stdout",
     "output_type": "stream",
     "text": [
      "1/1 [==============================] - 0s 328ms/step\n",
      "New Prediction: [[0.]]\n"
     ]
    }
   ],
   "source": [
    "# predict on new values\n",
    "new_values = pd.DataFrame({\n",
    "    'Pregnancies': [3],\n",
    "    'Glucose': [100],\n",
    "    'BloodPressure': [70],\n",
    "    'SkinThickness': [30],\n",
    "    'Insulin': [0],\n",
    "    'BMI': [30],\n",
    "    'DiabetesPedigreeFunction': [0.2],\n",
    "    'Age': [32]\n",
    "})\n",
    "new_values_scaled = scaler.transform(new_values)\n",
    "new_prediction = np.round(nn.predict(new_values_scaled))\n",
    "print('New Prediction:', new_prediction)"
   ]
  },
  {
   "cell_type": "code",
   "execution_count": null,
   "id": "a7bba8f8",
   "metadata": {},
   "outputs": [],
   "source": []
  },
  {
   "cell_type": "code",
   "execution_count": null,
   "id": "7d90dade",
   "metadata": {},
   "outputs": [],
   "source": [
    "#NN With reduced features"
   ]
  },
  {
   "cell_type": "code",
   "execution_count": null,
   "id": "d841dce3",
   "metadata": {},
   "outputs": [],
   "source": []
  },
  {
   "cell_type": "code",
   "execution_count": 64,
   "id": "d40a06e6",
   "metadata": {},
   "outputs": [],
   "source": [
    "# define the model\n",
    "nn_new = keras.Sequential([\n",
    "    keras.layers.Dense(16, input_shape=(X_train_selected.shape[1],), activation='relu'),\n",
    "    keras.layers.Dense(8, activation='relu'),\n",
    "    keras.layers.Dense(1, activation='sigmoid')\n",
    "])"
   ]
  },
  {
   "cell_type": "code",
   "execution_count": 65,
   "id": "fd58e0ad",
   "metadata": {},
   "outputs": [],
   "source": [
    "\n",
    "# compile the model\n",
    "nn_new.compile(optimizer='adam', loss='binary_crossentropy', metrics=['accuracy'])\n"
   ]
  },
  {
   "cell_type": "code",
   "execution_count": 66,
   "id": "4cc17b1e",
   "metadata": {},
   "outputs": [
    {
     "data": {
      "text/plain": [
       "<keras.callbacks.History at 0x2289f6c1f90>"
      ]
     },
     "execution_count": 66,
     "metadata": {},
     "output_type": "execute_result"
    }
   ],
   "source": [
    "\n",
    "# train the model\n",
    "nn_new.fit(X_train_selected, y_train, epochs=100, batch_size=32, verbose=0)\n"
   ]
  },
  {
   "cell_type": "code",
   "execution_count": 67,
   "id": "adfaeed8",
   "metadata": {
    "scrolled": true
   },
   "outputs": [
    {
     "name": "stdout",
     "output_type": "stream",
     "text": [
      "7/7 [==============================] - 0s 2ms/step\n",
      "Accuracy Score: 0.7373737373737373\n",
      "Confusion Matrix: [[71 28]\n",
      " [24 75]]\n",
      "Classification Report:               precision    recall  f1-score   support\n",
      "\n",
      "           0       0.75      0.72      0.73        99\n",
      "           1       0.73      0.76      0.74        99\n",
      "\n",
      "    accuracy                           0.74       198\n",
      "   macro avg       0.74      0.74      0.74       198\n",
      "weighted avg       0.74      0.74      0.74       198\n",
      "\n"
     ]
    }
   ],
   "source": [
    "# evaluate the model\n",
    "y_pred_nn_new = np.round(nn_new.predict(X_test_selected))\n",
    "print('Accuracy Score:', accuracy_score(y_test, y_pred_nn_new))\n",
    "print('Confusion Matrix:', confusion_matrix(y_test, y_pred_nn_new))\n",
    "print('Classification Report:', classification_report(y_test, y_pred_nn_new))"
   ]
  },
  {
   "attachments": {},
   "cell_type": "markdown",
   "id": "2a0fb487",
   "metadata": {},
   "source": [
    "# GUI"
   ]
  },
  {
   "cell_type": "code",
   "execution_count": null,
   "id": "92f25703",
   "metadata": {},
   "outputs": [],
   "source": []
  },
  {
   "cell_type": "code",
   "execution_count": 69,
   "id": "6f992a02",
   "metadata": {},
   "outputs": [
    {
     "name": "stdout",
     "output_type": "stream",
     "text": [
      "New Prediction: [1]\n"
     ]
    }
   ],
   "source": [
    "# predict on new values\n",
    "new_values1 = pd.DataFrame({\n",
    "    'Pregnancies': [0],\n",
    "    'Glucose': [180],\n",
    "    'BloodPressure': [58],\n",
    "    'SkinThickness': [22],\n",
    "    'Insulin': [155],\n",
    "    'BMI': [42],\n",
    "    'DiabetesPedigreeFunction': [1.893],\n",
    "    'Age': [25]\n",
    "})\n",
    "new_values_scaled1 = scaler_fs.transform(new_values1)\n",
    "new_prediction = RFC1.predict(new_values_scaled1)\n",
    "print('New Prediction:', new_prediction)"
   ]
  },
  {
   "cell_type": "code",
   "execution_count": 70,
   "id": "fc789030",
   "metadata": {},
   "outputs": [],
   "source": [
    "import gradio as gr"
   ]
  },
  {
   "cell_type": "code",
   "execution_count": 71,
   "id": "cec7d1c9",
   "metadata": {},
   "outputs": [],
   "source": [
    "#gradio with 6 fetaures\n",
    "\n",
    "def input(Pregnancies,Glucose,Insulin,BloodPressure,SkinThickness,BMI,DiabetesPedigreeFunction,Age):\n",
    "    \n",
    "    new_values1 = pd.DataFrame({\n",
    "    'Pregnancies': [Pregnancies] ,\n",
    "    'Glucose': [Glucose],\n",
    "    'Insulin': [Insulin],\n",
    "    'BloodPressure': [BloodPressure],\n",
    "    'SkinThickness': [SkinThickness],\n",
    "    'BMI': [BMI],\n",
    "    'DiabetesPedigreeFunction': [DiabetesPedigreeFunction],\n",
    "    'Age': [Age]\n",
    "    })\n",
    "    \n",
    "    new_values_scaled1 = scaler_fs.transform(new_values1)\n",
    "    new_prediction = RFC1.predict(new_values_scaled1)\n",
    "    return new_prediction"
   ]
  },
  {
   "cell_type": "code",
   "execution_count": 73,
   "id": "1e7fa994",
   "metadata": {},
   "outputs": [
    {
     "name": "stdout",
     "output_type": "stream",
     "text": [
      "Running on local URL:  http://127.0.0.1:7862\n",
      "\n",
      "To create a public link, set `share=True` in `launch()`.\n"
     ]
    },
    {
     "data": {
      "text/html": [
       "<div><iframe src=\"http://127.0.0.1:7862/\" width=\"100%\" height=\"500\" allow=\"autoplay; camera; microphone; clipboard-read; clipboard-write;\" frameborder=\"0\" allowfullscreen></iframe></div>"
      ],
      "text/plain": [
       "<IPython.core.display.HTML object>"
      ]
     },
     "metadata": {},
     "output_type": "display_data"
    },
    {
     "data": {
      "text/plain": []
     },
     "execution_count": 73,
     "metadata": {},
     "output_type": "execute_result"
    }
   ],
   "source": [
    "#gradio with 6 fetaures\n",
    "\n",
    "demo = gr.Interface(fn=input,\n",
    "                    inputs=[\"number\",\"number\",\"number\",\"number\",\"number\",\"number\",\"number\",\"number\"],\n",
    "                    outputs=['text'],\n",
    "                    title=\"Diabetes Prediction Using Pima Indian Diabetes Dataset\"\n",
    "                    # theme='huggingface',\n",
    "                    # css = \"\"\" ,\n",
    "                    # body {background-color : grey}\n",
    "                    # \"\"\"\n",
    "                    )\n",
    "\n",
    "demo.launch() "
   ]
  },
  {
   "cell_type": "code",
   "execution_count": 74,
   "id": "bf9db5cd",
   "metadata": {},
   "outputs": [],
   "source": [
    "# row numbers\n",
    "# 37          1\n",
    "# 31          1\n",
    "# 32          0\n",
    "# 44          0\n",
    "\n",
    "# 38          L\n",
    "\n",
    "# 43          1 (Working with 6 features also)\n",
    "# 45          1 (Working with 6 features also)"
   ]
  },
  {
   "attachments": {},
   "cell_type": "markdown",
   "id": "d04328ea",
   "metadata": {},
   "source": [
    "FLASK"
   ]
  },
  {
   "cell_type": "code",
   "execution_count": 75,
   "id": "8e88d0d7",
   "metadata": {},
   "outputs": [],
   "source": [
    "import pickle"
   ]
  },
  {
   "cell_type": "code",
   "execution_count": 76,
   "id": "e620496f",
   "metadata": {},
   "outputs": [],
   "source": [
    "with open('diabetes_model.pkl','wb') as files:\n",
    "    pickle.dump(model,files)"
   ]
  }
 ],
 "metadata": {
  "kernelspec": {
   "display_name": "Python 3 (ipykernel)",
   "language": "python",
   "name": "python3"
  },
  "language_info": {
   "codemirror_mode": {
    "name": "ipython",
    "version": 3
   },
   "file_extension": ".py",
   "mimetype": "text/x-python",
   "name": "python",
   "nbconvert_exporter": "python",
   "pygments_lexer": "ipython3",
   "version": "3.11.4"
  }
 },
 "nbformat": 4,
 "nbformat_minor": 5
}
