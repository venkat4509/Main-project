{
 "cells": [
  {
   "cell_type": "code",
   "execution_count": 26,
   "id": "45486528",
   "metadata": {},
   "outputs": [],
   "source": [
    "import pandas as pd\n",
    "import numpy as np\n",
    "from sklearn.model_selection import KFold\n",
    "from sklearn.naive_bayes import GaussianNB\n",
    "\n",
    "# Load the Pima Indian Diabetes dataset\n",
    "dataset = pd.read_csv('diabetes.csv')\n",
    "\n",
    "X = dataset.iloc[:, :-1].values\n",
    "y = dataset.iloc[:, -1].values\n",
    "\n",
    "# Define the number of folds for cross-validation\n",
    "num_folds = 10\n",
    "\n",
    "# Initialize the KFold class\n",
    "kfold = KFold(n_splits=num_folds, shuffle=True, random_state=42)\n",
    "\n",
    "# Initialize the Naive Bayes classifier\n",
    "nb = GaussianNB()\n"
   ]
  },
  {
   "cell_type": "code",
   "execution_count": 27,
   "id": "6aa2293c",
   "metadata": {},
   "outputs": [
    {
     "name": "stdout",
     "output_type": "stream",
     "text": [
      "Mean training accuracy: 0.758 +/- 0.008\n",
      "Mean testing accuracy: 0.758 +/- 0.066\n"
     ]
    }
   ],
   "source": [
    "#Naive bayes classifier with bagging classifier\n",
    "\n",
    "\n",
    "from sklearn.ensemble import BaggingClassifier\n",
    "from sklearn.naive_bayes import GaussianNB\n",
    "\n",
    "\n",
    "# Create a bagging classifier with Naive Bayes\n",
    "bagging_clf = BaggingClassifier(nb , n_estimators=10, random_state=0)\n",
    "\n",
    "# Initialize lists to store the accuracy scores for each fold\n",
    "train_scores = []\n",
    "test_scores = []\n",
    "\n",
    "# Iterate over each fold\n",
    "for train_index, test_index in kfold.split(X):\n",
    "    # Get the training and testing data for this fold\n",
    "    X_train, X_test = X[train_index], X[test_index]\n",
    "    y_train, y_test = y[train_index], y[test_index]\n",
    "    \n",
    "    # Fit the Naive Bayes classifier on the training data\n",
    "    bagging_clf.fit(X_train, y_train)\n",
    "    \n",
    "    # Get the accuracy scores on the training and testing data for this fold\n",
    "    train_score = bagging_clf.score(X_train, y_train)\n",
    "    test_score = bagging_clf.score(X_test, y_test)\n",
    "    \n",
    "    # Add the accuracy scores to the corresponding lists\n",
    "    train_scores.append(train_score)\n",
    "    test_scores.append(test_score)\n",
    "\n",
    "# Print the mean and standard deviation of the accuracy scores for all folds\n",
    "print(f\"Mean training accuracy: {np.mean(train_scores):.3f} +/- {np.std(train_scores):.3f}\")\n",
    "print(f\"Mean testing accuracy: {np.mean(test_scores):.3f} +/- {np.std(test_scores):.3f}\")\n"
   ]
  },
  {
   "cell_type": "code",
   "execution_count": null,
   "id": "74c6ed9f",
   "metadata": {},
   "outputs": [],
   "source": []
  },
  {
   "cell_type": "code",
   "execution_count": null,
   "id": "7986c126",
   "metadata": {},
   "outputs": [],
   "source": []
  }
 ],
 "metadata": {
  "kernelspec": {
   "display_name": "Python 3 (ipykernel)",
   "language": "python",
   "name": "python3"
  },
  "language_info": {
   "codemirror_mode": {
    "name": "ipython",
    "version": 3
   },
   "file_extension": ".py",
   "mimetype": "text/x-python",
   "name": "python",
   "nbconvert_exporter": "python",
   "pygments_lexer": "ipython3",
   "version": "3.10.10"
  }
 },
 "nbformat": 4,
 "nbformat_minor": 5
}
