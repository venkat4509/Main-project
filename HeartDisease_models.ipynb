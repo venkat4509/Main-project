{
 "cells": [
  {
   "cell_type": "code",
   "execution_count": 1,
   "metadata": {
    "executionInfo": {
     "elapsed": 4,
     "status": "ok",
     "timestamp": 1682440739511,
     "user": {
      "displayName": "Nevedan U",
      "userId": "02429391569345386637"
     },
     "user_tz": -330
    },
    "id": "-0S_9bLWZ_g4"
   },
   "outputs": [],
   "source": [
    "import pandas as pd\n",
    "data  = pd.read_csv(\"framingham.csv\")\n",
    "data_verify = data.copy()"
   ]
  },
  {
   "cell_type": "code",
   "execution_count": 2,
   "metadata": {
    "executionInfo": {
     "elapsed": 3055,
     "status": "ok",
     "timestamp": 1682440742563,
     "user": {
      "displayName": "Nevedan U",
      "userId": "02429391569345386637"
     },
     "user_tz": -330
    },
    "id": "dDcjpkhEZ_dR"
   },
   "outputs": [],
   "source": [
    "# for mathematical calculations\n",
    "import numpy as np\n",
    "\n",
    "# to visualize the data and results\n",
    "import matplotlib.pyplot as plt\n",
    "from matplotlib.colors import ListedColormap\n",
    "import seaborn as sns\n",
    "from sklearn.impute import SimpleImputer\n",
    "\n",
    "\n",
    "# to build the model\n",
    "from sklearn.preprocessing import StandardScaler\n",
    "from sklearn.model_selection import train_test_split, GridSearchCV\n",
    "from sklearn.metrics import accuracy_score, confusion_matrix,classification_report\n",
    "from sklearn.neighbors import KNeighborsClassifier, NeighborhoodComponentsAnalysis, LocalOutlierFactor\n",
    "from sklearn.ensemble import RandomForestClassifier\n",
    "from sklearn.decomposition import PCA\n",
    "from sklearn.metrics import confusion_matrix, recall_score, f1_score, accuracy_score, precision_score\n",
    "from sklearn.model_selection import train_test_split , cross_val_score, RandomizedSearchCV\n",
    "\n",
    "\n",
    "# to get rid of the warnings\n",
    "import warnings\n",
    "warnings.filterwarnings(\"ignore\")"
   ]
  },
  {
   "cell_type": "code",
   "execution_count": 3,
   "metadata": {
    "colab": {
     "base_uri": "https://localhost:8080/",
     "height": 206
    },
    "executionInfo": {
     "elapsed": 65,
     "status": "ok",
     "timestamp": 1682440742564,
     "user": {
      "displayName": "Nevedan U",
      "userId": "02429391569345386637"
     },
     "user_tz": -330
    },
    "id": "JR5lsbNrZ_WW",
    "outputId": "6ec52489-5c2f-4095-d9b8-7f2d3c8587fa"
   },
   "outputs": [
    {
     "data": {
      "text/html": [
       "<div>\n",
       "<style scoped>\n",
       "    .dataframe tbody tr th:only-of-type {\n",
       "        vertical-align: middle;\n",
       "    }\n",
       "\n",
       "    .dataframe tbody tr th {\n",
       "        vertical-align: top;\n",
       "    }\n",
       "\n",
       "    .dataframe thead th {\n",
       "        text-align: right;\n",
       "    }\n",
       "</style>\n",
       "<table border=\"1\" class=\"dataframe\">\n",
       "  <thead>\n",
       "    <tr style=\"text-align: right;\">\n",
       "      <th></th>\n",
       "      <th>male</th>\n",
       "      <th>age</th>\n",
       "      <th>education</th>\n",
       "      <th>currentSmoker</th>\n",
       "      <th>cigsPerDay</th>\n",
       "      <th>BPMeds</th>\n",
       "      <th>prevalentStroke</th>\n",
       "      <th>prevalentHyp</th>\n",
       "      <th>diabetes</th>\n",
       "      <th>totChol</th>\n",
       "      <th>sysBP</th>\n",
       "      <th>diaBP</th>\n",
       "      <th>BMI</th>\n",
       "      <th>heartRate</th>\n",
       "      <th>glucose</th>\n",
       "      <th>TenYearCHD</th>\n",
       "    </tr>\n",
       "  </thead>\n",
       "  <tbody>\n",
       "    <tr>\n",
       "      <th>0</th>\n",
       "      <td>1</td>\n",
       "      <td>39</td>\n",
       "      <td>4.0</td>\n",
       "      <td>0</td>\n",
       "      <td>0.0</td>\n",
       "      <td>0.0</td>\n",
       "      <td>0</td>\n",
       "      <td>0</td>\n",
       "      <td>0</td>\n",
       "      <td>195.0</td>\n",
       "      <td>106.0</td>\n",
       "      <td>70.0</td>\n",
       "      <td>26.97</td>\n",
       "      <td>80.0</td>\n",
       "      <td>77.0</td>\n",
       "      <td>0</td>\n",
       "    </tr>\n",
       "    <tr>\n",
       "      <th>1</th>\n",
       "      <td>0</td>\n",
       "      <td>46</td>\n",
       "      <td>2.0</td>\n",
       "      <td>0</td>\n",
       "      <td>0.0</td>\n",
       "      <td>0.0</td>\n",
       "      <td>0</td>\n",
       "      <td>0</td>\n",
       "      <td>0</td>\n",
       "      <td>250.0</td>\n",
       "      <td>121.0</td>\n",
       "      <td>81.0</td>\n",
       "      <td>28.73</td>\n",
       "      <td>95.0</td>\n",
       "      <td>76.0</td>\n",
       "      <td>0</td>\n",
       "    </tr>\n",
       "    <tr>\n",
       "      <th>2</th>\n",
       "      <td>1</td>\n",
       "      <td>48</td>\n",
       "      <td>1.0</td>\n",
       "      <td>1</td>\n",
       "      <td>20.0</td>\n",
       "      <td>0.0</td>\n",
       "      <td>0</td>\n",
       "      <td>0</td>\n",
       "      <td>0</td>\n",
       "      <td>245.0</td>\n",
       "      <td>127.5</td>\n",
       "      <td>80.0</td>\n",
       "      <td>25.34</td>\n",
       "      <td>75.0</td>\n",
       "      <td>70.0</td>\n",
       "      <td>0</td>\n",
       "    </tr>\n",
       "    <tr>\n",
       "      <th>3</th>\n",
       "      <td>0</td>\n",
       "      <td>61</td>\n",
       "      <td>3.0</td>\n",
       "      <td>1</td>\n",
       "      <td>30.0</td>\n",
       "      <td>0.0</td>\n",
       "      <td>0</td>\n",
       "      <td>1</td>\n",
       "      <td>0</td>\n",
       "      <td>225.0</td>\n",
       "      <td>150.0</td>\n",
       "      <td>95.0</td>\n",
       "      <td>28.58</td>\n",
       "      <td>65.0</td>\n",
       "      <td>103.0</td>\n",
       "      <td>1</td>\n",
       "    </tr>\n",
       "    <tr>\n",
       "      <th>4</th>\n",
       "      <td>0</td>\n",
       "      <td>46</td>\n",
       "      <td>3.0</td>\n",
       "      <td>1</td>\n",
       "      <td>23.0</td>\n",
       "      <td>0.0</td>\n",
       "      <td>0</td>\n",
       "      <td>0</td>\n",
       "      <td>0</td>\n",
       "      <td>285.0</td>\n",
       "      <td>130.0</td>\n",
       "      <td>84.0</td>\n",
       "      <td>23.10</td>\n",
       "      <td>85.0</td>\n",
       "      <td>85.0</td>\n",
       "      <td>0</td>\n",
       "    </tr>\n",
       "  </tbody>\n",
       "</table>\n",
       "</div>"
      ],
      "text/plain": [
       "   male  age  education  currentSmoker  cigsPerDay  BPMeds  prevalentStroke  \\\n",
       "0     1   39        4.0              0         0.0     0.0                0   \n",
       "1     0   46        2.0              0         0.0     0.0                0   \n",
       "2     1   48        1.0              1        20.0     0.0                0   \n",
       "3     0   61        3.0              1        30.0     0.0                0   \n",
       "4     0   46        3.0              1        23.0     0.0                0   \n",
       "\n",
       "   prevalentHyp  diabetes  totChol  sysBP  diaBP    BMI  heartRate  glucose  \\\n",
       "0             0         0    195.0  106.0   70.0  26.97       80.0     77.0   \n",
       "1             0         0    250.0  121.0   81.0  28.73       95.0     76.0   \n",
       "2             0         0    245.0  127.5   80.0  25.34       75.0     70.0   \n",
       "3             1         0    225.0  150.0   95.0  28.58       65.0    103.0   \n",
       "4             0         0    285.0  130.0   84.0  23.10       85.0     85.0   \n",
       "\n",
       "   TenYearCHD  \n",
       "0           0  \n",
       "1           0  \n",
       "2           0  \n",
       "3           1  \n",
       "4           0  "
      ]
     },
     "execution_count": 3,
     "metadata": {},
     "output_type": "execute_result"
    }
   ],
   "source": [
    "data.head()"
   ]
  },
  {
   "cell_type": "code",
   "execution_count": 4,
   "metadata": {
    "colab": {
     "base_uri": "https://localhost:8080/"
    },
    "executionInfo": {
     "elapsed": 39,
     "status": "ok",
     "timestamp": 1682440742564,
     "user": {
      "displayName": "Nevedan U",
      "userId": "02429391569345386637"
     },
     "user_tz": -330
    },
    "id": "dAbW7JKAaGX9",
    "outputId": "7225e10e-bb9c-4d99-943b-ea045da8ba79"
   },
   "outputs": [
    {
     "data": {
      "text/plain": [
       "(4240, 16)"
      ]
     },
     "execution_count": 4,
     "metadata": {},
     "output_type": "execute_result"
    }
   ],
   "source": [
    "data.shape"
   ]
  },
  {
   "cell_type": "code",
   "execution_count": 5,
   "metadata": {
    "colab": {
     "base_uri": "https://localhost:8080/"
    },
    "executionInfo": {
     "elapsed": 35,
     "status": "ok",
     "timestamp": 1682440742565,
     "user": {
      "displayName": "Nevedan U",
      "userId": "02429391569345386637"
     },
     "user_tz": -330
    },
    "id": "5aSwmqXnaL_c",
    "outputId": "ff451226-536e-4181-d86f-cd592ce62b6f"
   },
   "outputs": [
    {
     "name": "stdout",
     "output_type": "stream",
     "text": [
      "<class 'pandas.core.frame.DataFrame'>\n",
      "RangeIndex: 4240 entries, 0 to 4239\n",
      "Data columns (total 16 columns):\n",
      " #   Column           Non-Null Count  Dtype  \n",
      "---  ------           --------------  -----  \n",
      " 0   male             4240 non-null   int64  \n",
      " 1   age              4240 non-null   int64  \n",
      " 2   education        4135 non-null   float64\n",
      " 3   currentSmoker    4240 non-null   int64  \n",
      " 4   cigsPerDay       4211 non-null   float64\n",
      " 5   BPMeds           4187 non-null   float64\n",
      " 6   prevalentStroke  4240 non-null   int64  \n",
      " 7   prevalentHyp     4240 non-null   int64  \n",
      " 8   diabetes         4240 non-null   int64  \n",
      " 9   totChol          4190 non-null   float64\n",
      " 10  sysBP            4240 non-null   float64\n",
      " 11  diaBP            4240 non-null   float64\n",
      " 12  BMI              4221 non-null   float64\n",
      " 13  heartRate        4239 non-null   float64\n",
      " 14  glucose          3852 non-null   float64\n",
      " 15  TenYearCHD       4240 non-null   int64  \n",
      "dtypes: float64(9), int64(7)\n",
      "memory usage: 530.1 KB\n"
     ]
    }
   ],
   "source": [
    "data.info()"
   ]
  },
  {
   "cell_type": "code",
   "execution_count": 6,
   "metadata": {
    "colab": {
     "base_uri": "https://localhost:8080/"
    },
    "executionInfo": {
     "elapsed": 33,
     "status": "ok",
     "timestamp": 1682440742566,
     "user": {
      "displayName": "Nevedan U",
      "userId": "02429391569345386637"
     },
     "user_tz": -330
    },
    "id": "ldQyJqmdaTuC",
    "outputId": "f1368973-fa36-40af-c5bc-9a58be0d113b"
   },
   "outputs": [
    {
     "name": "stdout",
     "output_type": "stream",
     "text": [
      "Index(['male', 'age', 'education', 'currentSmoker', 'cigsPerDay', 'BPMeds',\n",
      "       'prevalentStroke', 'prevalentHyp', 'diabetes', 'totChol', 'sysBP',\n",
      "       'diaBP', 'BMI', 'heartRate', 'glucose', 'TenYearCHD'],\n",
      "      dtype='object')\n",
      "16\n"
     ]
    }
   ],
   "source": [
    "print(data.select_dtypes(include=['float64','int64']).columns) #Printing the Names on all the Numerical Columns\n",
    "print(len(data.select_dtypes(include=['float64','int64']).columns)) #Printing the total number of Numerical Columns"
   ]
  },
  {
   "cell_type": "code",
   "execution_count": 7,
   "metadata": {
    "colab": {
     "base_uri": "https://localhost:8080/",
     "height": 364
    },
    "executionInfo": {
     "elapsed": 30,
     "status": "ok",
     "timestamp": 1682440742566,
     "user": {
      "displayName": "Nevedan U",
      "userId": "02429391569345386637"
     },
     "user_tz": -330
    },
    "id": "THzYGk6naTp-",
    "outputId": "3d832d25-b2f6-4209-f957-fe33b0044157"
   },
   "outputs": [
    {
     "data": {
      "text/html": [
       "<div>\n",
       "<style scoped>\n",
       "    .dataframe tbody tr th:only-of-type {\n",
       "        vertical-align: middle;\n",
       "    }\n",
       "\n",
       "    .dataframe tbody tr th {\n",
       "        vertical-align: top;\n",
       "    }\n",
       "\n",
       "    .dataframe thead th {\n",
       "        text-align: right;\n",
       "    }\n",
       "</style>\n",
       "<table border=\"1\" class=\"dataframe\">\n",
       "  <thead>\n",
       "    <tr style=\"text-align: right;\">\n",
       "      <th></th>\n",
       "      <th>male</th>\n",
       "      <th>age</th>\n",
       "      <th>education</th>\n",
       "      <th>currentSmoker</th>\n",
       "      <th>cigsPerDay</th>\n",
       "      <th>BPMeds</th>\n",
       "      <th>prevalentStroke</th>\n",
       "      <th>prevalentHyp</th>\n",
       "      <th>diabetes</th>\n",
       "      <th>totChol</th>\n",
       "      <th>sysBP</th>\n",
       "      <th>diaBP</th>\n",
       "      <th>BMI</th>\n",
       "      <th>heartRate</th>\n",
       "      <th>glucose</th>\n",
       "      <th>TenYearCHD</th>\n",
       "    </tr>\n",
       "  </thead>\n",
       "  <tbody>\n",
       "    <tr>\n",
       "      <th>count</th>\n",
       "      <td>4240.000000</td>\n",
       "      <td>4240.000000</td>\n",
       "      <td>4135.000000</td>\n",
       "      <td>4240.000000</td>\n",
       "      <td>4211.000000</td>\n",
       "      <td>4187.000000</td>\n",
       "      <td>4240.000000</td>\n",
       "      <td>4240.000000</td>\n",
       "      <td>4240.000000</td>\n",
       "      <td>4190.000000</td>\n",
       "      <td>4240.000000</td>\n",
       "      <td>4240.000000</td>\n",
       "      <td>4221.000000</td>\n",
       "      <td>4239.000000</td>\n",
       "      <td>3852.000000</td>\n",
       "      <td>4240.000000</td>\n",
       "    </tr>\n",
       "    <tr>\n",
       "      <th>mean</th>\n",
       "      <td>0.429245</td>\n",
       "      <td>49.580189</td>\n",
       "      <td>1.979444</td>\n",
       "      <td>0.494104</td>\n",
       "      <td>9.005937</td>\n",
       "      <td>0.029615</td>\n",
       "      <td>0.005896</td>\n",
       "      <td>0.310613</td>\n",
       "      <td>0.025708</td>\n",
       "      <td>236.699523</td>\n",
       "      <td>132.354599</td>\n",
       "      <td>82.897759</td>\n",
       "      <td>25.800801</td>\n",
       "      <td>75.878981</td>\n",
       "      <td>81.963655</td>\n",
       "      <td>0.151887</td>\n",
       "    </tr>\n",
       "    <tr>\n",
       "      <th>std</th>\n",
       "      <td>0.495027</td>\n",
       "      <td>8.572942</td>\n",
       "      <td>1.019791</td>\n",
       "      <td>0.500024</td>\n",
       "      <td>11.922462</td>\n",
       "      <td>0.169544</td>\n",
       "      <td>0.076569</td>\n",
       "      <td>0.462799</td>\n",
       "      <td>0.158280</td>\n",
       "      <td>44.591284</td>\n",
       "      <td>22.033300</td>\n",
       "      <td>11.910394</td>\n",
       "      <td>4.079840</td>\n",
       "      <td>12.025348</td>\n",
       "      <td>23.954335</td>\n",
       "      <td>0.358953</td>\n",
       "    </tr>\n",
       "    <tr>\n",
       "      <th>min</th>\n",
       "      <td>0.000000</td>\n",
       "      <td>32.000000</td>\n",
       "      <td>1.000000</td>\n",
       "      <td>0.000000</td>\n",
       "      <td>0.000000</td>\n",
       "      <td>0.000000</td>\n",
       "      <td>0.000000</td>\n",
       "      <td>0.000000</td>\n",
       "      <td>0.000000</td>\n",
       "      <td>107.000000</td>\n",
       "      <td>83.500000</td>\n",
       "      <td>48.000000</td>\n",
       "      <td>15.540000</td>\n",
       "      <td>44.000000</td>\n",
       "      <td>40.000000</td>\n",
       "      <td>0.000000</td>\n",
       "    </tr>\n",
       "    <tr>\n",
       "      <th>25%</th>\n",
       "      <td>0.000000</td>\n",
       "      <td>42.000000</td>\n",
       "      <td>1.000000</td>\n",
       "      <td>0.000000</td>\n",
       "      <td>0.000000</td>\n",
       "      <td>0.000000</td>\n",
       "      <td>0.000000</td>\n",
       "      <td>0.000000</td>\n",
       "      <td>0.000000</td>\n",
       "      <td>206.000000</td>\n",
       "      <td>117.000000</td>\n",
       "      <td>75.000000</td>\n",
       "      <td>23.070000</td>\n",
       "      <td>68.000000</td>\n",
       "      <td>71.000000</td>\n",
       "      <td>0.000000</td>\n",
       "    </tr>\n",
       "    <tr>\n",
       "      <th>50%</th>\n",
       "      <td>0.000000</td>\n",
       "      <td>49.000000</td>\n",
       "      <td>2.000000</td>\n",
       "      <td>0.000000</td>\n",
       "      <td>0.000000</td>\n",
       "      <td>0.000000</td>\n",
       "      <td>0.000000</td>\n",
       "      <td>0.000000</td>\n",
       "      <td>0.000000</td>\n",
       "      <td>234.000000</td>\n",
       "      <td>128.000000</td>\n",
       "      <td>82.000000</td>\n",
       "      <td>25.400000</td>\n",
       "      <td>75.000000</td>\n",
       "      <td>78.000000</td>\n",
       "      <td>0.000000</td>\n",
       "    </tr>\n",
       "    <tr>\n",
       "      <th>75%</th>\n",
       "      <td>1.000000</td>\n",
       "      <td>56.000000</td>\n",
       "      <td>3.000000</td>\n",
       "      <td>1.000000</td>\n",
       "      <td>20.000000</td>\n",
       "      <td>0.000000</td>\n",
       "      <td>0.000000</td>\n",
       "      <td>1.000000</td>\n",
       "      <td>0.000000</td>\n",
       "      <td>263.000000</td>\n",
       "      <td>144.000000</td>\n",
       "      <td>90.000000</td>\n",
       "      <td>28.040000</td>\n",
       "      <td>83.000000</td>\n",
       "      <td>87.000000</td>\n",
       "      <td>0.000000</td>\n",
       "    </tr>\n",
       "    <tr>\n",
       "      <th>max</th>\n",
       "      <td>1.000000</td>\n",
       "      <td>70.000000</td>\n",
       "      <td>4.000000</td>\n",
       "      <td>1.000000</td>\n",
       "      <td>70.000000</td>\n",
       "      <td>1.000000</td>\n",
       "      <td>1.000000</td>\n",
       "      <td>1.000000</td>\n",
       "      <td>1.000000</td>\n",
       "      <td>696.000000</td>\n",
       "      <td>295.000000</td>\n",
       "      <td>142.500000</td>\n",
       "      <td>56.800000</td>\n",
       "      <td>143.000000</td>\n",
       "      <td>394.000000</td>\n",
       "      <td>1.000000</td>\n",
       "    </tr>\n",
       "  </tbody>\n",
       "</table>\n",
       "</div>"
      ],
      "text/plain": [
       "              male          age    education  currentSmoker   cigsPerDay  \\\n",
       "count  4240.000000  4240.000000  4135.000000    4240.000000  4211.000000   \n",
       "mean      0.429245    49.580189     1.979444       0.494104     9.005937   \n",
       "std       0.495027     8.572942     1.019791       0.500024    11.922462   \n",
       "min       0.000000    32.000000     1.000000       0.000000     0.000000   \n",
       "25%       0.000000    42.000000     1.000000       0.000000     0.000000   \n",
       "50%       0.000000    49.000000     2.000000       0.000000     0.000000   \n",
       "75%       1.000000    56.000000     3.000000       1.000000    20.000000   \n",
       "max       1.000000    70.000000     4.000000       1.000000    70.000000   \n",
       "\n",
       "            BPMeds  prevalentStroke  prevalentHyp     diabetes      totChol  \\\n",
       "count  4187.000000      4240.000000   4240.000000  4240.000000  4190.000000   \n",
       "mean      0.029615         0.005896      0.310613     0.025708   236.699523   \n",
       "std       0.169544         0.076569      0.462799     0.158280    44.591284   \n",
       "min       0.000000         0.000000      0.000000     0.000000   107.000000   \n",
       "25%       0.000000         0.000000      0.000000     0.000000   206.000000   \n",
       "50%       0.000000         0.000000      0.000000     0.000000   234.000000   \n",
       "75%       0.000000         0.000000      1.000000     0.000000   263.000000   \n",
       "max       1.000000         1.000000      1.000000     1.000000   696.000000   \n",
       "\n",
       "             sysBP        diaBP          BMI    heartRate      glucose  \\\n",
       "count  4240.000000  4240.000000  4221.000000  4239.000000  3852.000000   \n",
       "mean    132.354599    82.897759    25.800801    75.878981    81.963655   \n",
       "std      22.033300    11.910394     4.079840    12.025348    23.954335   \n",
       "min      83.500000    48.000000    15.540000    44.000000    40.000000   \n",
       "25%     117.000000    75.000000    23.070000    68.000000    71.000000   \n",
       "50%     128.000000    82.000000    25.400000    75.000000    78.000000   \n",
       "75%     144.000000    90.000000    28.040000    83.000000    87.000000   \n",
       "max     295.000000   142.500000    56.800000   143.000000   394.000000   \n",
       "\n",
       "        TenYearCHD  \n",
       "count  4240.000000  \n",
       "mean      0.151887  \n",
       "std       0.358953  \n",
       "min       0.000000  \n",
       "25%       0.000000  \n",
       "50%       0.000000  \n",
       "75%       0.000000  \n",
       "max       1.000000  "
      ]
     },
     "execution_count": 7,
     "metadata": {},
     "output_type": "execute_result"
    }
   ],
   "source": [
    "data.describe()"
   ]
  },
  {
   "cell_type": "code",
   "execution_count": 8,
   "metadata": {
    "colab": {
     "base_uri": "https://localhost:8080/"
    },
    "executionInfo": {
     "elapsed": 30,
     "status": "ok",
     "timestamp": 1682440742567,
     "user": {
      "displayName": "Nevedan U",
      "userId": "02429391569345386637"
     },
     "user_tz": -330
    },
    "id": "YDytY4xleEvc",
    "outputId": "30c9c8ed-7708-4a76-d99d-ab6e3a0c6c80"
   },
   "outputs": [
    {
     "name": "stdout",
     "output_type": "stream",
     "text": [
      "Total Missing Values from the whole data set are:  645\n",
      "Number of Columns with Missing Values are:  7\n",
      "Names of the Columns with Missing Values are:  Index(['education', 'cigsPerDay', 'BPMeds', 'totChol', 'BMI', 'heartRate',\n",
      "       'glucose'],\n",
      "      dtype='object')\n"
     ]
    }
   ],
   "source": [
    "print(f'Total Missing Values from the whole data set are: ', data.isnull().values.sum())  # Checking the total Null Values of the whole data set \n",
    "print(f'Number of Columns with Missing Values are: ', len(data.columns[data.isnull().any()])) #No of Columns with Missing Valeus\n",
    "print(f'Names of the Columns with Missing Values are: ', data.columns[data.isnull().any()]) #Checking the Name of the columns with null values"
   ]
  },
  {
   "cell_type": "code",
   "execution_count": null,
   "metadata": {
    "executionInfo": {
     "elapsed": 27,
     "status": "ok",
     "timestamp": 1682440742567,
     "user": {
      "displayName": "Nevedan U",
      "userId": "02429391569345386637"
     },
     "user_tz": -330
    },
    "id": "8QcrOzMSflAB"
   },
   "outputs": [],
   "source": []
  },
  {
   "cell_type": "code",
   "execution_count": 9,
   "metadata": {
    "executionInfo": {
     "elapsed": 27,
     "status": "ok",
     "timestamp": 1682440742568,
     "user": {
      "displayName": "Nevedan U",
      "userId": "02429391569345386637"
     },
     "user_tz": -330
    },
    "id": "SXWa6-lIaZSx"
   },
   "outputs": [],
   "source": [
    "#the columns we want to fill missing values for\n",
    "\n",
    "selected_cols = ['education', 'cigsPerDay', 'BPMeds','totChol','BMI','heartRate','glucose']\n",
    "\n",
    "\n",
    "mean_values = data[selected_cols].mean()\n",
    "\n",
    "# Replace missing and NaN values with mean values for the selected columns\n",
    "data[selected_cols] = data[selected_cols].fillna(mean_values)\n",
    "\n",
    "#df.to_csv('new_file.csv', index=False)"
   ]
  },
  {
   "cell_type": "code",
   "execution_count": 10,
   "metadata": {
    "colab": {
     "base_uri": "https://localhost:8080/"
    },
    "executionInfo": {
     "elapsed": 26,
     "status": "ok",
     "timestamp": 1682440742568,
     "user": {
      "displayName": "Nevedan U",
      "userId": "02429391569345386637"
     },
     "user_tz": -330
    },
    "id": "4paNUXn4tBOb",
    "outputId": "de3c45ad-533c-4ed8-c038-0395a83926ce"
   },
   "outputs": [
    {
     "name": "stdout",
     "output_type": "stream",
     "text": [
      "(4240, 16)\n"
     ]
    }
   ],
   "source": [
    "\n",
    "print(data.shape)"
   ]
  },
  {
   "cell_type": "code",
   "execution_count": null,
   "metadata": {
    "executionInfo": {
     "elapsed": 23,
     "status": "ok",
     "timestamp": 1682440742568,
     "user": {
      "displayName": "Nevedan U",
      "userId": "02429391569345386637"
     },
     "user_tz": -330
    },
    "id": "ymno5Fpbs0Rl"
   },
   "outputs": [],
   "source": []
  },
  {
   "cell_type": "code",
   "execution_count": 11,
   "metadata": {
    "colab": {
     "base_uri": "https://localhost:8080/"
    },
    "executionInfo": {
     "elapsed": 24,
     "status": "ok",
     "timestamp": 1682440742569,
     "user": {
      "displayName": "Nevedan U",
      "userId": "02429391569345386637"
     },
     "user_tz": -330
    },
    "id": "oiiUW0nLtGS1",
    "outputId": "7d15dc0d-40a5-41a9-a49d-c3d639db499f"
   },
   "outputs": [
    {
     "name": "stdout",
     "output_type": "stream",
     "text": [
      "(4240, 16)\n"
     ]
    }
   ],
   "source": [
    "\n",
    "print(data.shape)"
   ]
  },
  {
   "cell_type": "code",
   "execution_count": 12,
   "metadata": {
    "colab": {
     "base_uri": "https://localhost:8080/"
    },
    "executionInfo": {
     "elapsed": 22,
     "status": "ok",
     "timestamp": 1682440742569,
     "user": {
      "displayName": "Nevedan U",
      "userId": "02429391569345386637"
     },
     "user_tz": -330
    },
    "id": "yx286qzyaZPj",
    "outputId": "ee5c80b3-908e-40e1-d845-717494facf66"
   },
   "outputs": [
    {
     "data": {
      "text/plain": [
       "male               0\n",
       "age                0\n",
       "education          0\n",
       "currentSmoker      0\n",
       "cigsPerDay         0\n",
       "BPMeds             0\n",
       "prevalentStroke    0\n",
       "prevalentHyp       0\n",
       "diabetes           0\n",
       "totChol            0\n",
       "sysBP              0\n",
       "diaBP              0\n",
       "BMI                0\n",
       "heartRate          0\n",
       "glucose            0\n",
       "TenYearCHD         0\n",
       "dtype: int64"
      ]
     },
     "execution_count": 12,
     "metadata": {},
     "output_type": "execute_result"
    }
   ],
   "source": [
    "data.isnull().sum()"
   ]
  },
  {
   "cell_type": "code",
   "execution_count": 13,
   "metadata": {
    "colab": {
     "base_uri": "https://localhost:8080/"
    },
    "executionInfo": {
     "elapsed": 19,
     "status": "ok",
     "timestamp": 1682440742569,
     "user": {
      "displayName": "Nevedan U",
      "userId": "02429391569345386637"
     },
     "user_tz": -330
    },
    "id": "R6mPhcT6aZNF",
    "outputId": "dc49fb7f-deb6-4e2a-80c1-7ee363cd98d4"
   },
   "outputs": [
    {
     "name": "stdout",
     "output_type": "stream",
     "text": [
      "Total Missing Values from the whole data set are:  0\n",
      "Number of Columns with Missing Values are:  0\n",
      "Names of the Columns with Missing Values are:  Index([], dtype='object')\n"
     ]
    }
   ],
   "source": [
    " # Checking the total Null Values of the whole data set\n",
    "print(f'Total Missing Values from the whole data set are: ', data.isnull().values.sum())\n",
    "  \n",
    "#No of Columns with Missing Valeus\n",
    "print(f'Number of Columns with Missing Values are: ', len(data.columns[data.isnull().any()])) \n",
    "\n",
    "#Checking the Name of the columns with null values\n",
    "print(f'Names of the Columns with Missing Values are: ', data.columns[data.isnull().any()]) "
   ]
  },
  {
   "cell_type": "code",
   "execution_count": 14,
   "metadata": {
    "colab": {
     "base_uri": "https://localhost:8080/",
     "height": 467
    },
    "executionInfo": {
     "elapsed": 17,
     "status": "ok",
     "timestamp": 1682440742569,
     "user": {
      "displayName": "Nevedan U",
      "userId": "02429391569345386637"
     },
     "user_tz": -330
    },
    "id": "CZeasxvTMc6R",
    "outputId": "0f8e1a3a-005c-4e30-8d3a-7dfedd21d8bd"
   },
   "outputs": [
    {
     "data": {
      "image/png": "[encoded data removed]",
      "text/plain": [
       "<Figure size 640x480 with 1 Axes>"
      ]
     },
     "metadata": {},
     "output_type": "display_data"
    },
    {
     "name": "stdout",
     "output_type": "stream",
     "text": [
      "Total Values: 4240\n"
     ]
    }
   ],
   "source": [
    "import matplotlib.pyplot as plt\n",
    "\n",
    "sns.countplot(x='TenYearCHD',data=data,palette='bright',edgecolor='black')\n",
    "#plt.hist(data[\"TenYearCHD\"]);\n",
    "\n",
    "\n",
    "for i in range(len(data['TenYearCHD'].value_counts())):\n",
    "    count = data['TenYearCHD'].value_counts()[i]\n",
    "    label = count\n",
    "    plt.annotate(label, (i, count), ha='center', va='bottom', fontsize=12)\n",
    "\n",
    "plt.show()\n",
    "\n",
    "print(f'Total Values:',  data.TenYearCHD.count()) "
   ]
  },
  {
   "cell_type": "code",
   "execution_count": 15,
   "metadata": {
    "colab": {
     "base_uri": "https://localhost:8080/",
     "height": 686
    },
    "executionInfo": {
     "elapsed": 1695,
     "status": "ok",
     "timestamp": 1682440744248,
     "user": {
      "displayName": "Nevedan U",
      "userId": "02429391569345386637"
     },
     "user_tz": -330
    },
    "id": "d5g7BcRnM7OO",
    "outputId": "be4230b0-4353-404e-9c5d-7ddccf1173da"
   },
   "outputs": [
    {
     "data": {
      "image/png": "[encoded data removed]",
      "text/plain": [
       "<Figure size 1000x800 with 1 Axes>"
      ]
     },
     "metadata": {},
     "output_type": "display_data"
    }
   ],
   "source": [
    "data[\"TenYearCHD\"].value_counts(normalize=True).plot(kind=\"pie\", legend=True, table=True, figsize=(10,8));"
   ]
  },
  {
   "cell_type": "code",
   "execution_count": 16,
   "metadata": {
    "executionInfo": {
     "elapsed": 38,
     "status": "ok",
     "timestamp": 1682440744249,
     "user": {
      "displayName": "Nevedan U",
      "userId": "02429391569345386637"
     },
     "user_tz": -330
    },
    "id": "jeV1-3CB7jIb"
   },
   "outputs": [],
   "source": [
    "X = data.drop(['TenYearCHD'], axis=1)\n",
    "y = data['TenYearCHD']"
   ]
  },
  {
   "cell_type": "code",
   "execution_count": 17,
   "metadata": {
    "executionInfo": {
     "elapsed": 37,
     "status": "ok",
     "timestamp": 1682440744249,
     "user": {
      "displayName": "Nevedan U",
      "userId": "02429391569345386637"
     },
     "user_tz": -330
    },
    "id": "IajWscySaxaM"
   },
   "outputs": [],
   "source": [
    "X_train, X_test, y_train, y_test = train_test_split(X, y, test_size=0.2, random_state=42)"
   ]
  },
  {
   "cell_type": "code",
   "execution_count": 18,
   "metadata": {
    "colab": {
     "base_uri": "https://localhost:8080/"
    },
    "executionInfo": {
     "elapsed": 36,
     "status": "ok",
     "timestamp": 1682440744249,
     "user": {
      "displayName": "Nevedan U",
      "userId": "02429391569345386637"
     },
     "user_tz": -330
    },
    "id": "Q8E7uBIybG6O",
    "outputId": "b155fa7e-892a-4e3a-c9a5-e33603d5c2fa"
   },
   "outputs": [
    {
     "name": "stdout",
     "output_type": "stream",
     "text": [
      "<class 'pandas.core.frame.DataFrame'>\n",
      "<class 'pandas.core.frame.DataFrame'>\n",
      "<class 'pandas.core.series.Series'>\n",
      "<class 'pandas.core.series.Series'>\n",
      "(3392, 15)\n",
      "(848, 15)\n",
      "(3392,)\n",
      "(848,)\n"
     ]
    }
   ],
   "source": [
    "print(type(X_train))\n",
    "print(type(X_test))\n",
    "print(type(y_train))\n",
    "print(type(y_test))\n",
    "print(X_train.shape)\n",
    "print(X_test.shape)\n",
    "print(y_train.shape)\n",
    "print(y_test.shape)"
   ]
  },
  {
   "cell_type": "code",
   "execution_count": 19,
   "metadata": {},
   "outputs": [
    {
     "name": "stdout",
     "output_type": "stream",
     "text": [
      "[1350 1434 2500 1128 4144 3883 3624  794  298  184  642 3331 1613 3134\n",
      " 3378 2793 3317 2067  862  843  270 3159 4110 2922 2358 2442 1088 2913\n",
      " 2781 4208 3209 2154 3674 4212 2820 2552 2321 1860 4062  506  274  150\n",
      " 3665 3433  393 1929 3793  693 1161 1992 1052 3496 3698  109  432  759\n",
      "   96 1829 1378 3043  505 1563  305  650 2627  149  471 1743  561  865\n",
      "  551 3752 1025 4107 3936  584 1406 3429  296 1474 1104 2189 2957 1502\n",
      " 2015 1894 2404 1113 2475  463 1320 4165 1512 4045 2031 2247  166 1995\n",
      " 3671 1411  655 2102 1769 1752  297 3441 3193 2789 1505  157  817 2283\n",
      " 1882  530 3668  151 1878 1659 2098  511 1609 3121   84 1451  932 2493\n",
      " 2564 3962 2602 3528 4164 3865 3664  314 2092 3711 2764 2119 1032  755\n",
      "  308  366 3607  254 2267 2481 1670 2659 1210 1298 3571 1756 3469 1163\n",
      " 1598 1846 3885 3812 1351  733 1873  731  889 2473  691 3160  179  188\n",
      " 1207 2259 3280 2684  196  798 3669 3074 1029 1818 3079 1034 4137 3419\n",
      " 1780  315  538 1268  144  318 2506 3964 3842  856 1778  764  838  220\n",
      " 1898 4135 2127 2988 1233 3802 3081 3944  744 1777  969 3406 1662   17\n",
      " 2611  205 1392  676 1176 2178 2057  438 1421  705 4142  211 1966   70\n",
      "  238 4155 3192 1501   33 3178 4179    8 1830 3929 3013 3399 2677  602\n",
      " 2078  120 3642 3328 2399 2822  175 1657 1330  746 2929 3542 1672 3653\n",
      " 1714 2314  871 1204 3700 2337  596 2925 2545 2320 2636 1814 3185 2856\n",
      "  599  869 4056   93 4092 2567 1499 1180 3584  915  720 3765 1178 3218\n",
      "  555  544  643 3660 1073 1444  351  978 2843  670 1641  960  680 3816\n",
      "   69 2936 2603 2303 1398 1586 2543 1510 3423 1228 2917 3751 2899 3265\n",
      "  857 3689  809 2377 1106 2835   61 2586 2107 1691  881 2725 2673   14\n",
      " 3176 3186 3819 4018 3998 2159 3813 1157 2600 1666 2669 4152 3276 1543\n",
      " 2287  805 2894   51 1515  457 2339  751  410 3595 2704 1482 2609 1041\n",
      " 1321 2515 4119  790 1038 1071  468 2615 1123  618  958 3757  132  807\n",
      " 1921 2346 3153 3589 1590 2177 1891 3271 2023 3422 4000  414 3195 4126\n",
      " 3613 3336 4038 3128 2413  330 3615 1461 3965 2505  134 2088 2260 3299\n",
      "  494 1258  990  490 3198 2854 4067   32 3714 3418 1264 1849 4118 1507\n",
      " 3917 3786 2750 3270 3907 1361 2574 1731  621 3860 1417 2579 1592 2628\n",
      " 2083  229 3590  598 1741  683 2484  170 3357   23  371 3070 3699 3652\n",
      " 2700 1295 4109  408 1174 3260 3187 3526 4239 1454 1051  682 2328 4238\n",
      "   45  568  879 3774   43 3531 2702 2585 2507 1533  576 3783 3987 2364\n",
      "  251 1315 1366 4177 3741 2794 3246 1550 1001  325 1293 2800 2381 2334\n",
      " 1760 2939 3390 1117 3262 2827 3355 2422 1412  497 1407 3001 1149  309\n",
      " 2242 2547  810 3133 2788 3512 2887   99 1292 3161  888 3268 2390 1728\n",
      " 4087 2672 3188 2666  461 1539 2792  495 3352 3787 2348  501 2063 2618\n",
      " 2743 4048 3093  594  999 3705  174  217 4053 1395  964 2893 1289 2534\n",
      " 1915 3969 3788 2760  156  800 2857 3279 1255 2073 1027   95 1188  240\n",
      " 1003 3173 3295 2407 4040  465 2821 2222 2091 3915 1278 2985 1602 1840\n",
      " 1338  177 2244 1582 4140  937 2468 4202   73 2566 1192  831 2436 4173\n",
      " 2458 4225 4005   52  402  734  436 3534 1910  564 1779   26 1222  214\n",
      " 2240 2266 3544 3739 3481 1064 1096 2459 2380  321 2680  605 3047 1432\n",
      " 1116 2323  527 3054 4077 1642 4128   44 2258 3979 2902  354  785 3470\n",
      " 1345 1652 3472 3360  534  718 2844 3102  256 3443  761 1800 1334 2095\n",
      " 3836 1322 1022 2721  291 3827  811 3438 1299 1569  903  263 1589 2232\n",
      " 1216 2531   56 1437 1615 2973 3553 1370  803 2812 1477 2402 1961 2406\n",
      " 3815 3771 1024   12  787  322 1187 2182 3303 1948 1803 3403 4078 1426\n",
      " 3095 3064 2829 2525 2577 1509 3339 2522  416 3377 2369  227  690 1450\n",
      " 4120 2503 2834 2763 3232 3274 1600 3854  183 3677 1162  486  802 1055\n",
      " 1720  139 3042 4015  266 2387 3536   63  907 1225 3570 3930 3184 3344\n",
      " 3407 2302 1926 1017 3997 3984 3832 3894 4176 3990 3046 1138 3125  279\n",
      " 3830 3402 1623  358 3116  299 1850 1260 1904 2218 3797 2477  415 2356\n",
      " 3562 1532 1235 2736 3366 1973 2852 2181 3428 1242 2949 2124 1487 1545\n",
      " 3766 3089   58   76  368 1186 2619 1114 1020 2290 2044 3986 2664 1213\n",
      " 1557  908 1729 3277  124 1084 3088 1480 2487 3848  429 1732  665 2211\n",
      " 4218  829 3283  442 3011 1552  433 2409  387   30 1754  203 4100 3621\n",
      " 3364 4161  324 3105 4167 2186 2937  478  426 2415  443  893  668 3902\n",
      " 1632 1044  192  567 4209 1261    6 3468  439  289 1237 1006 3220 2341\n",
      " 2592 1374 3835 3451 3873 1513 2918  897 2716 1281  194  450 3168 2587\n",
      " 1765   29 3927 1844 4178 4193 2897  910]\n"
     ]
    }
   ],
   "source": [
    "X_test = pd.DataFrame(X_test)\n",
    "print(X_test.index.values)"
   ]
  },
  {
   "cell_type": "code",
   "execution_count": 20,
   "metadata": {
    "executionInfo": {
     "elapsed": 29,
     "status": "ok",
     "timestamp": 1682440744250,
     "user": {
      "displayName": "Nevedan U",
      "userId": "02429391569345386637"
     },
     "user_tz": -330
    },
    "id": "6Oc8-c9OTek3"
   },
   "outputs": [
    {
     "data": {
      "text/plain": [
       "male                 0.00\n",
       "age                 63.00\n",
       "education            1.00\n",
       "currentSmoker        0.00\n",
       "cigsPerDay           0.00\n",
       "BPMeds               0.00\n",
       "prevalentStroke      0.00\n",
       "prevalentHyp         1.00\n",
       "diabetes             0.00\n",
       "totChol            306.00\n",
       "sysBP              195.00\n",
       "diaBP              105.00\n",
       "BMI                 27.96\n",
       "heartRate           75.00\n",
       "glucose             87.00\n",
       "TenYearCHD           1.00\n",
       "Name: 4193, dtype: float64"
      ]
     },
     "metadata": {},
     "output_type": "display_data"
    }
   ],
   "source": [
    "display(data_verify.loc[4193])"
   ]
  },
  {
   "cell_type": "code",
   "execution_count": 21,
   "metadata": {
    "executionInfo": {
     "elapsed": 28,
     "status": "ok",
     "timestamp": 1682440744250,
     "user": {
      "displayName": "Nevedan U",
      "userId": "02429391569345386637"
     },
     "user_tz": -330
    },
    "id": "Eq4MQjVlbLTq"
   },
   "outputs": [],
   "source": [
    "#Feature Scaling\n",
    "\n",
    "scaler= StandardScaler() \n",
    "X_train = scaler.fit_transform(X_train)\n",
    "X_test = scaler.transform(X_test)"
   ]
  },
  {
   "cell_type": "code",
   "execution_count": 22,
   "metadata": {},
   "outputs": [],
   "source": [
    "# from imblearn.over_sampling import SMOTE\n",
    "# smt = SMOTE()\n",
    "# X_train, y_train = smt.fit_resample(X_train, y_train)\n",
    "# X_test, y_test = smt.fit_resample(X_test, y_test)"
   ]
  },
  {
   "cell_type": "code",
   "execution_count": 23,
   "metadata": {
    "colab": {
     "base_uri": "https://localhost:8080/",
     "height": 380
    },
    "executionInfo": {
     "elapsed": 5,
     "status": "error",
     "timestamp": 1682441925993,
     "user": {
      "displayName": "Nevedan U",
      "userId": "02429391569345386637"
     },
     "user_tz": -330
    },
    "id": "7OyVln1abOxA",
    "outputId": "8b661a07-184b-470d-93fd-fac6ca1f351c"
   },
   "outputs": [
    {
     "data": {
      "text/html": [
       "<style>#sk-container-id-1 {color: black;background-color: white;}#sk-container-id-1 pre{padding: 0;}#sk-container-id-1 div.sk-toggleable {background-color: white;}#sk-container-id-1 label.sk-toggleable__label {cursor: pointer;display: block;width: 100%;margin-bottom: 0;padding: 0.3em;box-sizing: border-box;text-align: center;}#sk-container-id-1 label.sk-toggleable__label-arrow:before {content: \"▸\";float: left;margin-right: 0.25em;color: #696969;}#sk-container-id-1 label.sk-toggleable__label-arrow:hover:before {color: black;}#sk-container-id-1 div.sk-estimator:hover label.sk-toggleable__label-arrow:before {color: black;}#sk-container-id-1 div.sk-toggleable__content {max-height: 0;max-width: 0;overflow: hidden;text-align: left;background-color: #f0f8ff;}#sk-container-id-1 div.sk-toggleable__content pre {margin: 0.2em;color: black;border-radius: 0.25em;background-color: #f0f8ff;}#sk-container-id-1 input.sk-toggleable__control:checked~div.sk-toggleable__content {max-height: 200px;max-width: 100%;overflow: auto;}#sk-container-id-1 input.sk-toggleable__control:checked~label.sk-toggleable__label-arrow:before {content: \"▾\";}#sk-container-id-1 div.sk-estimator input.sk-toggleable__control:checked~label.sk-toggleable__label {background-color: #d4ebff;}#sk-container-id-1 div.sk-label input.sk-toggleable__control:checked~label.sk-toggleable__label {background-color: #d4ebff;}#sk-container-id-1 input.sk-hidden--visually {border: 0;clip: rect(1px 1px 1px 1px);clip: rect(1px, 1px, 1px, 1px);height: 1px;margin: -1px;overflow: hidden;padding: 0;position: absolute;width: 1px;}#sk-container-id-1 div.sk-estimator {font-family: monospace;background-color: #f0f8ff;border: 1px dotted black;border-radius: 0.25em;box-sizing: border-box;margin-bottom: 0.5em;}#sk-container-id-1 div.sk-estimator:hover {background-color: #d4ebff;}#sk-container-id-1 div.sk-parallel-item::after {content: \"\";width: 100%;border-bottom: 1px solid gray;flex-grow: 1;}#sk-container-id-1 div.sk-label:hover label.sk-toggleable__label {background-color: #d4ebff;}#sk-container-id-1 div.sk-serial::before {content: \"\";position: absolute;border-left: 1px solid gray;box-sizing: border-box;top: 0;bottom: 0;left: 50%;z-index: 0;}#sk-container-id-1 div.sk-serial {display: flex;flex-direction: column;align-items: center;background-color: white;padding-right: 0.2em;padding-left: 0.2em;position: relative;}#sk-container-id-1 div.sk-item {position: relative;z-index: 1;}#sk-container-id-1 div.sk-parallel {display: flex;align-items: stretch;justify-content: center;background-color: white;position: relative;}#sk-container-id-1 div.sk-item::before, #sk-container-id-1 div.sk-parallel-item::before {content: \"\";position: absolute;border-left: 1px solid gray;box-sizing: border-box;top: 0;bottom: 0;left: 50%;z-index: -1;}#sk-container-id-1 div.sk-parallel-item {display: flex;flex-direction: column;z-index: 1;position: relative;background-color: white;}#sk-container-id-1 div.sk-parallel-item:first-child::after {align-self: flex-end;width: 50%;}#sk-container-id-1 div.sk-parallel-item:last-child::after {align-self: flex-start;width: 50%;}#sk-container-id-1 div.sk-parallel-item:only-child::after {width: 0;}#sk-container-id-1 div.sk-dashed-wrapped {border: 1px dashed gray;margin: 0 0.4em 0.5em 0.4em;box-sizing: border-box;padding-bottom: 0.4em;background-color: white;}#sk-container-id-1 div.sk-label label {font-family: monospace;font-weight: bold;display: inline-block;line-height: 1.2em;}#sk-container-id-1 div.sk-label-container {text-align: center;}#sk-container-id-1 div.sk-container {/* jupyter's `normalize.less` sets `[hidden] { display: none; }` but bootstrap.min.css set `[hidden] { display: none !important; }` so we also need the `!important` here to be able to override the default hidden behavior on the sphinx rendered scikit-learn.org. See: https://github.com/scikit-learn/scikit-learn/issues/21755 */display: inline-block !important;position: relative;}#sk-container-id-1 div.sk-text-repr-fallback {display: none;}</style><div id=\"sk-container-id-1\" class=\"sk-top-container\"><div class=\"sk-text-repr-fallback\"><pre>GaussianNB()</pre><b>In a Jupyter environment, please rerun this cell to show the HTML representation or trust the notebook. <br />On GitHub, the HTML representation is unable to render, please try loading this page with nbviewer.org.</b></div><div class=\"sk-container\" hidden><div class=\"sk-item\"><div class=\"sk-estimator sk-toggleable\"><input class=\"sk-toggleable__control sk-hidden--visually\" id=\"sk-estimator-id-1\" type=\"checkbox\" checked><label for=\"sk-estimator-id-1\" class=\"sk-toggleable__label sk-toggleable__label-arrow\">GaussianNB</label><div class=\"sk-toggleable__content\"><pre>GaussianNB()</pre></div></div></div></div></div>"
      ],
      "text/plain": [
       "GaussianNB()"
      ]
     },
     "execution_count": 23,
     "metadata": {},
     "output_type": "execute_result"
    }
   ],
   "source": [
    "# Naive bayes\n",
    "\n",
    "from sklearn.naive_bayes import GaussianNB\n",
    "\n",
    "# Create Naive Bayes classifier object and train on the training data\n",
    "nb_clf = GaussianNB()\n",
    "nb_clf.fit(X_train, y_train)\n",
    "\n",
    "# from sklearn.model_selection import GridSearchCV\n",
    "# params = {'alpha': [0.1, 1.0, 10.0]}\n",
    "# nb_clf = GridSearchCV(GaussianNB(), params, cv=5)\n",
    "# nb_clf.fit(X_train, y_train)\n",
    "# print(nb_clf.best_params_)\n",
    "\n"
   ]
  },
  {
   "cell_type": "code",
   "execution_count": 24,
   "metadata": {
    "colab": {
     "base_uri": "https://localhost:8080/"
    },
    "executionInfo": {
     "elapsed": 27,
     "status": "ok",
     "timestamp": 1682440744251,
     "user": {
      "displayName": "Nevedan U",
      "userId": "02429391569345386637"
     },
     "user_tz": -330
    },
    "id": "MTxUUDP-qxp_",
    "outputId": "daf0b12a-0dae-4b74-bf0a-cfecd5f80ec9"
   },
   "outputs": [
    {
     "name": "stdout",
     "output_type": "stream",
     "text": [
      "ACCURACY FROM TRAINING DATASET :\n",
      "Accuracy score:  82.22\n",
      "Confusion matrix: \n",
      " [[2674  197]\n",
      " [ 406  115]]\n",
      "Classification report: \n",
      "               precision    recall  f1-score   support\n",
      "\n",
      "           0     0.8682    0.9314    0.8987      2871\n",
      "           1     0.3686    0.2207    0.2761       521\n",
      "\n",
      "    accuracy                         0.8222      3392\n",
      "   macro avg     0.6184    0.5761    0.5874      3392\n",
      "weighted avg     0.7914    0.8222    0.8030      3392\n",
      "\n",
      "ACCURACY FROM Test DATASET :\n",
      "Accuracy score:  83.37\n",
      "Confusion matrix: \n",
      " [[686  39]\n",
      " [102  21]]\n",
      "Classification report: \n",
      "               precision    recall  f1-score   support\n",
      "\n",
      "           0     0.8706    0.9462    0.9068       725\n",
      "           1     0.3500    0.1707    0.2295       123\n",
      "\n",
      "    accuracy                         0.8337       848\n",
      "   macro avg     0.6103    0.5585    0.5682       848\n",
      "weighted avg     0.7951    0.8337    0.8086       848\n",
      "\n"
     ]
    },
    {
     "data": {
      "image/png": "[encoded data removed]",
      "text/plain": [
       "<Figure size 640x480 with 1 Axes>"
      ]
     },
     "metadata": {},
     "output_type": "display_data"
    }
   ],
   "source": [
    "# evaluate the model\n",
    "\n",
    "\n",
    "nb_train_pred = nb_clf.predict(X_train)\n",
    "nb_y_pred = nb_clf.predict(X_test)\n",
    "\n",
    "print(\"ACCURACY FROM TRAINING DATASET :\")\n",
    "print(\"Accuracy score: \",round(accuracy_score(y_train,nb_train_pred)*100,2))\n",
    "print(\"Confusion matrix: \\n\",confusion_matrix(y_train,nb_train_pred))\n",
    "print(\"Classification report: \\n\",classification_report(y_train,nb_train_pred,digits=4))\n",
    "\n",
    "\n",
    "print(\"ACCURACY FROM Test DATASET :\")\n",
    "print(\"Accuracy score: \",round(accuracy_score(y_test,nb_y_pred)*100,2))\n",
    "print(\"Confusion matrix: \\n\",confusion_matrix(y_test,nb_y_pred))\n",
    "print(\"Classification report: \\n\",classification_report(y_test,nb_y_pred,digits=4))\n",
    "\n",
    "#plotting graph\n",
    "train_acc = accuracy_score(y_train, nb_train_pred)\n",
    "test_acc = accuracy_score(y_test, nb_y_pred)\n",
    "\n",
    "# create a bar chart to display accuracy scores\n",
    "fig, ax = plt.subplots()\n",
    "ax.bar([0.2, 0.6], [train_acc, test_acc], color=['green', 'orange'], width=0.2)\n",
    "ax.set_title('Accuracy Score')\n",
    "ax.set_xlabel('Dataset')\n",
    "ax.set_ylabel('Accuracy')\n",
    "ax.set_xticks([0.2, 0.6])\n",
    "ax.set_xticklabels(['Train', 'Test'])\n",
    "ax.set_ylim([0, 1])\n",
    "ax.set_yticks([i*0.1 for i in range(11)])\n",
    "plt.show()"
   ]
  },
  {
   "cell_type": "code",
   "execution_count": 25,
   "metadata": {
    "colab": {
     "base_uri": "https://localhost:8080/",
     "height": 92
    },
    "executionInfo": {
     "elapsed": 22,
     "status": "ok",
     "timestamp": 1682440744251,
     "user": {
      "displayName": "Nevedan U",
      "userId": "02429391569345386637"
     },
     "user_tz": -330
    },
    "id": "CocmoTJLbOtn",
    "outputId": "18400fa4-9eb7-4514-a2b1-eb47aded9117"
   },
   "outputs": [
    {
     "data": {
      "text/html": [
       "<style>#sk-container-id-2 {color: black;background-color: white;}#sk-container-id-2 pre{padding: 0;}#sk-container-id-2 div.sk-toggleable {background-color: white;}#sk-container-id-2 label.sk-toggleable__label {cursor: pointer;display: block;width: 100%;margin-bottom: 0;padding: 0.3em;box-sizing: border-box;text-align: center;}#sk-container-id-2 label.sk-toggleable__label-arrow:before {content: \"▸\";float: left;margin-right: 0.25em;color: #696969;}#sk-container-id-2 label.sk-toggleable__label-arrow:hover:before {color: black;}#sk-container-id-2 div.sk-estimator:hover label.sk-toggleable__label-arrow:before {color: black;}#sk-container-id-2 div.sk-toggleable__content {max-height: 0;max-width: 0;overflow: hidden;text-align: left;background-color: #f0f8ff;}#sk-container-id-2 div.sk-toggleable__content pre {margin: 0.2em;color: black;border-radius: 0.25em;background-color: #f0f8ff;}#sk-container-id-2 input.sk-toggleable__control:checked~div.sk-toggleable__content {max-height: 200px;max-width: 100%;overflow: auto;}#sk-container-id-2 input.sk-toggleable__control:checked~label.sk-toggleable__label-arrow:before {content: \"▾\";}#sk-container-id-2 div.sk-estimator input.sk-toggleable__control:checked~label.sk-toggleable__label {background-color: #d4ebff;}#sk-container-id-2 div.sk-label input.sk-toggleable__control:checked~label.sk-toggleable__label {background-color: #d4ebff;}#sk-container-id-2 input.sk-hidden--visually {border: 0;clip: rect(1px 1px 1px 1px);clip: rect(1px, 1px, 1px, 1px);height: 1px;margin: -1px;overflow: hidden;padding: 0;position: absolute;width: 1px;}#sk-container-id-2 div.sk-estimator {font-family: monospace;background-color: #f0f8ff;border: 1px dotted black;border-radius: 0.25em;box-sizing: border-box;margin-bottom: 0.5em;}#sk-container-id-2 div.sk-estimator:hover {background-color: #d4ebff;}#sk-container-id-2 div.sk-parallel-item::after {content: \"\";width: 100%;border-bottom: 1px solid gray;flex-grow: 1;}#sk-container-id-2 div.sk-label:hover label.sk-toggleable__label {background-color: #d4ebff;}#sk-container-id-2 div.sk-serial::before {content: \"\";position: absolute;border-left: 1px solid gray;box-sizing: border-box;top: 0;bottom: 0;left: 50%;z-index: 0;}#sk-container-id-2 div.sk-serial {display: flex;flex-direction: column;align-items: center;background-color: white;padding-right: 0.2em;padding-left: 0.2em;position: relative;}#sk-container-id-2 div.sk-item {position: relative;z-index: 1;}#sk-container-id-2 div.sk-parallel {display: flex;align-items: stretch;justify-content: center;background-color: white;position: relative;}#sk-container-id-2 div.sk-item::before, #sk-container-id-2 div.sk-parallel-item::before {content: \"\";position: absolute;border-left: 1px solid gray;box-sizing: border-box;top: 0;bottom: 0;left: 50%;z-index: -1;}#sk-container-id-2 div.sk-parallel-item {display: flex;flex-direction: column;z-index: 1;position: relative;background-color: white;}#sk-container-id-2 div.sk-parallel-item:first-child::after {align-self: flex-end;width: 50%;}#sk-container-id-2 div.sk-parallel-item:last-child::after {align-self: flex-start;width: 50%;}#sk-container-id-2 div.sk-parallel-item:only-child::after {width: 0;}#sk-container-id-2 div.sk-dashed-wrapped {border: 1px dashed gray;margin: 0 0.4em 0.5em 0.4em;box-sizing: border-box;padding-bottom: 0.4em;background-color: white;}#sk-container-id-2 div.sk-label label {font-family: monospace;font-weight: bold;display: inline-block;line-height: 1.2em;}#sk-container-id-2 div.sk-label-container {text-align: center;}#sk-container-id-2 div.sk-container {/* jupyter's `normalize.less` sets `[hidden] { display: none; }` but bootstrap.min.css set `[hidden] { display: none !important; }` so we also need the `!important` here to be able to override the default hidden behavior on the sphinx rendered scikit-learn.org. See: https://github.com/scikit-learn/scikit-learn/issues/21755 */display: inline-block !important;position: relative;}#sk-container-id-2 div.sk-text-repr-fallback {display: none;}</style><div id=\"sk-container-id-2\" class=\"sk-top-container\"><div class=\"sk-text-repr-fallback\"><pre>RandomForestClassifier(criterion=&#x27;entropy&#x27;, max_depth=6, n_estimators=5,\n",
       "                       random_state=0)</pre><b>In a Jupyter environment, please rerun this cell to show the HTML representation or trust the notebook. <br />On GitHub, the HTML representation is unable to render, please try loading this page with nbviewer.org.</b></div><div class=\"sk-container\" hidden><div class=\"sk-item\"><div class=\"sk-estimator sk-toggleable\"><input class=\"sk-toggleable__control sk-hidden--visually\" id=\"sk-estimator-id-2\" type=\"checkbox\" checked><label for=\"sk-estimator-id-2\" class=\"sk-toggleable__label sk-toggleable__label-arrow\">RandomForestClassifier</label><div class=\"sk-toggleable__content\"><pre>RandomForestClassifier(criterion=&#x27;entropy&#x27;, max_depth=6, n_estimators=5,\n",
       "                       random_state=0)</pre></div></div></div></div></div>"
      ],
      "text/plain": [
       "RandomForestClassifier(criterion='entropy', max_depth=6, n_estimators=5,\n",
       "                       random_state=0)"
      ]
     },
     "execution_count": 25,
     "metadata": {},
     "output_type": "execute_result"
    }
   ],
   "source": [
    "#Random forest\n",
    "\n",
    "\n",
    "\n",
    "\n",
    "rf_clf = RandomForestClassifier(max_depth=6 ,n_estimators=5, criterion = 'entropy', random_state=0)\n",
    "rf_clf.fit(X_train,y_train)\n",
    "\n",
    "\n"
   ]
  },
  {
   "cell_type": "code",
   "execution_count": 26,
   "metadata": {
    "colab": {
     "base_uri": "https://localhost:8080/"
    },
    "executionInfo": {
     "elapsed": 21,
     "status": "ok",
     "timestamp": 1682440744251,
     "user": {
      "displayName": "Nevedan U",
      "userId": "02429391569345386637"
     },
     "user_tz": -330
    },
    "id": "CYRi9_LbTXMH",
    "outputId": "d526ef99-cd53-4eac-d2fb-19fd2e5c781e"
   },
   "outputs": [
    {
     "name": "stdout",
     "output_type": "stream",
     "text": [
      "ACCURACY FROM TRAINING DATASET :\n",
      "Accuracy score:  85.64\n",
      "Confusion matrix: \n",
      " [[2864    7]\n",
      " [ 480   41]]\n",
      "Classification report: \n",
      "               precision    recall  f1-score   support\n",
      "\n",
      "           0     0.8565    0.9976    0.9216      2871\n",
      "           1     0.8542    0.0787    0.1441       521\n",
      "\n",
      "    accuracy                         0.8564      3392\n",
      "   macro avg     0.8553    0.5381    0.5329      3392\n",
      "weighted avg     0.8561    0.8564    0.8022      3392\n",
      "\n",
      " ACCURACY FROM TESTING DATASET :\n",
      "Accuracy score:  85.37735849056604\n",
      "Confusion matrix: \n",
      " [[722   3]\n",
      " [121   2]]\n",
      "Classification report: \n",
      "               precision    recall  f1-score   support\n",
      "\n",
      "           0     0.8565    0.9959    0.9209       725\n",
      "           1     0.4000    0.0163    0.0313       123\n",
      "\n",
      "    accuracy                         0.8538       848\n",
      "   macro avg     0.6282    0.5061    0.4761       848\n",
      "weighted avg     0.7903    0.8538    0.7919       848\n",
      "\n"
     ]
    },
    {
     "data": {
      "image/png": "[encoded data removed]",
      "text/plain": [
       "<Figure size 640x480 with 1 Axes>"
      ]
     },
     "metadata": {},
     "output_type": "display_data"
    }
   ],
   "source": [
    "y_rfc_train_pred = rf_clf.predict(X_train)\n",
    "y_rfc_test_pred = rf_clf.predict(X_test)\n",
    "\n",
    "\n",
    "\n",
    "print(\"ACCURACY FROM TRAINING DATASET :\")\n",
    "print(\"Accuracy score: \",round(accuracy_score(y_train,y_rfc_train_pred)*100,2))\n",
    "print(\"Confusion matrix: \\n\",confusion_matrix(y_train,y_rfc_train_pred))\n",
    "print(\"Classification report: \\n\",classification_report(y_train,y_rfc_train_pred,digits=4))\n",
    "\n",
    "print(\" ACCURACY FROM TESTING DATASET :\")\n",
    "print(\"Accuracy score: \",accuracy_score(y_test,y_rfc_test_pred)*100)\n",
    "print(\"Confusion matrix: \\n\",confusion_matrix(y_test,y_rfc_test_pred))\n",
    "print(\"Classification report: \\n\",classification_report(y_test,y_rfc_test_pred,digits=4))\n",
    "\n",
    "#plotting graph\n",
    "train_acc = accuracy_score(y_train, y_rfc_train_pred)\n",
    "test_acc = accuracy_score(y_test, y_rfc_test_pred)\n",
    "\n",
    "# create a bar chart to display accuracy scores\n",
    "fig, ax = plt.subplots()\n",
    "ax.bar([0.2, 0.6], [train_acc, test_acc], color=['green', 'orange'], width=0.2)\n",
    "ax.set_title('Accuracy Score')\n",
    "ax.set_xlabel('Dataset')\n",
    "ax.set_ylabel('Accuracy')\n",
    "ax.set_xticks([0.2, 0.6])\n",
    "ax.set_xticklabels(['Train', 'Test'])\n",
    "ax.set_ylim([0, 1])\n",
    "ax.set_yticks([i*0.1 for i in range(11)])\n",
    "plt.show()"
   ]
  },
  {
   "cell_type": "code",
   "execution_count": 28,
   "metadata": {
    "executionInfo": {
     "elapsed": 8997,
     "status": "ok",
     "timestamp": 1682440753234,
     "user": {
      "displayName": "Nevedan U",
      "userId": "02429391569345386637"
     },
     "user_tz": -330
    },
    "id": "AQcXwFV2bTu0"
   },
   "outputs": [],
   "source": [
    "#ANN\n",
    "\n",
    "from keras.models import Sequential\n",
    "from keras.layers import Dense\n",
    "# import torch\n",
    "# import torch.nn as nn\n",
    "# import torch.nn.functional as F"
   ]
  },
  {
   "cell_type": "code",
   "execution_count": 29,
   "metadata": {
    "executionInfo": {
     "elapsed": 39,
     "status": "ok",
     "timestamp": 1682440753235,
     "user": {
      "displayName": "Nevedan U",
      "userId": "02429391569345386637"
     },
     "user_tz": -330
    },
    "id": "UqNOsqWZ8jA9"
   },
   "outputs": [],
   "source": [
    "# import libraries\n",
    "import tensorflow as tf\n",
    "from tensorflow import keras"
   ]
  },
  {
   "cell_type": "code",
   "execution_count": 30,
   "metadata": {
    "executionInfo": {
     "elapsed": 37,
     "status": "ok",
     "timestamp": 1682440753236,
     "user": {
      "displayName": "Nevedan U",
      "userId": "02429391569345386637"
     },
     "user_tz": -330
    },
    "id": "cuMWt6Ik8sOk"
   },
   "outputs": [],
   "source": [
    "\n",
    "# define the model\n",
    "ann_clf = keras.Sequential([\n",
    "    keras.layers.Dense(15, input_shape=(X_train.shape[1],), activation='relu'),\n",
    "    keras.layers.Dense(8, activation='relu'),\n",
    "    keras.layers.Dense(1, activation='sigmoid')\n",
    "])"
   ]
  },
  {
   "cell_type": "code",
   "execution_count": 31,
   "metadata": {
    "executionInfo": {
     "elapsed": 36,
     "status": "ok",
     "timestamp": 1682440753236,
     "user": {
      "displayName": "Nevedan U",
      "userId": "02429391569345386637"
     },
     "user_tz": -330
    },
    "id": "plJ3EPf-8tX-"
   },
   "outputs": [],
   "source": [
    "\n",
    "# compile the model\n",
    "ann_clf.compile(optimizer='adam', loss='binary_crossentropy', metrics=['accuracy'])"
   ]
  },
  {
   "cell_type": "code",
   "execution_count": 32,
   "metadata": {
    "colab": {
     "base_uri": "https://localhost:8080/"
    },
    "executionInfo": {
     "elapsed": 143434,
     "status": "ok",
     "timestamp": 1682440896636,
     "user": {
      "displayName": "Nevedan U",
      "userId": "02429391569345386637"
     },
     "user_tz": -330
    },
    "id": "qSZB8csg8tI1",
    "outputId": "e5a5ff38-0793-4a7a-bafe-4d76e8b0d001"
   },
   "outputs": [
    {
     "name": "stdout",
     "output_type": "stream",
     "text": [
      "Epoch 1/450\n",
      "48/48 [==============================] - 2s 11ms/step - loss: 0.5603 - accuracy: 0.8209 - val_loss: 0.5042 - val_accuracy: 0.8351\n",
      "Epoch 2/450\n",
      "48/48 [==============================] - 0s 5ms/step - loss: 0.4808 - accuracy: 0.8441 - val_loss: 0.4450 - val_accuracy: 0.8468\n",
      "Epoch 3/450\n",
      "48/48 [==============================] - 0s 4ms/step - loss: 0.4391 - accuracy: 0.8456 - val_loss: 0.4155 - val_accuracy: 0.8454\n",
      "Epoch 4/450\n",
      "48/48 [==============================] - 0s 5ms/step - loss: 0.4187 - accuracy: 0.8433 - val_loss: 0.4015 - val_accuracy: 0.8439\n",
      "Epoch 5/450\n",
      "48/48 [==============================] - 0s 4ms/step - loss: 0.4088 - accuracy: 0.8445 - val_loss: 0.3932 - val_accuracy: 0.8468\n",
      "Epoch 6/450\n",
      "48/48 [==============================] - 0s 4ms/step - loss: 0.4024 - accuracy: 0.8452 - val_loss: 0.3892 - val_accuracy: 0.8483\n",
      "Epoch 7/450\n",
      "48/48 [==============================] - 0s 4ms/step - loss: 0.3980 - accuracy: 0.8452 - val_loss: 0.3858 - val_accuracy: 0.8483\n",
      "Epoch 8/450\n",
      "48/48 [==============================] - 0s 5ms/step - loss: 0.3949 - accuracy: 0.8459 - val_loss: 0.3830 - val_accuracy: 0.8483\n",
      "Epoch 9/450\n",
      "48/48 [==============================] - 0s 4ms/step - loss: 0.3921 - accuracy: 0.8474 - val_loss: 0.3813 - val_accuracy: 0.8483\n",
      "Epoch 10/450\n",
      "48/48 [==============================] - 0s 4ms/step - loss: 0.3904 - accuracy: 0.8481 - val_loss: 0.3799 - val_accuracy: 0.8483\n",
      "Epoch 11/450\n",
      "48/48 [==============================] - 0s 4ms/step - loss: 0.3882 - accuracy: 0.8489 - val_loss: 0.3779 - val_accuracy: 0.8498\n",
      "Epoch 12/450\n",
      "48/48 [==============================] - 0s 4ms/step - loss: 0.3871 - accuracy: 0.8489 - val_loss: 0.3772 - val_accuracy: 0.8483\n",
      "Epoch 13/450\n",
      "48/48 [==============================] - 0s 4ms/step - loss: 0.3858 - accuracy: 0.8485 - val_loss: 0.3763 - val_accuracy: 0.8498\n",
      "Epoch 14/450\n",
      "48/48 [==============================] - 0s 4ms/step - loss: 0.3842 - accuracy: 0.8496 - val_loss: 0.3756 - val_accuracy: 0.8498\n",
      "Epoch 15/450\n",
      "48/48 [==============================] - 0s 4ms/step - loss: 0.3832 - accuracy: 0.8489 - val_loss: 0.3752 - val_accuracy: 0.8498\n",
      "Epoch 16/450\n",
      "48/48 [==============================] - 0s 4ms/step - loss: 0.3824 - accuracy: 0.8489 - val_loss: 0.3745 - val_accuracy: 0.8513\n",
      "Epoch 17/450\n",
      "48/48 [==============================] - 0s 4ms/step - loss: 0.3814 - accuracy: 0.8489 - val_loss: 0.3741 - val_accuracy: 0.8513\n",
      "Epoch 18/450\n",
      "48/48 [==============================] - 0s 4ms/step - loss: 0.3806 - accuracy: 0.8500 - val_loss: 0.3741 - val_accuracy: 0.8513\n",
      "Epoch 19/450\n",
      "48/48 [==============================] - 0s 4ms/step - loss: 0.3797 - accuracy: 0.8504 - val_loss: 0.3731 - val_accuracy: 0.8513\n",
      "Epoch 20/450\n",
      "48/48 [==============================] - 0s 4ms/step - loss: 0.3791 - accuracy: 0.8507 - val_loss: 0.3735 - val_accuracy: 0.8513\n",
      "Epoch 21/450\n",
      "48/48 [==============================] - 0s 4ms/step - loss: 0.3785 - accuracy: 0.8507 - val_loss: 0.3736 - val_accuracy: 0.8513\n",
      "Epoch 22/450\n",
      "48/48 [==============================] - 0s 4ms/step - loss: 0.3782 - accuracy: 0.8515 - val_loss: 0.3739 - val_accuracy: 0.8527\n",
      "Epoch 23/450\n",
      "48/48 [==============================] - 0s 4ms/step - loss: 0.3774 - accuracy: 0.8500 - val_loss: 0.3737 - val_accuracy: 0.8542\n",
      "Epoch 24/450\n",
      "48/48 [==============================] - 0s 4ms/step - loss: 0.3770 - accuracy: 0.8507 - val_loss: 0.3735 - val_accuracy: 0.8542\n",
      "Epoch 25/450\n",
      "48/48 [==============================] - 0s 4ms/step - loss: 0.3765 - accuracy: 0.8511 - val_loss: 0.3734 - val_accuracy: 0.8542\n",
      "Epoch 26/450\n",
      "48/48 [==============================] - 0s 4ms/step - loss: 0.3761 - accuracy: 0.8518 - val_loss: 0.3736 - val_accuracy: 0.8542\n",
      "Epoch 27/450\n",
      "48/48 [==============================] - 0s 4ms/step - loss: 0.3753 - accuracy: 0.8526 - val_loss: 0.3731 - val_accuracy: 0.8527\n",
      "Epoch 28/450\n",
      "48/48 [==============================] - 0s 4ms/step - loss: 0.3749 - accuracy: 0.8511 - val_loss: 0.3733 - val_accuracy: 0.8527\n",
      "Epoch 29/450\n",
      "48/48 [==============================] - 0s 4ms/step - loss: 0.3744 - accuracy: 0.8511 - val_loss: 0.3725 - val_accuracy: 0.8527\n",
      "Epoch 30/450\n",
      "48/48 [==============================] - 0s 4ms/step - loss: 0.3741 - accuracy: 0.8511 - val_loss: 0.3736 - val_accuracy: 0.8513\n",
      "Epoch 31/450\n",
      "48/48 [==============================] - 0s 4ms/step - loss: 0.3734 - accuracy: 0.8500 - val_loss: 0.3740 - val_accuracy: 0.8513\n",
      "Epoch 32/450\n",
      "48/48 [==============================] - 0s 4ms/step - loss: 0.3725 - accuracy: 0.8518 - val_loss: 0.3735 - val_accuracy: 0.8513\n",
      "Epoch 33/450\n",
      "48/48 [==============================] - 0s 4ms/step - loss: 0.3726 - accuracy: 0.8511 - val_loss: 0.3739 - val_accuracy: 0.8513\n",
      "Epoch 34/450\n",
      "48/48 [==============================] - 0s 6ms/step - loss: 0.3719 - accuracy: 0.8522 - val_loss: 0.3733 - val_accuracy: 0.8513\n",
      "Epoch 35/450\n",
      "48/48 [==============================] - 0s 4ms/step - loss: 0.3717 - accuracy: 0.8518 - val_loss: 0.3738 - val_accuracy: 0.8513\n",
      "Epoch 36/450\n",
      "48/48 [==============================] - 0s 4ms/step - loss: 0.3715 - accuracy: 0.8522 - val_loss: 0.3727 - val_accuracy: 0.8513\n",
      "Epoch 37/450\n",
      "48/48 [==============================] - 0s 4ms/step - loss: 0.3708 - accuracy: 0.8537 - val_loss: 0.3722 - val_accuracy: 0.8498\n",
      "Epoch 38/450\n",
      "48/48 [==============================] - 0s 4ms/step - loss: 0.3703 - accuracy: 0.8518 - val_loss: 0.3733 - val_accuracy: 0.8513\n",
      "Epoch 39/450\n",
      "48/48 [==============================] - 0s 4ms/step - loss: 0.3703 - accuracy: 0.8526 - val_loss: 0.3735 - val_accuracy: 0.8513\n",
      "Epoch 40/450\n",
      "48/48 [==============================] - 0s 4ms/step - loss: 0.3698 - accuracy: 0.8522 - val_loss: 0.3737 - val_accuracy: 0.8498\n",
      "Epoch 41/450\n",
      "48/48 [==============================] - 0s 4ms/step - loss: 0.3693 - accuracy: 0.8526 - val_loss: 0.3736 - val_accuracy: 0.8513\n",
      "Epoch 42/450\n",
      "48/48 [==============================] - 0s 4ms/step - loss: 0.3692 - accuracy: 0.8522 - val_loss: 0.3728 - val_accuracy: 0.8513\n",
      "Epoch 43/450\n",
      "48/48 [==============================] - 0s 4ms/step - loss: 0.3686 - accuracy: 0.8529 - val_loss: 0.3735 - val_accuracy: 0.8513\n",
      "Epoch 44/450\n",
      "48/48 [==============================] - 0s 4ms/step - loss: 0.3682 - accuracy: 0.8526 - val_loss: 0.3738 - val_accuracy: 0.8513\n",
      "Epoch 45/450\n",
      "48/48 [==============================] - 0s 4ms/step - loss: 0.3679 - accuracy: 0.8515 - val_loss: 0.3739 - val_accuracy: 0.8498\n",
      "Epoch 46/450\n",
      "48/48 [==============================] - 0s 4ms/step - loss: 0.3680 - accuracy: 0.8526 - val_loss: 0.3739 - val_accuracy: 0.8513\n",
      "Epoch 47/450\n",
      "48/48 [==============================] - 0s 4ms/step - loss: 0.3673 - accuracy: 0.8518 - val_loss: 0.3733 - val_accuracy: 0.8498\n",
      "Epoch 48/450\n",
      "48/48 [==============================] - 0s 4ms/step - loss: 0.3670 - accuracy: 0.8537 - val_loss: 0.3738 - val_accuracy: 0.8527\n",
      "Epoch 49/450\n",
      "48/48 [==============================] - 0s 4ms/step - loss: 0.3666 - accuracy: 0.8529 - val_loss: 0.3737 - val_accuracy: 0.8527\n",
      "Epoch 50/450\n",
      "48/48 [==============================] - 0s 4ms/step - loss: 0.3663 - accuracy: 0.8529 - val_loss: 0.3740 - val_accuracy: 0.8513\n",
      "Epoch 51/450\n",
      "48/48 [==============================] - 0s 4ms/step - loss: 0.3662 - accuracy: 0.8540 - val_loss: 0.3736 - val_accuracy: 0.8513\n",
      "Epoch 52/450\n",
      "48/48 [==============================] - 0s 4ms/step - loss: 0.3659 - accuracy: 0.8526 - val_loss: 0.3740 - val_accuracy: 0.8498\n",
      "Epoch 53/450\n",
      "48/48 [==============================] - 0s 4ms/step - loss: 0.3656 - accuracy: 0.8540 - val_loss: 0.3733 - val_accuracy: 0.8527\n",
      "Epoch 54/450\n",
      "48/48 [==============================] - 0s 4ms/step - loss: 0.3655 - accuracy: 0.8529 - val_loss: 0.3739 - val_accuracy: 0.8513\n",
      "Epoch 55/450\n",
      "48/48 [==============================] - 0s 4ms/step - loss: 0.3651 - accuracy: 0.8533 - val_loss: 0.3738 - val_accuracy: 0.8513\n",
      "Epoch 56/450\n",
      "48/48 [==============================] - 0s 4ms/step - loss: 0.3644 - accuracy: 0.8522 - val_loss: 0.3742 - val_accuracy: 0.8498\n",
      "Epoch 57/450\n",
      "48/48 [==============================] - 0s 4ms/step - loss: 0.3642 - accuracy: 0.8533 - val_loss: 0.3743 - val_accuracy: 0.8498\n",
      "Epoch 58/450\n",
      "48/48 [==============================] - 0s 4ms/step - loss: 0.3642 - accuracy: 0.8537 - val_loss: 0.3749 - val_accuracy: 0.8498\n",
      "Epoch 59/450\n",
      "48/48 [==============================] - 0s 4ms/step - loss: 0.3642 - accuracy: 0.8533 - val_loss: 0.3751 - val_accuracy: 0.8498\n",
      "Epoch 60/450\n",
      "48/48 [==============================] - 0s 4ms/step - loss: 0.3633 - accuracy: 0.8551 - val_loss: 0.3748 - val_accuracy: 0.8513\n",
      "Epoch 61/450\n",
      "48/48 [==============================] - 0s 4ms/step - loss: 0.3639 - accuracy: 0.8551 - val_loss: 0.3761 - val_accuracy: 0.8513\n",
      "Epoch 62/450\n",
      "48/48 [==============================] - 0s 4ms/step - loss: 0.3636 - accuracy: 0.8544 - val_loss: 0.3754 - val_accuracy: 0.8498\n",
      "Epoch 63/450\n",
      "48/48 [==============================] - 0s 4ms/step - loss: 0.3631 - accuracy: 0.8548 - val_loss: 0.3745 - val_accuracy: 0.8498\n",
      "Epoch 64/450\n",
      "48/48 [==============================] - 0s 4ms/step - loss: 0.3627 - accuracy: 0.8544 - val_loss: 0.3758 - val_accuracy: 0.8498\n",
      "Epoch 65/450\n",
      "48/48 [==============================] - 0s 4ms/step - loss: 0.3629 - accuracy: 0.8551 - val_loss: 0.3748 - val_accuracy: 0.8498\n",
      "Epoch 66/450\n",
      "48/48 [==============================] - 0s 4ms/step - loss: 0.3617 - accuracy: 0.8544 - val_loss: 0.3748 - val_accuracy: 0.8498\n",
      "Epoch 67/450\n",
      "48/48 [==============================] - 0s 4ms/step - loss: 0.3616 - accuracy: 0.8548 - val_loss: 0.3752 - val_accuracy: 0.8498\n",
      "Epoch 68/450\n",
      "48/48 [==============================] - 0s 6ms/step - loss: 0.3610 - accuracy: 0.8559 - val_loss: 0.3759 - val_accuracy: 0.8498\n",
      "Epoch 69/450\n",
      "48/48 [==============================] - 0s 5ms/step - loss: 0.3618 - accuracy: 0.8548 - val_loss: 0.3752 - val_accuracy: 0.8498\n",
      "Epoch 70/450\n",
      "48/48 [==============================] - 0s 6ms/step - loss: 0.3610 - accuracy: 0.8551 - val_loss: 0.3749 - val_accuracy: 0.8498\n",
      "Epoch 71/450\n",
      "48/48 [==============================] - 0s 4ms/step - loss: 0.3610 - accuracy: 0.8551 - val_loss: 0.3753 - val_accuracy: 0.8498\n",
      "Epoch 72/450\n",
      "48/48 [==============================] - 0s 4ms/step - loss: 0.3608 - accuracy: 0.8555 - val_loss: 0.3757 - val_accuracy: 0.8498\n",
      "Epoch 73/450\n",
      "48/48 [==============================] - 0s 4ms/step - loss: 0.3602 - accuracy: 0.8570 - val_loss: 0.3748 - val_accuracy: 0.8498\n",
      "Epoch 74/450\n",
      "48/48 [==============================] - 0s 4ms/step - loss: 0.3603 - accuracy: 0.8555 - val_loss: 0.3743 - val_accuracy: 0.8483\n",
      "Epoch 75/450\n",
      "48/48 [==============================] - 0s 4ms/step - loss: 0.3597 - accuracy: 0.8551 - val_loss: 0.3757 - val_accuracy: 0.8498\n",
      "Epoch 76/450\n",
      "48/48 [==============================] - 0s 4ms/step - loss: 0.3599 - accuracy: 0.8559 - val_loss: 0.3752 - val_accuracy: 0.8498\n",
      "Epoch 77/450\n",
      "48/48 [==============================] - 0s 4ms/step - loss: 0.3590 - accuracy: 0.8570 - val_loss: 0.3759 - val_accuracy: 0.8513\n",
      "Epoch 78/450\n",
      "48/48 [==============================] - 0s 4ms/step - loss: 0.3588 - accuracy: 0.8559 - val_loss: 0.3754 - val_accuracy: 0.8498\n",
      "Epoch 79/450\n",
      "48/48 [==============================] - 0s 4ms/step - loss: 0.3587 - accuracy: 0.8559 - val_loss: 0.3764 - val_accuracy: 0.8513\n",
      "Epoch 80/450\n",
      "48/48 [==============================] - 0s 4ms/step - loss: 0.3581 - accuracy: 0.8566 - val_loss: 0.3756 - val_accuracy: 0.8498\n",
      "Epoch 81/450\n",
      "48/48 [==============================] - 0s 4ms/step - loss: 0.3582 - accuracy: 0.8555 - val_loss: 0.3755 - val_accuracy: 0.8498\n",
      "Epoch 82/450\n",
      "48/48 [==============================] - 0s 4ms/step - loss: 0.3582 - accuracy: 0.8562 - val_loss: 0.3765 - val_accuracy: 0.8498\n",
      "Epoch 83/450\n",
      "48/48 [==============================] - 0s 4ms/step - loss: 0.3576 - accuracy: 0.8566 - val_loss: 0.3757 - val_accuracy: 0.8498\n",
      "Epoch 84/450\n",
      "48/48 [==============================] - 0s 4ms/step - loss: 0.3577 - accuracy: 0.8566 - val_loss: 0.3768 - val_accuracy: 0.8498\n",
      "Epoch 85/450\n",
      "48/48 [==============================] - 0s 4ms/step - loss: 0.3577 - accuracy: 0.8577 - val_loss: 0.3770 - val_accuracy: 0.8498\n",
      "Epoch 86/450\n",
      "48/48 [==============================] - 0s 4ms/step - loss: 0.3573 - accuracy: 0.8562 - val_loss: 0.3765 - val_accuracy: 0.8498\n",
      "Epoch 87/450\n",
      "48/48 [==============================] - 0s 4ms/step - loss: 0.3571 - accuracy: 0.8574 - val_loss: 0.3765 - val_accuracy: 0.8498\n",
      "Epoch 88/450\n",
      "48/48 [==============================] - 0s 4ms/step - loss: 0.3569 - accuracy: 0.8562 - val_loss: 0.3772 - val_accuracy: 0.8498\n",
      "Epoch 89/450\n",
      "48/48 [==============================] - 0s 4ms/step - loss: 0.3564 - accuracy: 0.8555 - val_loss: 0.3782 - val_accuracy: 0.8498\n",
      "Epoch 90/450\n",
      "48/48 [==============================] - 0s 4ms/step - loss: 0.3563 - accuracy: 0.8566 - val_loss: 0.3770 - val_accuracy: 0.8483\n",
      "Epoch 91/450\n",
      "48/48 [==============================] - 0s 4ms/step - loss: 0.3560 - accuracy: 0.8562 - val_loss: 0.3773 - val_accuracy: 0.8483\n",
      "Epoch 92/450\n",
      "48/48 [==============================] - 0s 4ms/step - loss: 0.3561 - accuracy: 0.8562 - val_loss: 0.3761 - val_accuracy: 0.8483\n",
      "Epoch 93/450\n",
      "48/48 [==============================] - 0s 4ms/step - loss: 0.3557 - accuracy: 0.8562 - val_loss: 0.3782 - val_accuracy: 0.8498\n",
      "Epoch 94/450\n",
      "48/48 [==============================] - 0s 4ms/step - loss: 0.3554 - accuracy: 0.8570 - val_loss: 0.3771 - val_accuracy: 0.8483\n",
      "Epoch 95/450\n",
      "48/48 [==============================] - 0s 4ms/step - loss: 0.3560 - accuracy: 0.8574 - val_loss: 0.3777 - val_accuracy: 0.8483\n",
      "Epoch 96/450\n",
      "48/48 [==============================] - 0s 4ms/step - loss: 0.3548 - accuracy: 0.8559 - val_loss: 0.3776 - val_accuracy: 0.8498\n",
      "Epoch 97/450\n",
      "48/48 [==============================] - 0s 4ms/step - loss: 0.3555 - accuracy: 0.8559 - val_loss: 0.3784 - val_accuracy: 0.8498\n",
      "Epoch 98/450\n",
      "48/48 [==============================] - 0s 4ms/step - loss: 0.3556 - accuracy: 0.8566 - val_loss: 0.3781 - val_accuracy: 0.8483\n",
      "Epoch 99/450\n",
      "48/48 [==============================] - 0s 4ms/step - loss: 0.3546 - accuracy: 0.8570 - val_loss: 0.3782 - val_accuracy: 0.8483\n",
      "Epoch 100/450\n",
      "48/48 [==============================] - 0s 4ms/step - loss: 0.3541 - accuracy: 0.8570 - val_loss: 0.3775 - val_accuracy: 0.8468\n",
      "Epoch 101/450\n",
      "48/48 [==============================] - 0s 4ms/step - loss: 0.3540 - accuracy: 0.8570 - val_loss: 0.3780 - val_accuracy: 0.8468\n",
      "Epoch 102/450\n",
      "48/48 [==============================] - 0s 4ms/step - loss: 0.3536 - accuracy: 0.8581 - val_loss: 0.3784 - val_accuracy: 0.8483\n",
      "Epoch 103/450\n",
      "48/48 [==============================] - 0s 6ms/step - loss: 0.3533 - accuracy: 0.8566 - val_loss: 0.3784 - val_accuracy: 0.8483\n",
      "Epoch 104/450\n",
      "48/48 [==============================] - 0s 4ms/step - loss: 0.3533 - accuracy: 0.8574 - val_loss: 0.3791 - val_accuracy: 0.8483\n",
      "Epoch 105/450\n",
      "48/48 [==============================] - 0s 4ms/step - loss: 0.3530 - accuracy: 0.8577 - val_loss: 0.3785 - val_accuracy: 0.8483\n",
      "Epoch 106/450\n",
      "48/48 [==============================] - 0s 4ms/step - loss: 0.3534 - accuracy: 0.8574 - val_loss: 0.3794 - val_accuracy: 0.8468\n",
      "Epoch 107/450\n",
      "48/48 [==============================] - 0s 4ms/step - loss: 0.3526 - accuracy: 0.8574 - val_loss: 0.3801 - val_accuracy: 0.8483\n",
      "Epoch 108/450\n",
      "48/48 [==============================] - 0s 4ms/step - loss: 0.3531 - accuracy: 0.8592 - val_loss: 0.3785 - val_accuracy: 0.8483\n",
      "Epoch 109/450\n",
      "48/48 [==============================] - 0s 4ms/step - loss: 0.3521 - accuracy: 0.8581 - val_loss: 0.3793 - val_accuracy: 0.8483\n",
      "Epoch 110/450\n",
      "48/48 [==============================] - 0s 4ms/step - loss: 0.3525 - accuracy: 0.8574 - val_loss: 0.3801 - val_accuracy: 0.8483\n",
      "Epoch 111/450\n",
      "48/48 [==============================] - 0s 5ms/step - loss: 0.3521 - accuracy: 0.8596 - val_loss: 0.3805 - val_accuracy: 0.8454\n",
      "Epoch 112/450\n",
      "48/48 [==============================] - 0s 4ms/step - loss: 0.3517 - accuracy: 0.8585 - val_loss: 0.3789 - val_accuracy: 0.8468\n",
      "Epoch 113/450\n",
      "48/48 [==============================] - 0s 4ms/step - loss: 0.3516 - accuracy: 0.8566 - val_loss: 0.3797 - val_accuracy: 0.8468\n",
      "Epoch 114/450\n",
      "48/48 [==============================] - 0s 4ms/step - loss: 0.3516 - accuracy: 0.8581 - val_loss: 0.3806 - val_accuracy: 0.8454\n",
      "Epoch 115/450\n",
      "48/48 [==============================] - 0s 4ms/step - loss: 0.3520 - accuracy: 0.8577 - val_loss: 0.3805 - val_accuracy: 0.8468\n",
      "Epoch 116/450\n",
      "48/48 [==============================] - 0s 4ms/step - loss: 0.3510 - accuracy: 0.8577 - val_loss: 0.3808 - val_accuracy: 0.8468\n",
      "Epoch 117/450\n",
      "48/48 [==============================] - 0s 4ms/step - loss: 0.3513 - accuracy: 0.8581 - val_loss: 0.3796 - val_accuracy: 0.8468\n",
      "Epoch 118/450\n",
      "48/48 [==============================] - 0s 4ms/step - loss: 0.3508 - accuracy: 0.8581 - val_loss: 0.3799 - val_accuracy: 0.8454\n",
      "Epoch 119/450\n",
      "48/48 [==============================] - 0s 4ms/step - loss: 0.3505 - accuracy: 0.8581 - val_loss: 0.3814 - val_accuracy: 0.8454\n",
      "Epoch 120/450\n",
      "48/48 [==============================] - 0s 4ms/step - loss: 0.3503 - accuracy: 0.8585 - val_loss: 0.3807 - val_accuracy: 0.8454\n",
      "Epoch 121/450\n",
      "48/48 [==============================] - 0s 4ms/step - loss: 0.3498 - accuracy: 0.8577 - val_loss: 0.3810 - val_accuracy: 0.8454\n",
      "Epoch 122/450\n",
      "48/48 [==============================] - 0s 4ms/step - loss: 0.3498 - accuracy: 0.8577 - val_loss: 0.3801 - val_accuracy: 0.8454\n",
      "Epoch 123/450\n",
      "48/48 [==============================] - 0s 4ms/step - loss: 0.3494 - accuracy: 0.8585 - val_loss: 0.3812 - val_accuracy: 0.8439\n",
      "Epoch 124/450\n",
      "48/48 [==============================] - 0s 4ms/step - loss: 0.3498 - accuracy: 0.8585 - val_loss: 0.3807 - val_accuracy: 0.8454\n",
      "Epoch 125/450\n",
      "48/48 [==============================] - 0s 4ms/step - loss: 0.3493 - accuracy: 0.8559 - val_loss: 0.3810 - val_accuracy: 0.8483\n",
      "Epoch 126/450\n",
      "48/48 [==============================] - 0s 4ms/step - loss: 0.3492 - accuracy: 0.8581 - val_loss: 0.3810 - val_accuracy: 0.8468\n",
      "Epoch 127/450\n",
      "48/48 [==============================] - 0s 4ms/step - loss: 0.3495 - accuracy: 0.8585 - val_loss: 0.3814 - val_accuracy: 0.8483\n",
      "Epoch 128/450\n",
      "48/48 [==============================] - 0s 7ms/step - loss: 0.3485 - accuracy: 0.8574 - val_loss: 0.3812 - val_accuracy: 0.8483\n",
      "Epoch 129/450\n",
      "48/48 [==============================] - 0s 4ms/step - loss: 0.3484 - accuracy: 0.8574 - val_loss: 0.3815 - val_accuracy: 0.8468\n",
      "Epoch 130/450\n",
      "48/48 [==============================] - 0s 4ms/step - loss: 0.3484 - accuracy: 0.8570 - val_loss: 0.3819 - val_accuracy: 0.8468\n",
      "Epoch 131/450\n",
      "48/48 [==============================] - 0s 4ms/step - loss: 0.3481 - accuracy: 0.8574 - val_loss: 0.3824 - val_accuracy: 0.8468\n",
      "Epoch 132/450\n",
      "48/48 [==============================] - 0s 4ms/step - loss: 0.3477 - accuracy: 0.8588 - val_loss: 0.3820 - val_accuracy: 0.8454\n",
      "Epoch 133/450\n",
      "48/48 [==============================] - 0s 4ms/step - loss: 0.3476 - accuracy: 0.8592 - val_loss: 0.3831 - val_accuracy: 0.8454\n",
      "Epoch 134/450\n",
      "48/48 [==============================] - 0s 4ms/step - loss: 0.3477 - accuracy: 0.8570 - val_loss: 0.3833 - val_accuracy: 0.8454\n",
      "Epoch 135/450\n",
      "48/48 [==============================] - 0s 4ms/step - loss: 0.3477 - accuracy: 0.8566 - val_loss: 0.3827 - val_accuracy: 0.8454\n",
      "Epoch 136/450\n",
      "48/48 [==============================] - 0s 4ms/step - loss: 0.3475 - accuracy: 0.8570 - val_loss: 0.3824 - val_accuracy: 0.8468\n",
      "Epoch 137/450\n",
      "48/48 [==============================] - 0s 5ms/step - loss: 0.3474 - accuracy: 0.8577 - val_loss: 0.3834 - val_accuracy: 0.8439\n",
      "Epoch 138/450\n",
      "48/48 [==============================] - 0s 8ms/step - loss: 0.3467 - accuracy: 0.8581 - val_loss: 0.3827 - val_accuracy: 0.8454\n",
      "Epoch 139/450\n",
      "48/48 [==============================] - 0s 4ms/step - loss: 0.3474 - accuracy: 0.8574 - val_loss: 0.3826 - val_accuracy: 0.8454\n",
      "Epoch 140/450\n",
      "48/48 [==============================] - 0s 4ms/step - loss: 0.3468 - accuracy: 0.8577 - val_loss: 0.3836 - val_accuracy: 0.8439\n",
      "Epoch 141/450\n",
      "48/48 [==============================] - 0s 4ms/step - loss: 0.3472 - accuracy: 0.8577 - val_loss: 0.3824 - val_accuracy: 0.8454\n",
      "Epoch 142/450\n",
      "48/48 [==============================] - 0s 4ms/step - loss: 0.3470 - accuracy: 0.8566 - val_loss: 0.3835 - val_accuracy: 0.8439\n",
      "Epoch 143/450\n",
      "48/48 [==============================] - 0s 4ms/step - loss: 0.3468 - accuracy: 0.8562 - val_loss: 0.3831 - val_accuracy: 0.8454\n",
      "Epoch 144/450\n",
      "48/48 [==============================] - 0s 4ms/step - loss: 0.3459 - accuracy: 0.8585 - val_loss: 0.3843 - val_accuracy: 0.8439\n",
      "Epoch 145/450\n",
      "48/48 [==============================] - 0s 4ms/step - loss: 0.3462 - accuracy: 0.8585 - val_loss: 0.3842 - val_accuracy: 0.8439\n",
      "Epoch 146/450\n",
      "48/48 [==============================] - 0s 4ms/step - loss: 0.3459 - accuracy: 0.8588 - val_loss: 0.3830 - val_accuracy: 0.8454\n",
      "Epoch 147/450\n",
      "48/48 [==============================] - 0s 4ms/step - loss: 0.3456 - accuracy: 0.8585 - val_loss: 0.3837 - val_accuracy: 0.8439\n",
      "Epoch 148/450\n",
      "48/48 [==============================] - 0s 4ms/step - loss: 0.3453 - accuracy: 0.8581 - val_loss: 0.3839 - val_accuracy: 0.8454\n",
      "Epoch 149/450\n",
      "48/48 [==============================] - 0s 4ms/step - loss: 0.3461 - accuracy: 0.8588 - val_loss: 0.3838 - val_accuracy: 0.8454\n",
      "Epoch 150/450\n",
      "48/48 [==============================] - 0s 4ms/step - loss: 0.3451 - accuracy: 0.8596 - val_loss: 0.3844 - val_accuracy: 0.8454\n",
      "Epoch 151/450\n",
      "48/48 [==============================] - 0s 4ms/step - loss: 0.3449 - accuracy: 0.8585 - val_loss: 0.3843 - val_accuracy: 0.8468\n",
      "Epoch 152/450\n",
      "48/48 [==============================] - 0s 4ms/step - loss: 0.3449 - accuracy: 0.8596 - val_loss: 0.3844 - val_accuracy: 0.8439\n",
      "Epoch 153/450\n",
      "48/48 [==============================] - 0s 6ms/step - loss: 0.3446 - accuracy: 0.8585 - val_loss: 0.3849 - val_accuracy: 0.8439\n",
      "Epoch 154/450\n",
      "48/48 [==============================] - 0s 4ms/step - loss: 0.3445 - accuracy: 0.8588 - val_loss: 0.3854 - val_accuracy: 0.8454\n",
      "Epoch 155/450\n",
      "48/48 [==============================] - 0s 4ms/step - loss: 0.3443 - accuracy: 0.8585 - val_loss: 0.3842 - val_accuracy: 0.8468\n",
      "Epoch 156/450\n",
      "48/48 [==============================] - 0s 4ms/step - loss: 0.3443 - accuracy: 0.8577 - val_loss: 0.3855 - val_accuracy: 0.8454\n",
      "Epoch 157/450\n",
      "48/48 [==============================] - 0s 4ms/step - loss: 0.3443 - accuracy: 0.8577 - val_loss: 0.3857 - val_accuracy: 0.8424\n",
      "Epoch 158/450\n",
      "48/48 [==============================] - 0s 4ms/step - loss: 0.3443 - accuracy: 0.8599 - val_loss: 0.3853 - val_accuracy: 0.8468\n",
      "Epoch 159/450\n",
      "48/48 [==============================] - 0s 4ms/step - loss: 0.3435 - accuracy: 0.8588 - val_loss: 0.3853 - val_accuracy: 0.8424\n",
      "Epoch 160/450\n",
      "48/48 [==============================] - 0s 4ms/step - loss: 0.3440 - accuracy: 0.8592 - val_loss: 0.3856 - val_accuracy: 0.8424\n",
      "Epoch 161/450\n",
      "48/48 [==============================] - 0s 4ms/step - loss: 0.3439 - accuracy: 0.8592 - val_loss: 0.3860 - val_accuracy: 0.8468\n",
      "Epoch 162/450\n",
      "48/48 [==============================] - 0s 4ms/step - loss: 0.3438 - accuracy: 0.8592 - val_loss: 0.3859 - val_accuracy: 0.8439\n",
      "Epoch 163/450\n",
      "48/48 [==============================] - 0s 4ms/step - loss: 0.3430 - accuracy: 0.8592 - val_loss: 0.3858 - val_accuracy: 0.8424\n",
      "Epoch 164/450\n",
      "48/48 [==============================] - 0s 4ms/step - loss: 0.3432 - accuracy: 0.8585 - val_loss: 0.3865 - val_accuracy: 0.8454\n",
      "Epoch 165/450\n",
      "48/48 [==============================] - 0s 4ms/step - loss: 0.3436 - accuracy: 0.8585 - val_loss: 0.3878 - val_accuracy: 0.8424\n",
      "Epoch 166/450\n",
      "48/48 [==============================] - 0s 4ms/step - loss: 0.3435 - accuracy: 0.8585 - val_loss: 0.3859 - val_accuracy: 0.8454\n",
      "Epoch 167/450\n",
      "48/48 [==============================] - 0s 4ms/step - loss: 0.3431 - accuracy: 0.8599 - val_loss: 0.3869 - val_accuracy: 0.8454\n",
      "Epoch 168/450\n",
      "48/48 [==============================] - 0s 4ms/step - loss: 0.3426 - accuracy: 0.8603 - val_loss: 0.3867 - val_accuracy: 0.8468\n",
      "Epoch 169/450\n",
      "48/48 [==============================] - 0s 4ms/step - loss: 0.3432 - accuracy: 0.8581 - val_loss: 0.3870 - val_accuracy: 0.8454\n",
      "Epoch 170/450\n",
      "48/48 [==============================] - 0s 4ms/step - loss: 0.3425 - accuracy: 0.8592 - val_loss: 0.3872 - val_accuracy: 0.8454\n",
      "Epoch 171/450\n",
      "48/48 [==============================] - 0s 4ms/step - loss: 0.3422 - accuracy: 0.8607 - val_loss: 0.3866 - val_accuracy: 0.8468\n",
      "Epoch 172/450\n",
      "48/48 [==============================] - 0s 4ms/step - loss: 0.3420 - accuracy: 0.8588 - val_loss: 0.3876 - val_accuracy: 0.8454\n",
      "Epoch 173/450\n",
      "48/48 [==============================] - 0s 6ms/step - loss: 0.3418 - accuracy: 0.8596 - val_loss: 0.3868 - val_accuracy: 0.8439\n",
      "Epoch 174/450\n",
      "48/48 [==============================] - 0s 4ms/step - loss: 0.3412 - accuracy: 0.8599 - val_loss: 0.3876 - val_accuracy: 0.8454\n",
      "Epoch 175/450\n",
      "48/48 [==============================] - 0s 4ms/step - loss: 0.3419 - accuracy: 0.8599 - val_loss: 0.3872 - val_accuracy: 0.8454\n",
      "Epoch 176/450\n",
      "48/48 [==============================] - 0s 4ms/step - loss: 0.3413 - accuracy: 0.8618 - val_loss: 0.3876 - val_accuracy: 0.8454\n",
      "Epoch 177/450\n",
      "48/48 [==============================] - 0s 4ms/step - loss: 0.3408 - accuracy: 0.8618 - val_loss: 0.3881 - val_accuracy: 0.8409\n",
      "Epoch 178/450\n",
      "48/48 [==============================] - 0s 4ms/step - loss: 0.3417 - accuracy: 0.8588 - val_loss: 0.3881 - val_accuracy: 0.8454\n",
      "Epoch 179/450\n",
      "48/48 [==============================] - 0s 4ms/step - loss: 0.3410 - accuracy: 0.8596 - val_loss: 0.3887 - val_accuracy: 0.8454\n",
      "Epoch 180/450\n",
      "48/48 [==============================] - 0s 4ms/step - loss: 0.3407 - accuracy: 0.8596 - val_loss: 0.3884 - val_accuracy: 0.8439\n",
      "Epoch 181/450\n",
      "48/48 [==============================] - 0s 4ms/step - loss: 0.3404 - accuracy: 0.8592 - val_loss: 0.3874 - val_accuracy: 0.8439\n",
      "Epoch 182/450\n",
      "48/48 [==============================] - 0s 4ms/step - loss: 0.3407 - accuracy: 0.8588 - val_loss: 0.3881 - val_accuracy: 0.8454\n",
      "Epoch 183/450\n",
      "48/48 [==============================] - 0s 4ms/step - loss: 0.3404 - accuracy: 0.8603 - val_loss: 0.3890 - val_accuracy: 0.8468\n",
      "Epoch 184/450\n",
      "48/48 [==============================] - 0s 4ms/step - loss: 0.3402 - accuracy: 0.8592 - val_loss: 0.3885 - val_accuracy: 0.8454\n",
      "Epoch 185/450\n",
      "48/48 [==============================] - 0s 4ms/step - loss: 0.3409 - accuracy: 0.8599 - val_loss: 0.3895 - val_accuracy: 0.8395\n",
      "Epoch 186/450\n",
      "48/48 [==============================] - 0s 4ms/step - loss: 0.3405 - accuracy: 0.8585 - val_loss: 0.3880 - val_accuracy: 0.8409\n",
      "Epoch 187/450\n",
      "48/48 [==============================] - 0s 4ms/step - loss: 0.3403 - accuracy: 0.8599 - val_loss: 0.3885 - val_accuracy: 0.8424\n",
      "Epoch 188/450\n",
      "48/48 [==============================] - 0s 4ms/step - loss: 0.3400 - accuracy: 0.8621 - val_loss: 0.3881 - val_accuracy: 0.8395\n",
      "Epoch 189/450\n",
      "48/48 [==============================] - 0s 4ms/step - loss: 0.3398 - accuracy: 0.8599 - val_loss: 0.3878 - val_accuracy: 0.8439\n",
      "Epoch 190/450\n",
      "48/48 [==============================] - 0s 4ms/step - loss: 0.3399 - accuracy: 0.8596 - val_loss: 0.3894 - val_accuracy: 0.8409\n",
      "Epoch 191/450\n",
      "48/48 [==============================] - 0s 4ms/step - loss: 0.3389 - accuracy: 0.8610 - val_loss: 0.3884 - val_accuracy: 0.8409\n",
      "Epoch 192/450\n",
      "48/48 [==============================] - 0s 4ms/step - loss: 0.3388 - accuracy: 0.8596 - val_loss: 0.3887 - val_accuracy: 0.8409\n",
      "Epoch 193/450\n",
      "48/48 [==============================] - 0s 6ms/step - loss: 0.3390 - accuracy: 0.8599 - val_loss: 0.3892 - val_accuracy: 0.8468\n",
      "Epoch 194/450\n",
      "48/48 [==============================] - 0s 4ms/step - loss: 0.3389 - accuracy: 0.8607 - val_loss: 0.3900 - val_accuracy: 0.8454\n",
      "Epoch 195/450\n",
      "48/48 [==============================] - 0s 4ms/step - loss: 0.3384 - accuracy: 0.8599 - val_loss: 0.3897 - val_accuracy: 0.8439\n",
      "Epoch 196/450\n",
      "48/48 [==============================] - 0s 4ms/step - loss: 0.3383 - accuracy: 0.8603 - val_loss: 0.3887 - val_accuracy: 0.8424\n",
      "Epoch 197/450\n",
      "48/48 [==============================] - 0s 4ms/step - loss: 0.3390 - accuracy: 0.8599 - val_loss: 0.3894 - val_accuracy: 0.8454\n",
      "Epoch 198/450\n",
      "48/48 [==============================] - 0s 4ms/step - loss: 0.3383 - accuracy: 0.8592 - val_loss: 0.3905 - val_accuracy: 0.8439\n",
      "Epoch 199/450\n",
      "48/48 [==============================] - 0s 4ms/step - loss: 0.3379 - accuracy: 0.8614 - val_loss: 0.3910 - val_accuracy: 0.8424\n",
      "Epoch 200/450\n",
      "48/48 [==============================] - 0s 4ms/step - loss: 0.3384 - accuracy: 0.8610 - val_loss: 0.3902 - val_accuracy: 0.8454\n",
      "Epoch 201/450\n",
      "48/48 [==============================] - 0s 4ms/step - loss: 0.3383 - accuracy: 0.8599 - val_loss: 0.3904 - val_accuracy: 0.8454\n",
      "Epoch 202/450\n",
      "48/48 [==============================] - 0s 4ms/step - loss: 0.3385 - accuracy: 0.8610 - val_loss: 0.3917 - val_accuracy: 0.8409\n",
      "Epoch 203/450\n",
      "48/48 [==============================] - 0s 4ms/step - loss: 0.3379 - accuracy: 0.8614 - val_loss: 0.3901 - val_accuracy: 0.8439\n",
      "Epoch 204/450\n",
      "48/48 [==============================] - 0s 4ms/step - loss: 0.3382 - accuracy: 0.8596 - val_loss: 0.3912 - val_accuracy: 0.8409\n",
      "Epoch 205/450\n",
      "48/48 [==============================] - 0s 4ms/step - loss: 0.3375 - accuracy: 0.8621 - val_loss: 0.3901 - val_accuracy: 0.8468\n",
      "Epoch 206/450\n",
      "48/48 [==============================] - 0s 4ms/step - loss: 0.3375 - accuracy: 0.8610 - val_loss: 0.3920 - val_accuracy: 0.8483\n",
      "Epoch 207/450\n",
      "48/48 [==============================] - 0s 4ms/step - loss: 0.3375 - accuracy: 0.8607 - val_loss: 0.3905 - val_accuracy: 0.8439\n",
      "Epoch 208/450\n",
      "48/48 [==============================] - 0s 4ms/step - loss: 0.3371 - accuracy: 0.8625 - val_loss: 0.3911 - val_accuracy: 0.8409\n",
      "Epoch 209/450\n",
      "48/48 [==============================] - 0s 4ms/step - loss: 0.3376 - accuracy: 0.8607 - val_loss: 0.3910 - val_accuracy: 0.8395\n",
      "Epoch 210/450\n",
      "48/48 [==============================] - 0s 6ms/step - loss: 0.3367 - accuracy: 0.8621 - val_loss: 0.3904 - val_accuracy: 0.8409\n",
      "Epoch 211/450\n",
      "48/48 [==============================] - 0s 4ms/step - loss: 0.3363 - accuracy: 0.8614 - val_loss: 0.3918 - val_accuracy: 0.8454\n",
      "Epoch 212/450\n",
      "48/48 [==============================] - 0s 4ms/step - loss: 0.3372 - accuracy: 0.8607 - val_loss: 0.3924 - val_accuracy: 0.8468\n",
      "Epoch 213/450\n",
      "48/48 [==============================] - 0s 4ms/step - loss: 0.3359 - accuracy: 0.8614 - val_loss: 0.3915 - val_accuracy: 0.8409\n",
      "Epoch 214/450\n",
      "48/48 [==============================] - 0s 4ms/step - loss: 0.3366 - accuracy: 0.8625 - val_loss: 0.3906 - val_accuracy: 0.8409\n",
      "Epoch 215/450\n",
      "48/48 [==============================] - 0s 4ms/step - loss: 0.3356 - accuracy: 0.8603 - val_loss: 0.3915 - val_accuracy: 0.8439\n",
      "Epoch 216/450\n",
      "48/48 [==============================] - 0s 4ms/step - loss: 0.3361 - accuracy: 0.8603 - val_loss: 0.3928 - val_accuracy: 0.8395\n",
      "Epoch 217/450\n",
      "48/48 [==============================] - 0s 4ms/step - loss: 0.3361 - accuracy: 0.8614 - val_loss: 0.3909 - val_accuracy: 0.8483\n",
      "Epoch 218/450\n",
      "48/48 [==============================] - 0s 4ms/step - loss: 0.3355 - accuracy: 0.8603 - val_loss: 0.3908 - val_accuracy: 0.8454\n",
      "Epoch 219/450\n",
      "48/48 [==============================] - 0s 4ms/step - loss: 0.3356 - accuracy: 0.8603 - val_loss: 0.3918 - val_accuracy: 0.8424\n",
      "Epoch 220/450\n",
      "48/48 [==============================] - 0s 4ms/step - loss: 0.3353 - accuracy: 0.8618 - val_loss: 0.3910 - val_accuracy: 0.8424\n",
      "Epoch 221/450\n",
      "48/48 [==============================] - 0s 4ms/step - loss: 0.3353 - accuracy: 0.8625 - val_loss: 0.3924 - val_accuracy: 0.8454\n",
      "Epoch 222/450\n",
      "48/48 [==============================] - 0s 4ms/step - loss: 0.3352 - accuracy: 0.8614 - val_loss: 0.3907 - val_accuracy: 0.8380\n",
      "Epoch 223/450\n",
      "48/48 [==============================] - 0s 4ms/step - loss: 0.3346 - accuracy: 0.8614 - val_loss: 0.3924 - val_accuracy: 0.8468\n",
      "Epoch 224/450\n",
      "48/48 [==============================] - 0s 4ms/step - loss: 0.3354 - accuracy: 0.8614 - val_loss: 0.3916 - val_accuracy: 0.8454\n",
      "Epoch 225/450\n",
      "48/48 [==============================] - 0s 4ms/step - loss: 0.3353 - accuracy: 0.8618 - val_loss: 0.3919 - val_accuracy: 0.8468\n",
      "Epoch 226/450\n",
      "48/48 [==============================] - 0s 4ms/step - loss: 0.3348 - accuracy: 0.8596 - val_loss: 0.3920 - val_accuracy: 0.8365\n",
      "Epoch 227/450\n",
      "48/48 [==============================] - 0s 4ms/step - loss: 0.3343 - accuracy: 0.8629 - val_loss: 0.3918 - val_accuracy: 0.8483\n",
      "Epoch 228/450\n",
      "48/48 [==============================] - 0s 4ms/step - loss: 0.3344 - accuracy: 0.8621 - val_loss: 0.3917 - val_accuracy: 0.8483\n",
      "Epoch 229/450\n",
      "48/48 [==============================] - 0s 4ms/step - loss: 0.3345 - accuracy: 0.8614 - val_loss: 0.3919 - val_accuracy: 0.8454\n",
      "Epoch 230/450\n",
      "48/48 [==============================] - 0s 6ms/step - loss: 0.3350 - accuracy: 0.8625 - val_loss: 0.3915 - val_accuracy: 0.8439\n",
      "Epoch 231/450\n",
      "48/48 [==============================] - 0s 4ms/step - loss: 0.3349 - accuracy: 0.8621 - val_loss: 0.3917 - val_accuracy: 0.8454\n",
      "Epoch 232/450\n",
      "48/48 [==============================] - 0s 4ms/step - loss: 0.3342 - accuracy: 0.8618 - val_loss: 0.3925 - val_accuracy: 0.8439\n",
      "Epoch 233/450\n",
      "48/48 [==============================] - 0s 4ms/step - loss: 0.3336 - accuracy: 0.8636 - val_loss: 0.3930 - val_accuracy: 0.8483\n",
      "Epoch 234/450\n",
      "48/48 [==============================] - 0s 4ms/step - loss: 0.3340 - accuracy: 0.8607 - val_loss: 0.3932 - val_accuracy: 0.8483\n",
      "Epoch 235/450\n",
      "48/48 [==============================] - 0s 4ms/step - loss: 0.3338 - accuracy: 0.8625 - val_loss: 0.3921 - val_accuracy: 0.8498\n",
      "Epoch 236/450\n",
      "48/48 [==============================] - 0s 4ms/step - loss: 0.3332 - accuracy: 0.8629 - val_loss: 0.3923 - val_accuracy: 0.8513\n",
      "Epoch 237/450\n",
      "48/48 [==============================] - 0s 4ms/step - loss: 0.3335 - accuracy: 0.8636 - val_loss: 0.3919 - val_accuracy: 0.8483\n",
      "Epoch 238/450\n",
      "48/48 [==============================] - 0s 4ms/step - loss: 0.3330 - accuracy: 0.8614 - val_loss: 0.3928 - val_accuracy: 0.8439\n",
      "Epoch 239/450\n",
      "48/48 [==============================] - 0s 4ms/step - loss: 0.3331 - accuracy: 0.8633 - val_loss: 0.3933 - val_accuracy: 0.8454\n",
      "Epoch 240/450\n",
      "48/48 [==============================] - 0s 4ms/step - loss: 0.3325 - accuracy: 0.8647 - val_loss: 0.3925 - val_accuracy: 0.8468\n",
      "Epoch 241/450\n",
      "48/48 [==============================] - 0s 4ms/step - loss: 0.3327 - accuracy: 0.8633 - val_loss: 0.3926 - val_accuracy: 0.8380\n",
      "Epoch 242/450\n",
      "48/48 [==============================] - 0s 4ms/step - loss: 0.3328 - accuracy: 0.8625 - val_loss: 0.3947 - val_accuracy: 0.8468\n",
      "Epoch 243/450\n",
      "48/48 [==============================] - 0s 4ms/step - loss: 0.3323 - accuracy: 0.8640 - val_loss: 0.3936 - val_accuracy: 0.8439\n",
      "Epoch 244/450\n",
      "48/48 [==============================] - 0s 4ms/step - loss: 0.3323 - accuracy: 0.8636 - val_loss: 0.3946 - val_accuracy: 0.8409\n",
      "Epoch 245/450\n",
      "48/48 [==============================] - 0s 4ms/step - loss: 0.3326 - accuracy: 0.8644 - val_loss: 0.3940 - val_accuracy: 0.8365\n",
      "Epoch 246/450\n",
      "48/48 [==============================] - 0s 4ms/step - loss: 0.3325 - accuracy: 0.8610 - val_loss: 0.3951 - val_accuracy: 0.8409\n",
      "Epoch 247/450\n",
      "48/48 [==============================] - 0s 6ms/step - loss: 0.3331 - accuracy: 0.8655 - val_loss: 0.3937 - val_accuracy: 0.8468\n",
      "Epoch 248/450\n",
      "48/48 [==============================] - 0s 4ms/step - loss: 0.3318 - accuracy: 0.8633 - val_loss: 0.3933 - val_accuracy: 0.8454\n",
      "Epoch 249/450\n",
      "48/48 [==============================] - 0s 4ms/step - loss: 0.3313 - accuracy: 0.8621 - val_loss: 0.3944 - val_accuracy: 0.8424\n",
      "Epoch 250/450\n",
      "48/48 [==============================] - 0s 4ms/step - loss: 0.3319 - accuracy: 0.8651 - val_loss: 0.3968 - val_accuracy: 0.8468\n",
      "Epoch 251/450\n",
      "48/48 [==============================] - 0s 4ms/step - loss: 0.3318 - accuracy: 0.8625 - val_loss: 0.3949 - val_accuracy: 0.8424\n",
      "Epoch 252/450\n",
      "48/48 [==============================] - 0s 4ms/step - loss: 0.3315 - accuracy: 0.8651 - val_loss: 0.3955 - val_accuracy: 0.8380\n",
      "Epoch 253/450\n",
      "48/48 [==============================] - 0s 4ms/step - loss: 0.3314 - accuracy: 0.8655 - val_loss: 0.3943 - val_accuracy: 0.8424\n",
      "Epoch 254/450\n",
      "48/48 [==============================] - 0s 4ms/step - loss: 0.3312 - accuracy: 0.8633 - val_loss: 0.3939 - val_accuracy: 0.8468\n",
      "Epoch 255/450\n",
      "48/48 [==============================] - 0s 4ms/step - loss: 0.3309 - accuracy: 0.8640 - val_loss: 0.3952 - val_accuracy: 0.8409\n",
      "Epoch 256/450\n",
      "48/48 [==============================] - 0s 4ms/step - loss: 0.3307 - accuracy: 0.8633 - val_loss: 0.3954 - val_accuracy: 0.8365\n",
      "Epoch 257/450\n",
      "48/48 [==============================] - 0s 4ms/step - loss: 0.3311 - accuracy: 0.8633 - val_loss: 0.3966 - val_accuracy: 0.8483\n",
      "Epoch 258/450\n",
      "48/48 [==============================] - 0s 4ms/step - loss: 0.3308 - accuracy: 0.8640 - val_loss: 0.3955 - val_accuracy: 0.8409\n",
      "Epoch 259/450\n",
      "48/48 [==============================] - 0s 4ms/step - loss: 0.3303 - accuracy: 0.8651 - val_loss: 0.3953 - val_accuracy: 0.8365\n",
      "Epoch 260/450\n",
      "48/48 [==============================] - 0s 4ms/step - loss: 0.3306 - accuracy: 0.8666 - val_loss: 0.3959 - val_accuracy: 0.8424\n",
      "Epoch 261/450\n",
      "48/48 [==============================] - 0s 4ms/step - loss: 0.3304 - accuracy: 0.8647 - val_loss: 0.3955 - val_accuracy: 0.8439\n",
      "Epoch 262/450\n",
      "48/48 [==============================] - 0s 4ms/step - loss: 0.3300 - accuracy: 0.8640 - val_loss: 0.3950 - val_accuracy: 0.8395\n",
      "Epoch 263/450\n",
      "48/48 [==============================] - 0s 4ms/step - loss: 0.3302 - accuracy: 0.8655 - val_loss: 0.3958 - val_accuracy: 0.8454\n",
      "Epoch 264/450\n",
      "48/48 [==============================] - 0s 4ms/step - loss: 0.3288 - accuracy: 0.8647 - val_loss: 0.3968 - val_accuracy: 0.8439\n",
      "Epoch 265/450\n",
      "48/48 [==============================] - 0s 6ms/step - loss: 0.3300 - accuracy: 0.8655 - val_loss: 0.3971 - val_accuracy: 0.8365\n",
      "Epoch 266/450\n",
      "48/48 [==============================] - 0s 4ms/step - loss: 0.3296 - accuracy: 0.8666 - val_loss: 0.3976 - val_accuracy: 0.8395\n",
      "Epoch 267/450\n",
      "48/48 [==============================] - 0s 4ms/step - loss: 0.3292 - accuracy: 0.8640 - val_loss: 0.3967 - val_accuracy: 0.8395\n",
      "Epoch 268/450\n",
      "48/48 [==============================] - 0s 4ms/step - loss: 0.3293 - accuracy: 0.8644 - val_loss: 0.3963 - val_accuracy: 0.8468\n",
      "Epoch 269/450\n",
      "48/48 [==============================] - 0s 4ms/step - loss: 0.3298 - accuracy: 0.8666 - val_loss: 0.3996 - val_accuracy: 0.8513\n",
      "Epoch 270/450\n",
      "48/48 [==============================] - 0s 4ms/step - loss: 0.3306 - accuracy: 0.8629 - val_loss: 0.3976 - val_accuracy: 0.8409\n",
      "Epoch 271/450\n",
      "48/48 [==============================] - 0s 4ms/step - loss: 0.3287 - accuracy: 0.8666 - val_loss: 0.3977 - val_accuracy: 0.8439\n",
      "Epoch 272/450\n",
      "48/48 [==============================] - 0s 4ms/step - loss: 0.3282 - accuracy: 0.8669 - val_loss: 0.3980 - val_accuracy: 0.8380\n",
      "Epoch 273/450\n",
      "48/48 [==============================] - 0s 4ms/step - loss: 0.3285 - accuracy: 0.8666 - val_loss: 0.3972 - val_accuracy: 0.8454\n",
      "Epoch 274/450\n",
      "48/48 [==============================] - 0s 4ms/step - loss: 0.3279 - accuracy: 0.8651 - val_loss: 0.3993 - val_accuracy: 0.8336\n",
      "Epoch 275/450\n",
      "48/48 [==============================] - 0s 4ms/step - loss: 0.3282 - accuracy: 0.8666 - val_loss: 0.3986 - val_accuracy: 0.8454\n",
      "Epoch 276/450\n",
      "48/48 [==============================] - 0s 4ms/step - loss: 0.3273 - accuracy: 0.8658 - val_loss: 0.3982 - val_accuracy: 0.8365\n",
      "Epoch 277/450\n",
      "48/48 [==============================] - 0s 4ms/step - loss: 0.3281 - accuracy: 0.8669 - val_loss: 0.4004 - val_accuracy: 0.8439\n",
      "Epoch 278/450\n",
      "48/48 [==============================] - 0s 5ms/step - loss: 0.3281 - accuracy: 0.8647 - val_loss: 0.3996 - val_accuracy: 0.8439\n",
      "Epoch 279/450\n",
      "48/48 [==============================] - 0s 5ms/step - loss: 0.3273 - accuracy: 0.8673 - val_loss: 0.3991 - val_accuracy: 0.8454\n",
      "Epoch 280/450\n",
      "48/48 [==============================] - 0s 4ms/step - loss: 0.3277 - accuracy: 0.8647 - val_loss: 0.4000 - val_accuracy: 0.8468\n",
      "Epoch 281/450\n",
      "48/48 [==============================] - 0s 4ms/step - loss: 0.3278 - accuracy: 0.8647 - val_loss: 0.4000 - val_accuracy: 0.8454\n",
      "Epoch 282/450\n",
      "48/48 [==============================] - 0s 4ms/step - loss: 0.3276 - accuracy: 0.8651 - val_loss: 0.3995 - val_accuracy: 0.8380\n",
      "Epoch 283/450\n",
      "48/48 [==============================] - 0s 4ms/step - loss: 0.3271 - accuracy: 0.8651 - val_loss: 0.3998 - val_accuracy: 0.8365\n",
      "Epoch 284/450\n",
      "48/48 [==============================] - 0s 4ms/step - loss: 0.3278 - accuracy: 0.8655 - val_loss: 0.4009 - val_accuracy: 0.8439\n",
      "Epoch 285/450\n",
      "48/48 [==============================] - 0s 4ms/step - loss: 0.3269 - accuracy: 0.8658 - val_loss: 0.3998 - val_accuracy: 0.8380\n",
      "Epoch 286/450\n",
      "48/48 [==============================] - 0s 4ms/step - loss: 0.3267 - accuracy: 0.8651 - val_loss: 0.3998 - val_accuracy: 0.8439\n",
      "Epoch 287/450\n",
      "48/48 [==============================] - 0s 4ms/step - loss: 0.3271 - accuracy: 0.8662 - val_loss: 0.4014 - val_accuracy: 0.8351\n",
      "Epoch 288/450\n",
      "48/48 [==============================] - 0s 4ms/step - loss: 0.3263 - accuracy: 0.8677 - val_loss: 0.4020 - val_accuracy: 0.8439\n",
      "Epoch 289/450\n",
      "48/48 [==============================] - 0s 4ms/step - loss: 0.3269 - accuracy: 0.8666 - val_loss: 0.4008 - val_accuracy: 0.8409\n",
      "Epoch 290/450\n",
      "48/48 [==============================] - 0s 4ms/step - loss: 0.3267 - accuracy: 0.8666 - val_loss: 0.4012 - val_accuracy: 0.8351\n",
      "Epoch 291/450\n",
      "48/48 [==============================] - 0s 4ms/step - loss: 0.3266 - accuracy: 0.8669 - val_loss: 0.4018 - val_accuracy: 0.8424\n",
      "Epoch 292/450\n",
      "48/48 [==============================] - 0s 4ms/step - loss: 0.3264 - accuracy: 0.8673 - val_loss: 0.4014 - val_accuracy: 0.8395\n",
      "Epoch 293/450\n",
      "48/48 [==============================] - 0s 4ms/step - loss: 0.3265 - accuracy: 0.8669 - val_loss: 0.4025 - val_accuracy: 0.8454\n",
      "Epoch 294/450\n",
      "48/48 [==============================] - 0s 5ms/step - loss: 0.3266 - accuracy: 0.8647 - val_loss: 0.4010 - val_accuracy: 0.8424\n",
      "Epoch 295/450\n",
      "48/48 [==============================] - 0s 4ms/step - loss: 0.3255 - accuracy: 0.8669 - val_loss: 0.4013 - val_accuracy: 0.8380\n",
      "Epoch 296/450\n",
      "48/48 [==============================] - 0s 4ms/step - loss: 0.3258 - accuracy: 0.8666 - val_loss: 0.4029 - val_accuracy: 0.8395\n",
      "Epoch 297/450\n",
      "48/48 [==============================] - 0s 4ms/step - loss: 0.3261 - accuracy: 0.8658 - val_loss: 0.4033 - val_accuracy: 0.8468\n",
      "Epoch 298/450\n",
      "48/48 [==============================] - 0s 4ms/step - loss: 0.3254 - accuracy: 0.8636 - val_loss: 0.4024 - val_accuracy: 0.8365\n",
      "Epoch 299/450\n",
      "48/48 [==============================] - 0s 4ms/step - loss: 0.3256 - accuracy: 0.8655 - val_loss: 0.4029 - val_accuracy: 0.8424\n",
      "Epoch 300/450\n",
      "48/48 [==============================] - 0s 4ms/step - loss: 0.3254 - accuracy: 0.8662 - val_loss: 0.4035 - val_accuracy: 0.8365\n",
      "Epoch 301/450\n",
      "48/48 [==============================] - 0s 4ms/step - loss: 0.3260 - accuracy: 0.8655 - val_loss: 0.4038 - val_accuracy: 0.8409\n",
      "Epoch 302/450\n",
      "48/48 [==============================] - 0s 4ms/step - loss: 0.3253 - accuracy: 0.8658 - val_loss: 0.4029 - val_accuracy: 0.8365\n",
      "Epoch 303/450\n",
      "48/48 [==============================] - 0s 4ms/step - loss: 0.3247 - accuracy: 0.8651 - val_loss: 0.4037 - val_accuracy: 0.8380\n",
      "Epoch 304/450\n",
      "48/48 [==============================] - 0s 4ms/step - loss: 0.3255 - accuracy: 0.8669 - val_loss: 0.4040 - val_accuracy: 0.8424\n",
      "Epoch 305/450\n",
      "48/48 [==============================] - 0s 4ms/step - loss: 0.3250 - accuracy: 0.8662 - val_loss: 0.4045 - val_accuracy: 0.8365\n",
      "Epoch 306/450\n",
      "48/48 [==============================] - 0s 4ms/step - loss: 0.3248 - accuracy: 0.8673 - val_loss: 0.4044 - val_accuracy: 0.8424\n",
      "Epoch 307/450\n",
      "48/48 [==============================] - 0s 4ms/step - loss: 0.3242 - accuracy: 0.8666 - val_loss: 0.4049 - val_accuracy: 0.8409\n",
      "Epoch 308/450\n",
      "48/48 [==============================] - 0s 4ms/step - loss: 0.3245 - accuracy: 0.8666 - val_loss: 0.4031 - val_accuracy: 0.8380\n",
      "Epoch 309/450\n",
      "48/48 [==============================] - 0s 6ms/step - loss: 0.3250 - accuracy: 0.8658 - val_loss: 0.4040 - val_accuracy: 0.8380\n",
      "Epoch 310/450\n",
      "48/48 [==============================] - 0s 4ms/step - loss: 0.3244 - accuracy: 0.8680 - val_loss: 0.4048 - val_accuracy: 0.8424\n",
      "Epoch 311/450\n",
      "48/48 [==============================] - 0s 4ms/step - loss: 0.3243 - accuracy: 0.8688 - val_loss: 0.4052 - val_accuracy: 0.8424\n",
      "Epoch 312/450\n",
      "48/48 [==============================] - 0s 4ms/step - loss: 0.3250 - accuracy: 0.8669 - val_loss: 0.4061 - val_accuracy: 0.8380\n",
      "Epoch 313/450\n",
      "48/48 [==============================] - 0s 4ms/step - loss: 0.3241 - accuracy: 0.8666 - val_loss: 0.4064 - val_accuracy: 0.8424\n",
      "Epoch 314/450\n",
      "48/48 [==============================] - 0s 4ms/step - loss: 0.3240 - accuracy: 0.8651 - val_loss: 0.4057 - val_accuracy: 0.8409\n",
      "Epoch 315/450\n",
      "48/48 [==============================] - 0s 4ms/step - loss: 0.3242 - accuracy: 0.8666 - val_loss: 0.4067 - val_accuracy: 0.8351\n",
      "Epoch 316/450\n",
      "48/48 [==============================] - 0s 4ms/step - loss: 0.3241 - accuracy: 0.8666 - val_loss: 0.4063 - val_accuracy: 0.8395\n",
      "Epoch 317/450\n",
      "48/48 [==============================] - 0s 4ms/step - loss: 0.3237 - accuracy: 0.8673 - val_loss: 0.4080 - val_accuracy: 0.8351\n",
      "Epoch 318/450\n",
      "48/48 [==============================] - 0s 4ms/step - loss: 0.3235 - accuracy: 0.8680 - val_loss: 0.4056 - val_accuracy: 0.8439\n",
      "Epoch 319/450\n",
      "48/48 [==============================] - 0s 4ms/step - loss: 0.3233 - accuracy: 0.8673 - val_loss: 0.4068 - val_accuracy: 0.8439\n",
      "Epoch 320/450\n",
      "48/48 [==============================] - 0s 4ms/step - loss: 0.3237 - accuracy: 0.8673 - val_loss: 0.4073 - val_accuracy: 0.8439\n",
      "Epoch 321/450\n",
      "48/48 [==============================] - 0s 4ms/step - loss: 0.3236 - accuracy: 0.8695 - val_loss: 0.4070 - val_accuracy: 0.8439\n",
      "Epoch 322/450\n",
      "48/48 [==============================] - 0s 4ms/step - loss: 0.3225 - accuracy: 0.8673 - val_loss: 0.4075 - val_accuracy: 0.8365\n",
      "Epoch 323/450\n",
      "48/48 [==============================] - 0s 6ms/step - loss: 0.3230 - accuracy: 0.8695 - val_loss: 0.4083 - val_accuracy: 0.8424\n",
      "Epoch 324/450\n",
      "48/48 [==============================] - 0s 4ms/step - loss: 0.3229 - accuracy: 0.8669 - val_loss: 0.4074 - val_accuracy: 0.8395\n",
      "Epoch 325/450\n",
      "48/48 [==============================] - 0s 4ms/step - loss: 0.3227 - accuracy: 0.8673 - val_loss: 0.4080 - val_accuracy: 0.8395\n",
      "Epoch 326/450\n",
      "48/48 [==============================] - 0s 7ms/step - loss: 0.3224 - accuracy: 0.8669 - val_loss: 0.4085 - val_accuracy: 0.8380\n",
      "Epoch 327/450\n",
      "48/48 [==============================] - 0s 4ms/step - loss: 0.3234 - accuracy: 0.8691 - val_loss: 0.4089 - val_accuracy: 0.8424\n",
      "Epoch 328/450\n",
      "48/48 [==============================] - 0s 4ms/step - loss: 0.3220 - accuracy: 0.8677 - val_loss: 0.4082 - val_accuracy: 0.8380\n",
      "Epoch 329/450\n",
      "48/48 [==============================] - 0s 4ms/step - loss: 0.3219 - accuracy: 0.8673 - val_loss: 0.4081 - val_accuracy: 0.8424\n",
      "Epoch 330/450\n",
      "48/48 [==============================] - 0s 4ms/step - loss: 0.3220 - accuracy: 0.8673 - val_loss: 0.4090 - val_accuracy: 0.8365\n",
      "Epoch 331/450\n",
      "48/48 [==============================] - 0s 7ms/step - loss: 0.3231 - accuracy: 0.8662 - val_loss: 0.4081 - val_accuracy: 0.8395\n",
      "Epoch 332/450\n",
      "48/48 [==============================] - 0s 4ms/step - loss: 0.3223 - accuracy: 0.8680 - val_loss: 0.4087 - val_accuracy: 0.8409\n",
      "Epoch 333/450\n",
      "48/48 [==============================] - 0s 4ms/step - loss: 0.3220 - accuracy: 0.8703 - val_loss: 0.4106 - val_accuracy: 0.8424\n",
      "Epoch 334/450\n",
      "48/48 [==============================] - 0s 4ms/step - loss: 0.3218 - accuracy: 0.8662 - val_loss: 0.4088 - val_accuracy: 0.8395\n",
      "Epoch 335/450\n",
      "48/48 [==============================] - 0s 6ms/step - loss: 0.3218 - accuracy: 0.8673 - val_loss: 0.4099 - val_accuracy: 0.8409\n",
      "Epoch 336/450\n",
      "48/48 [==============================] - 0s 4ms/step - loss: 0.3217 - accuracy: 0.8680 - val_loss: 0.4096 - val_accuracy: 0.8351\n",
      "Epoch 337/450\n",
      "48/48 [==============================] - 0s 4ms/step - loss: 0.3221 - accuracy: 0.8706 - val_loss: 0.4102 - val_accuracy: 0.8395\n",
      "Epoch 338/450\n",
      "48/48 [==============================] - 0s 4ms/step - loss: 0.3215 - accuracy: 0.8680 - val_loss: 0.4104 - val_accuracy: 0.8336\n",
      "Epoch 339/450\n",
      "48/48 [==============================] - 0s 4ms/step - loss: 0.3215 - accuracy: 0.8680 - val_loss: 0.4109 - val_accuracy: 0.8409\n",
      "Epoch 340/450\n",
      "48/48 [==============================] - 0s 4ms/step - loss: 0.3212 - accuracy: 0.8695 - val_loss: 0.4109 - val_accuracy: 0.8409\n",
      "Epoch 341/450\n",
      "48/48 [==============================] - 0s 4ms/step - loss: 0.3210 - accuracy: 0.8669 - val_loss: 0.4103 - val_accuracy: 0.8439\n",
      "Epoch 342/450\n",
      "48/48 [==============================] - 0s 4ms/step - loss: 0.3208 - accuracy: 0.8691 - val_loss: 0.4101 - val_accuracy: 0.8395\n",
      "Epoch 343/450\n",
      "48/48 [==============================] - 0s 4ms/step - loss: 0.3204 - accuracy: 0.8691 - val_loss: 0.4110 - val_accuracy: 0.8351\n",
      "Epoch 344/450\n",
      "48/48 [==============================] - 0s 4ms/step - loss: 0.3210 - accuracy: 0.8710 - val_loss: 0.4131 - val_accuracy: 0.8409\n",
      "Epoch 345/450\n",
      "48/48 [==============================] - 0s 4ms/step - loss: 0.3205 - accuracy: 0.8699 - val_loss: 0.4115 - val_accuracy: 0.8409\n",
      "Epoch 346/450\n",
      "48/48 [==============================] - 0s 4ms/step - loss: 0.3205 - accuracy: 0.8666 - val_loss: 0.4113 - val_accuracy: 0.8409\n",
      "Epoch 347/450\n",
      "48/48 [==============================] - 0s 6ms/step - loss: 0.3201 - accuracy: 0.8714 - val_loss: 0.4123 - val_accuracy: 0.8409\n",
      "Epoch 348/450\n",
      "48/48 [==============================] - 0s 4ms/step - loss: 0.3198 - accuracy: 0.8673 - val_loss: 0.4126 - val_accuracy: 0.8409\n",
      "Epoch 349/450\n",
      "48/48 [==============================] - 0s 4ms/step - loss: 0.3199 - accuracy: 0.8691 - val_loss: 0.4120 - val_accuracy: 0.8380\n",
      "Epoch 350/450\n",
      "48/48 [==============================] - 0s 4ms/step - loss: 0.3198 - accuracy: 0.8688 - val_loss: 0.4127 - val_accuracy: 0.8395\n",
      "Epoch 351/450\n",
      "48/48 [==============================] - 0s 4ms/step - loss: 0.3196 - accuracy: 0.8688 - val_loss: 0.4120 - val_accuracy: 0.8395\n",
      "Epoch 352/450\n",
      "48/48 [==============================] - 0s 4ms/step - loss: 0.3199 - accuracy: 0.8717 - val_loss: 0.4123 - val_accuracy: 0.8409\n",
      "Epoch 353/450\n",
      "48/48 [==============================] - 0s 4ms/step - loss: 0.3196 - accuracy: 0.8688 - val_loss: 0.4120 - val_accuracy: 0.8409\n",
      "Epoch 354/450\n",
      "48/48 [==============================] - 0s 4ms/step - loss: 0.3190 - accuracy: 0.8684 - val_loss: 0.4139 - val_accuracy: 0.8395\n",
      "Epoch 355/450\n",
      "48/48 [==============================] - 0s 4ms/step - loss: 0.3198 - accuracy: 0.8699 - val_loss: 0.4130 - val_accuracy: 0.8380\n",
      "Epoch 356/450\n",
      "48/48 [==============================] - 0s 4ms/step - loss: 0.3193 - accuracy: 0.8695 - val_loss: 0.4142 - val_accuracy: 0.8395\n",
      "Epoch 357/450\n",
      "48/48 [==============================] - 0s 4ms/step - loss: 0.3187 - accuracy: 0.8695 - val_loss: 0.4129 - val_accuracy: 0.8380\n",
      "Epoch 358/450\n",
      "48/48 [==============================] - 0s 4ms/step - loss: 0.3185 - accuracy: 0.8710 - val_loss: 0.4143 - val_accuracy: 0.8409\n",
      "Epoch 359/450\n",
      "48/48 [==============================] - 0s 5ms/step - loss: 0.3184 - accuracy: 0.8703 - val_loss: 0.4152 - val_accuracy: 0.8380\n",
      "Epoch 360/450\n",
      "48/48 [==============================] - 0s 4ms/step - loss: 0.3190 - accuracy: 0.8673 - val_loss: 0.4136 - val_accuracy: 0.8395\n",
      "Epoch 361/450\n",
      "48/48 [==============================] - 0s 4ms/step - loss: 0.3187 - accuracy: 0.8721 - val_loss: 0.4144 - val_accuracy: 0.8395\n",
      "Epoch 362/450\n",
      "48/48 [==============================] - 0s 4ms/step - loss: 0.3188 - accuracy: 0.8699 - val_loss: 0.4136 - val_accuracy: 0.8409\n",
      "Epoch 363/450\n",
      "48/48 [==============================] - 0s 4ms/step - loss: 0.3188 - accuracy: 0.8688 - val_loss: 0.4135 - val_accuracy: 0.8409\n",
      "Epoch 364/450\n",
      "48/48 [==============================] - 0s 4ms/step - loss: 0.3186 - accuracy: 0.8710 - val_loss: 0.4147 - val_accuracy: 0.8380\n",
      "Epoch 365/450\n",
      "48/48 [==============================] - 0s 4ms/step - loss: 0.3181 - accuracy: 0.8706 - val_loss: 0.4146 - val_accuracy: 0.8395\n",
      "Epoch 366/450\n",
      "48/48 [==============================] - 0s 4ms/step - loss: 0.3185 - accuracy: 0.8717 - val_loss: 0.4146 - val_accuracy: 0.8395\n",
      "Epoch 367/450\n",
      "48/48 [==============================] - 0s 4ms/step - loss: 0.3185 - accuracy: 0.8688 - val_loss: 0.4142 - val_accuracy: 0.8395\n",
      "Epoch 368/450\n",
      "48/48 [==============================] - 0s 4ms/step - loss: 0.3183 - accuracy: 0.8710 - val_loss: 0.4148 - val_accuracy: 0.8395\n",
      "Epoch 369/450\n",
      "48/48 [==============================] - 0s 4ms/step - loss: 0.3183 - accuracy: 0.8699 - val_loss: 0.4152 - val_accuracy: 0.8395\n",
      "Epoch 370/450\n",
      "48/48 [==============================] - 0s 4ms/step - loss: 0.3180 - accuracy: 0.8710 - val_loss: 0.4156 - val_accuracy: 0.8395\n",
      "Epoch 371/450\n",
      "48/48 [==============================] - 0s 5ms/step - loss: 0.3170 - accuracy: 0.8728 - val_loss: 0.4169 - val_accuracy: 0.8424\n",
      "Epoch 372/450\n",
      "48/48 [==============================] - 0s 4ms/step - loss: 0.3206 - accuracy: 0.8673 - val_loss: 0.4152 - val_accuracy: 0.8395\n",
      "Epoch 373/450\n",
      "48/48 [==============================] - 0s 4ms/step - loss: 0.3178 - accuracy: 0.8680 - val_loss: 0.4155 - val_accuracy: 0.8409\n",
      "Epoch 374/450\n",
      "48/48 [==============================] - 0s 4ms/step - loss: 0.3176 - accuracy: 0.8725 - val_loss: 0.4166 - val_accuracy: 0.8380\n",
      "Epoch 375/450\n",
      "48/48 [==============================] - 0s 4ms/step - loss: 0.3174 - accuracy: 0.8721 - val_loss: 0.4177 - val_accuracy: 0.8409\n",
      "Epoch 376/450\n",
      "48/48 [==============================] - 0s 4ms/step - loss: 0.3188 - accuracy: 0.8699 - val_loss: 0.4168 - val_accuracy: 0.8409\n",
      "Epoch 377/450\n",
      "48/48 [==============================] - 0s 4ms/step - loss: 0.3173 - accuracy: 0.8703 - val_loss: 0.4166 - val_accuracy: 0.8395\n",
      "Epoch 378/450\n",
      "48/48 [==============================] - 0s 4ms/step - loss: 0.3168 - accuracy: 0.8725 - val_loss: 0.4179 - val_accuracy: 0.8409\n",
      "Epoch 379/450\n",
      "48/48 [==============================] - 0s 4ms/step - loss: 0.3172 - accuracy: 0.8714 - val_loss: 0.4164 - val_accuracy: 0.8395\n",
      "Epoch 380/450\n",
      "48/48 [==============================] - 0s 4ms/step - loss: 0.3178 - accuracy: 0.8703 - val_loss: 0.4193 - val_accuracy: 0.8395\n",
      "Epoch 381/450\n",
      "48/48 [==============================] - 0s 4ms/step - loss: 0.3170 - accuracy: 0.8721 - val_loss: 0.4167 - val_accuracy: 0.8424\n",
      "Epoch 382/450\n",
      "48/48 [==============================] - 0s 4ms/step - loss: 0.3172 - accuracy: 0.8721 - val_loss: 0.4176 - val_accuracy: 0.8395\n",
      "Epoch 383/450\n",
      "48/48 [==============================] - 0s 4ms/step - loss: 0.3166 - accuracy: 0.8706 - val_loss: 0.4187 - val_accuracy: 0.8380\n",
      "Epoch 384/450\n",
      "48/48 [==============================] - 0s 6ms/step - loss: 0.3172 - accuracy: 0.8714 - val_loss: 0.4179 - val_accuracy: 0.8380\n",
      "Epoch 385/450\n",
      "48/48 [==============================] - 0s 4ms/step - loss: 0.3168 - accuracy: 0.8688 - val_loss: 0.4165 - val_accuracy: 0.8380\n",
      "Epoch 386/450\n",
      "48/48 [==============================] - 0s 4ms/step - loss: 0.3167 - accuracy: 0.8725 - val_loss: 0.4191 - val_accuracy: 0.8380\n",
      "Epoch 387/450\n",
      "48/48 [==============================] - 0s 4ms/step - loss: 0.3170 - accuracy: 0.8710 - val_loss: 0.4201 - val_accuracy: 0.8424\n",
      "Epoch 388/450\n",
      "48/48 [==============================] - 0s 4ms/step - loss: 0.3167 - accuracy: 0.8710 - val_loss: 0.4209 - val_accuracy: 0.8395\n",
      "Epoch 389/450\n",
      "48/48 [==============================] - 0s 4ms/step - loss: 0.3159 - accuracy: 0.8728 - val_loss: 0.4189 - val_accuracy: 0.8365\n",
      "Epoch 390/450\n",
      "48/48 [==============================] - 0s 4ms/step - loss: 0.3164 - accuracy: 0.8717 - val_loss: 0.4192 - val_accuracy: 0.8365\n",
      "Epoch 391/450\n",
      "48/48 [==============================] - 0s 4ms/step - loss: 0.3161 - accuracy: 0.8739 - val_loss: 0.4199 - val_accuracy: 0.8365\n",
      "Epoch 392/450\n",
      "48/48 [==============================] - 0s 4ms/step - loss: 0.3156 - accuracy: 0.8706 - val_loss: 0.4214 - val_accuracy: 0.8409\n",
      "Epoch 393/450\n",
      "48/48 [==============================] - 0s 5ms/step - loss: 0.3163 - accuracy: 0.8714 - val_loss: 0.4200 - val_accuracy: 0.8380\n",
      "Epoch 394/450\n",
      "48/48 [==============================] - 0s 4ms/step - loss: 0.3159 - accuracy: 0.8710 - val_loss: 0.4212 - val_accuracy: 0.8351\n",
      "Epoch 395/450\n",
      "48/48 [==============================] - 0s 6ms/step - loss: 0.3159 - accuracy: 0.8736 - val_loss: 0.4203 - val_accuracy: 0.8380\n",
      "Epoch 396/450\n",
      "48/48 [==============================] - 0s 4ms/step - loss: 0.3158 - accuracy: 0.8725 - val_loss: 0.4210 - val_accuracy: 0.8380\n",
      "Epoch 397/450\n",
      "48/48 [==============================] - 0s 4ms/step - loss: 0.3162 - accuracy: 0.8732 - val_loss: 0.4217 - val_accuracy: 0.8439\n",
      "Epoch 398/450\n",
      "48/48 [==============================] - 0s 4ms/step - loss: 0.3155 - accuracy: 0.8725 - val_loss: 0.4229 - val_accuracy: 0.8380\n",
      "Epoch 399/450\n",
      "48/48 [==============================] - 0s 4ms/step - loss: 0.3154 - accuracy: 0.8714 - val_loss: 0.4224 - val_accuracy: 0.8409\n",
      "Epoch 400/450\n",
      "48/48 [==============================] - 0s 5ms/step - loss: 0.3153 - accuracy: 0.8743 - val_loss: 0.4207 - val_accuracy: 0.8365\n",
      "Epoch 401/450\n",
      "48/48 [==============================] - 0s 5ms/step - loss: 0.3155 - accuracy: 0.8728 - val_loss: 0.4224 - val_accuracy: 0.8439\n",
      "Epoch 402/450\n",
      "48/48 [==============================] - 0s 4ms/step - loss: 0.3155 - accuracy: 0.8743 - val_loss: 0.4242 - val_accuracy: 0.8409\n",
      "Epoch 403/450\n",
      "48/48 [==============================] - 0s 4ms/step - loss: 0.3155 - accuracy: 0.8728 - val_loss: 0.4235 - val_accuracy: 0.8395\n",
      "Epoch 404/450\n",
      "48/48 [==============================] - 0s 6ms/step - loss: 0.3155 - accuracy: 0.8725 - val_loss: 0.4215 - val_accuracy: 0.8380\n",
      "Epoch 405/450\n",
      "48/48 [==============================] - 0s 4ms/step - loss: 0.3151 - accuracy: 0.8721 - val_loss: 0.4216 - val_accuracy: 0.8365\n",
      "Epoch 406/450\n",
      "48/48 [==============================] - 0s 4ms/step - loss: 0.3153 - accuracy: 0.8717 - val_loss: 0.4243 - val_accuracy: 0.8424\n",
      "Epoch 407/450\n",
      "48/48 [==============================] - 0s 4ms/step - loss: 0.3148 - accuracy: 0.8743 - val_loss: 0.4222 - val_accuracy: 0.8365\n",
      "Epoch 408/450\n",
      "48/48 [==============================] - 0s 4ms/step - loss: 0.3154 - accuracy: 0.8739 - val_loss: 0.4228 - val_accuracy: 0.8365\n",
      "Epoch 409/450\n",
      "48/48 [==============================] - 0s 4ms/step - loss: 0.3152 - accuracy: 0.8714 - val_loss: 0.4237 - val_accuracy: 0.8365\n",
      "Epoch 410/450\n",
      "48/48 [==============================] - 0s 4ms/step - loss: 0.3151 - accuracy: 0.8736 - val_loss: 0.4235 - val_accuracy: 0.8380\n",
      "Epoch 411/450\n",
      "48/48 [==============================] - 0s 4ms/step - loss: 0.3139 - accuracy: 0.8750 - val_loss: 0.4234 - val_accuracy: 0.8380\n",
      "Epoch 412/450\n",
      "48/48 [==============================] - 0s 4ms/step - loss: 0.3149 - accuracy: 0.8721 - val_loss: 0.4229 - val_accuracy: 0.8380\n",
      "Epoch 413/450\n",
      "48/48 [==============================] - 0s 7ms/step - loss: 0.3142 - accuracy: 0.8717 - val_loss: 0.4233 - val_accuracy: 0.8380\n",
      "Epoch 414/450\n",
      "48/48 [==============================] - 0s 5ms/step - loss: 0.3154 - accuracy: 0.8725 - val_loss: 0.4211 - val_accuracy: 0.8365\n",
      "Epoch 415/450\n",
      "48/48 [==============================] - 0s 4ms/step - loss: 0.3139 - accuracy: 0.8736 - val_loss: 0.4241 - val_accuracy: 0.8395\n",
      "Epoch 416/450\n",
      "48/48 [==============================] - 0s 7ms/step - loss: 0.3144 - accuracy: 0.8732 - val_loss: 0.4240 - val_accuracy: 0.8365\n",
      "Epoch 417/450\n",
      "48/48 [==============================] - 0s 6ms/step - loss: 0.3146 - accuracy: 0.8739 - val_loss: 0.4258 - val_accuracy: 0.8424\n",
      "Epoch 418/450\n",
      "48/48 [==============================] - 0s 4ms/step - loss: 0.3150 - accuracy: 0.8714 - val_loss: 0.4230 - val_accuracy: 0.8351\n",
      "Epoch 419/450\n",
      "48/48 [==============================] - 0s 4ms/step - loss: 0.3142 - accuracy: 0.8736 - val_loss: 0.4236 - val_accuracy: 0.8365\n",
      "Epoch 420/450\n",
      "48/48 [==============================] - 0s 4ms/step - loss: 0.3139 - accuracy: 0.8739 - val_loss: 0.4237 - val_accuracy: 0.8365\n",
      "Epoch 421/450\n",
      "48/48 [==============================] - 0s 4ms/step - loss: 0.3141 - accuracy: 0.8739 - val_loss: 0.4231 - val_accuracy: 0.8365\n",
      "Epoch 422/450\n",
      "48/48 [==============================] - 0s 4ms/step - loss: 0.3151 - accuracy: 0.8721 - val_loss: 0.4260 - val_accuracy: 0.8439\n",
      "Epoch 423/450\n",
      "48/48 [==============================] - 0s 4ms/step - loss: 0.3155 - accuracy: 0.8714 - val_loss: 0.4238 - val_accuracy: 0.8351\n",
      "Epoch 424/450\n",
      "48/48 [==============================] - 0s 4ms/step - loss: 0.3136 - accuracy: 0.8754 - val_loss: 0.4236 - val_accuracy: 0.8336\n",
      "Epoch 425/450\n",
      "48/48 [==============================] - 0s 4ms/step - loss: 0.3141 - accuracy: 0.8762 - val_loss: 0.4246 - val_accuracy: 0.8365\n",
      "Epoch 426/450\n",
      "48/48 [==============================] - 0s 4ms/step - loss: 0.3145 - accuracy: 0.8717 - val_loss: 0.4235 - val_accuracy: 0.8336\n",
      "Epoch 427/450\n",
      "48/48 [==============================] - 0s 4ms/step - loss: 0.3135 - accuracy: 0.8717 - val_loss: 0.4234 - val_accuracy: 0.8365\n",
      "Epoch 428/450\n",
      "48/48 [==============================] - 0s 4ms/step - loss: 0.3134 - accuracy: 0.8717 - val_loss: 0.4235 - val_accuracy: 0.8321\n",
      "Epoch 429/450\n",
      "48/48 [==============================] - 0s 4ms/step - loss: 0.3137 - accuracy: 0.8717 - val_loss: 0.4250 - val_accuracy: 0.8336\n",
      "Epoch 430/450\n",
      "48/48 [==============================] - 0s 6ms/step - loss: 0.3147 - accuracy: 0.8717 - val_loss: 0.4245 - val_accuracy: 0.8336\n",
      "Epoch 431/450\n",
      "48/48 [==============================] - 0s 4ms/step - loss: 0.3138 - accuracy: 0.8758 - val_loss: 0.4246 - val_accuracy: 0.8321\n",
      "Epoch 432/450\n",
      "48/48 [==============================] - 0s 4ms/step - loss: 0.3132 - accuracy: 0.8739 - val_loss: 0.4274 - val_accuracy: 0.8247\n",
      "Epoch 433/450\n",
      "48/48 [==============================] - 0s 4ms/step - loss: 0.3149 - accuracy: 0.8758 - val_loss: 0.4264 - val_accuracy: 0.8351\n",
      "Epoch 434/450\n",
      "48/48 [==============================] - 0s 4ms/step - loss: 0.3132 - accuracy: 0.8736 - val_loss: 0.4262 - val_accuracy: 0.8321\n",
      "Epoch 435/450\n",
      "48/48 [==============================] - 0s 4ms/step - loss: 0.3144 - accuracy: 0.8739 - val_loss: 0.4256 - val_accuracy: 0.8321\n",
      "Epoch 436/450\n",
      "48/48 [==============================] - 0s 4ms/step - loss: 0.3137 - accuracy: 0.8750 - val_loss: 0.4252 - val_accuracy: 0.8351\n",
      "Epoch 437/450\n",
      "48/48 [==============================] - 0s 4ms/step - loss: 0.3128 - accuracy: 0.8754 - val_loss: 0.4268 - val_accuracy: 0.8336\n",
      "Epoch 438/450\n",
      "48/48 [==============================] - 0s 4ms/step - loss: 0.3129 - accuracy: 0.8725 - val_loss: 0.4272 - val_accuracy: 0.8292\n",
      "Epoch 439/450\n",
      "48/48 [==============================] - 0s 4ms/step - loss: 0.3129 - accuracy: 0.8739 - val_loss: 0.4264 - val_accuracy: 0.8321\n",
      "Epoch 440/450\n",
      "48/48 [==============================] - 0s 4ms/step - loss: 0.3138 - accuracy: 0.8754 - val_loss: 0.4267 - val_accuracy: 0.8351\n",
      "Epoch 441/450\n",
      "48/48 [==============================] - 0s 4ms/step - loss: 0.3130 - accuracy: 0.8736 - val_loss: 0.4263 - val_accuracy: 0.8336\n",
      "Epoch 442/450\n",
      "48/48 [==============================] - 0s 6ms/step - loss: 0.3124 - accuracy: 0.8747 - val_loss: 0.4283 - val_accuracy: 0.8365\n",
      "Epoch 443/450\n",
      "48/48 [==============================] - 0s 4ms/step - loss: 0.3130 - accuracy: 0.8754 - val_loss: 0.4266 - val_accuracy: 0.8321\n",
      "Epoch 444/450\n",
      "48/48 [==============================] - 0s 4ms/step - loss: 0.3130 - accuracy: 0.8754 - val_loss: 0.4275 - val_accuracy: 0.8336\n",
      "Epoch 445/450\n",
      "48/48 [==============================] - 0s 4ms/step - loss: 0.3121 - accuracy: 0.8747 - val_loss: 0.4256 - val_accuracy: 0.8336\n",
      "Epoch 446/450\n",
      "48/48 [==============================] - 0s 4ms/step - loss: 0.3126 - accuracy: 0.8762 - val_loss: 0.4251 - val_accuracy: 0.8306\n",
      "Epoch 447/450\n",
      "48/48 [==============================] - 0s 4ms/step - loss: 0.3128 - accuracy: 0.8750 - val_loss: 0.4285 - val_accuracy: 0.8351\n",
      "Epoch 448/450\n",
      "48/48 [==============================] - 0s 4ms/step - loss: 0.3118 - accuracy: 0.8750 - val_loss: 0.4265 - val_accuracy: 0.8336\n",
      "Epoch 449/450\n",
      "48/48 [==============================] - 0s 4ms/step - loss: 0.3128 - accuracy: 0.8754 - val_loss: 0.4268 - val_accuracy: 0.8351\n",
      "Epoch 450/450\n",
      "48/48 [==============================] - 0s 4ms/step - loss: 0.3128 - accuracy: 0.8754 - val_loss: 0.4300 - val_accuracy: 0.8306\n"
     ]
    }
   ],
   "source": [
    "# train the model\n",
    "\n",
    "\n",
    "hist=ann_clf.fit(X_train,y_train,batch_size = 57, epochs=450,validation_split=0.2)"
   ]
  },
  {
   "cell_type": "code",
   "execution_count": 33,
   "metadata": {
    "colab": {
     "base_uri": "https://localhost:8080/"
    },
    "executionInfo": {
     "elapsed": 1884,
     "status": "ok",
     "timestamp": 1682440898513,
     "user": {
      "displayName": "Nevedan U",
      "userId": "02429391569345386637"
     },
     "user_tz": -330
    },
    "id": "N7kXnmjW83Wi",
    "outputId": "8f30b2e2-5312-4376-dd05-f50e2827f4ba"
   },
   "outputs": [
    {
     "name": "stdout",
     "output_type": "stream",
     "text": [
      "27/27 [==============================] - 0s 2ms/step\n",
      "106/106 [==============================] - 0s 2ms/step\n",
      "TRAINING\n",
      "Accuracy Score: 0.8679245283018868\n",
      "Confusion Matrix: [[2800   71]\n",
      " [ 377  144]]\n",
      "Classification Report:               precision    recall  f1-score   support\n",
      "\n",
      "           0       0.88      0.98      0.93      2871\n",
      "           1       0.67      0.28      0.39       521\n",
      "\n",
      "    accuracy                           0.87      3392\n",
      "   macro avg       0.78      0.63      0.66      3392\n",
      "weighted avg       0.85      0.87      0.84      3392\n",
      "\n",
      "TESTING\n",
      "Accuracy Score: 0.8337264150943396\n",
      "Confusion Matrix: [[693  32]\n",
      " [109  14]]\n",
      "Classification Report:               precision    recall  f1-score   support\n",
      "\n",
      "           0       0.86      0.96      0.91       725\n",
      "           1       0.30      0.11      0.17       123\n",
      "\n",
      "    accuracy                           0.83       848\n",
      "   macro avg       0.58      0.53      0.54       848\n",
      "weighted avg       0.78      0.83      0.80       848\n",
      "\n"
     ]
    },
    {
     "data": {
      "image/png": "[encoded data removed]",
      "text/plain": [
       "<Figure size 640x480 with 1 Axes>"
      ]
     },
     "metadata": {},
     "output_type": "display_data"
    }
   ],
   "source": [
    "# evaluate the model\n",
    "y_pred_ann = np.round(ann_clf.predict(X_test))\n",
    "y_ann_train_pred = np.round(ann_clf.predict(X_train))\n",
    "print(\"TRAINING\")\n",
    "print('Accuracy Score:', accuracy_score(y_train, y_ann_train_pred))\n",
    "print('Confusion Matrix:', confusion_matrix(y_train, y_ann_train_pred))\n",
    "print('Classification Report:', classification_report(y_train, y_ann_train_pred))\n",
    "print(\"TESTING\")\n",
    "print('Accuracy Score:', accuracy_score(y_test, y_pred_ann))\n",
    "print('Confusion Matrix:', confusion_matrix(y_test, y_pred_ann))\n",
    "print('Classification Report:', classification_report(y_test, y_pred_ann))\n",
    "\n",
    "#plotting graph\n",
    "train_acc = accuracy_score(y_train, y_ann_train_pred)\n",
    "test_acc = accuracy_score(y_test, y_pred_ann)\n",
    "\n",
    "# create a bar chart to display accuracy scores\n",
    "fig, ax = plt.subplots()\n",
    "ax.bar([0.2, 0.6], [train_acc, test_acc], color=['green', 'orange'], width=0.2)\n",
    "ax.set_title('Accuracy Score')\n",
    "ax.set_xlabel('Dataset')\n",
    "ax.set_ylabel('Accuracy')\n",
    "ax.set_xticks([0.2, 0.6])\n",
    "ax.set_xticklabels(['Train', 'Test'])\n",
    "ax.set_ylim([0, 1])\n",
    "ax.set_yticks([i*0.1 for i in range(11)])\n",
    "plt.show()\n"
   ]
  },
  {
   "cell_type": "code",
   "execution_count": 34,
   "metadata": {},
   "outputs": [
    {
     "name": "stdout",
     "output_type": "stream",
     "text": [
      "27/27 [==============================] - 0s 2ms/step\n"
     ]
    },
    {
     "data": {
      "image/png": "[encoded data removed]",
      "text/plain": [
       "<Figure size 640x480 with 1 Axes>"
      ]
     },
     "metadata": {},
     "output_type": "display_data"
    }
   ],
   "source": [
    "#ROC AUC\n",
    "\n",
    "from sklearn.metrics import roc_curve, auc\n",
    "\n",
    "# Predict probabilities for test set for all three models\n",
    "y_pred_proba_rf = nb_clf.predict_proba(X_test)[:, 1]\n",
    "y_pred_proba_nb = rf_clf.predict_proba(X_test)[:, 1]\n",
    "y_pred_proba_nn = ann_clf.predict(X_test)[:, 0]\n",
    "\n",
    "# Compute ROC curve and ROC area for each model\n",
    "fpr_rf, tpr_rf, _ = roc_curve(y_test, y_pred_proba_rf)\n",
    "roc_auc_logreg = auc(fpr_rf, tpr_rf)\n",
    "\n",
    "fpr_nb, tpr_nb, _ = roc_curve(y_test, y_pred_proba_nb)\n",
    "roc_auc_nb = auc(fpr_nb, tpr_nb)\n",
    "\n",
    "fpr_nn, tpr_nn, _ = roc_curve(y_test, y_pred_proba_nn)\n",
    "roc_auc_nn = auc(fpr_nn, tpr_nn)\n",
    "\n",
    "# Plot ROC curve\n",
    "plt.plot(fpr_rf, tpr_rf, color='blue', lw=1, label='Random Forest Classifier(AUC = %0.2f)' % roc_auc_logreg)\n",
    "plt.plot(fpr_nb, tpr_nb, color='green', lw=1, label='Naive Bayes (AUC = %0.2f)' % roc_auc_nb)\n",
    "plt.plot(fpr_nn, tpr_nn, color='orange', lw=1, label='Neural Network (AUC = %0.2f)' % roc_auc_nn)\n",
    "\n",
    "plt.plot([0, 1], [0, 1], color='gray', lw=1, linestyle='--')\n",
    "plt.xlim([0.0, 1.0])\n",
    "plt.ylim([0.0, 1.05])\n",
    "plt.xlabel('False Positive Rate')\n",
    "plt.ylabel('True Positive Rate')\n",
    "plt.title('Receiver Operating Characteristic')\n",
    "plt.legend(loc=\"lower right\")\n",
    "plt.show()\n"
   ]
  },
  {
   "cell_type": "code",
   "execution_count": 35,
   "metadata": {},
   "outputs": [],
   "source": [
    "import gradio as gr  "
   ]
  },
  {
   "cell_type": "code",
   "execution_count": 36,
   "metadata": {},
   "outputs": [],
   "source": [
    "#gradio with 8 fetaures\n",
    "\n",
    "def input(male, age, education, currentSmoker, cigsPerDay, BPMeds,\n",
    "       prevalentStroke, prevalentHyp, diabetes, totChol, sysBP,\n",
    "       diaBP, BMI, heartRate, glucose):\n",
    "\n",
    "    new_values = pd.DataFrame({\n",
    "    'male': [male] ,\n",
    "    'age': [age],\n",
    "    'education': [education],\n",
    "    'currentSmoker': [currentSmoker],\n",
    "    'cigsPerDay': [cigsPerDay],\n",
    "    'BPMeds': [BPMeds],\n",
    "    'prevalentStroke': [prevalentStroke],\n",
    "    'prevalentHyp': [prevalentHyp],\n",
    "    'diabetes': [diabetes],\n",
    "    'totChol': [totChol],\n",
    "    'sysBP': [sysBP],\n",
    "    'diaBP': [diaBP],\n",
    "    'BMI': [BMI],\n",
    "    'heartRate': [heartRate],\n",
    "    'glucose': [glucose]\n",
    "\n",
    "    })\n",
    "    new_values_scaled = scaler.transform(new_values)\n",
    "    new_prediction = np.round(ann_clf.predict(new_values_scaled))\n",
    "    return new_prediction\n",
    "\n"
   ]
  },
  {
   "cell_type": "code",
   "execution_count": 37,
   "metadata": {},
   "outputs": [
    {
     "name": "stdout",
     "output_type": "stream",
     "text": [
      "Running on local URL:  http://127.0.0.1:7860\n",
      "Running on public URL: https://284cfc029268510711.gradio.live\n",
      "\n",
      "This share link expires in 72 hours. For free permanent hosting and GPU upgrades, run `gradio deploy` from Terminal to deploy to Spaces (https://huggingface.co/spaces)\n"
     ]
    },
    {
     "data": {
      "text/html": [
       "<div><iframe src=\"https://284cfc029268510711.gradio.live\" width=\"100%\" height=\"500\" allow=\"autoplay; camera; microphone; clipboard-read; clipboard-write;\" frameborder=\"0\" allowfullscreen></iframe></div>"
      ],
      "text/plain": [
       "<IPython.core.display.HTML object>"
      ]
     },
     "metadata": {},
     "output_type": "display_data"
    },
    {
     "data": {
      "text/plain": []
     },
     "execution_count": 37,
     "metadata": {},
     "output_type": "execute_result"
    }
   ],
   "source": [
    "\n",
    "\n",
    "interface = gr.Interface(fn=input,\n",
    "                    inputs=[\"number\",\"number\",\"number\",\"number\",\"number\",\"number\",\"number\",\"number\",\"number\",\"number\",\"number\",\"number\",\"number\",\"number\",\"number\"],\n",
    "                    outputs=['text'],\n",
    "                    title=\"Hearte Disease Prediction Using Framingham Heart Disease Dataset\"\n",
    "                    # theme='huggingface',\n",
    "                    # css = \"\"\" ,\n",
    "                    # body {background-color : grey}\n",
    "                    # \"\"\"\n",
    "                    )\n",
    "\n",
    "\n",
    "interface.launch(share='True') "
   ]
  },
  {
   "cell_type": "code",
   "execution_count": 38,
   "metadata": {},
   "outputs": [],
   "source": [
    "import pickle"
   ]
  },
  {
   "cell_type": "code",
   "execution_count": 39,
   "metadata": {},
   "outputs": [],
   "source": [
    "with open('heart_model.pkl','wb') as files:\n",
    "    pickle.dump(ann_clf,files)"
   ]
  },
  {
   "cell_type": "code",
   "execution_count": 40,
   "metadata": {},
   "outputs": [],
   "source": [
    "# import pickle\n",
    "\n",
    "# save the scaler object to a file\n",
    "with open('scalerheart.pkl', 'wb') as f:\n",
    "    pickle.dump(scaler, f)"
   ]
  }
 ],
 "metadata": {
  "colab": {
   "provenance": []
  },
  "kernelspec": {
   "display_name": "Python 3 (ipykernel)",
   "language": "python",
   "name": "python3"
  },
  "language_info": {
   "codemirror_mode": {
    "name": "ipython",
    "version": 3
   },
   "file_extension": ".py",
   "mimetype": "text/x-python",
   "name": "python",
   "nbconvert_exporter": "python",
   "pygments_lexer": "ipython3",
   "version": "3.11.4"
  }
 },
 "nbformat": 4,
 "nbformat_minor": 1
}
